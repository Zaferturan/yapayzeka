{
 "cells": [
  {
   "attachments": {
    "image.png": {
     "image/png": "[encoded data removed]"
    }
   },
   "cell_type": "markdown",
   "id": "49bb0de3",
   "metadata": {},
   "source": [
    "![image.png](attachment:image.png)"
   ]
  },
  {
   "cell_type": "markdown",
   "id": "e2a6dc8c",
   "metadata": {},
   "source": [
    "# Numeric Python (NumPy)"
   ]
  },
  {
   "cell_type": "markdown",
   "id": "88bbfb6d",
   "metadata": {},
   "source": [
    "Anaconda kullandığımız için numpy kütüphanesi kurulu olarak geliyor.\n",
    "\n",
    "<b>#pip install numpy</b>"
   ]
  },
  {
   "cell_type": "code",
   "execution_count": 1,
   "id": "75a36eb8",
   "metadata": {},
   "outputs": [],
   "source": [
    "import numpy as np # kısaltma ile içe aktar ve kullan"
   ]
  },
  {
   "cell_type": "code",
   "execution_count": 2,
   "id": "ec25f05a",
   "metadata": {},
   "outputs": [
    {
     "data": {
      "text/plain": [
       "'2.0.0'"
      ]
     },
     "execution_count": 2,
     "metadata": {},
     "output_type": "execute_result"
    }
   ],
   "source": [
    "np.__version__"
   ]
  },
  {
   "cell_type": "markdown",
   "id": "7f3c8672",
   "metadata": {},
   "source": [
    "#Kütüphaneyi güncellemek için"
   ]
  },
  {
   "cell_type": "code",
   "execution_count": 3,
   "id": "04fe4da7",
   "metadata": {},
   "outputs": [
    {
     "name": "stdout",
     "output_type": "stream",
     "text": [
      "Requirement already satisfied: numpy in c:\\users\\murat\\.conda\\envs\\jupyterlab\\lib\\site-packages (2.0.0)\n",
      "Note: you may need to restart the kernel to use updated packages.\n"
     ]
    }
   ],
   "source": [
    "pip install --upgrade numpy"
   ]
  },
  {
   "cell_type": "code",
   "execution_count": 6,
   "id": "f1675066",
   "metadata": {},
   "outputs": [
    {
     "data": {
      "text/plain": [
       "range(0, 10)"
      ]
     },
     "execution_count": 6,
     "metadata": {},
     "output_type": "execute_result"
    }
   ],
   "source": [
    "range(10)"
   ]
  },
  {
   "cell_type": "code",
   "execution_count": 8,
   "id": "861bb8c1",
   "metadata": {},
   "outputs": [
    {
     "name": "stdout",
     "output_type": "stream",
     "text": [
      "0 1 2 3 4 5 6 7 8 9\n"
     ]
    }
   ],
   "source": [
    "print(*range(10))"
   ]
  },
  {
   "cell_type": "code",
   "execution_count": 9,
   "id": "ffb0a131",
   "metadata": {},
   "outputs": [
    {
     "data": {
      "text/plain": [
       "[0, 1, 2, 3, 4, 5, 6, 7, 8, 9]"
      ]
     },
     "execution_count": 9,
     "metadata": {},
     "output_type": "execute_result"
    }
   ],
   "source": [
    "list(range(10))"
   ]
  },
  {
   "cell_type": "code",
   "execution_count": 5,
   "id": "c3c75ad6",
   "metadata": {},
   "outputs": [
    {
     "data": {
      "text/plain": [
       "array([0, 1, 2, 3, 4, 5, 6, 7, 8, 9])"
      ]
     },
     "execution_count": 5,
     "metadata": {},
     "output_type": "execute_result"
    }
   ],
   "source": [
    "#numpy dizisi oluşturma\n",
    "my_numbers=np.array(list(range(10)))\n",
    "my_numbers"
   ]
  },
  {
   "cell_type": "code",
   "execution_count": 10,
   "id": "a214486a",
   "metadata": {},
   "outputs": [
    {
     "data": {
      "text/plain": [
       "dtype('int64')"
      ]
     },
     "execution_count": 10,
     "metadata": {},
     "output_type": "execute_result"
    }
   ],
   "source": [
    "my_numbers.dtype"
   ]
  },
  {
   "attachments": {
    "image.png": {
     "image/png": "[encoded data removed]"
    }
   },
   "cell_type": "markdown",
   "id": "7b52840b",
   "metadata": {},
   "source": [
    "![image.png](attachment:image.png)"
   ]
  },
  {
   "cell_type": "markdown",
   "id": "283164ac",
   "metadata": {},
   "source": [
    "numpy ın farklı versiyonalrında dtype farklı görünebilir."
   ]
  },
  {
   "cell_type": "code",
   "execution_count": 12,
   "id": "d5ef78dd",
   "metadata": {},
   "outputs": [
    {
     "data": {
      "text/plain": [
       "8"
      ]
     },
     "execution_count": 12,
     "metadata": {},
     "output_type": "execute_result"
    }
   ],
   "source": [
    "#Itemsize veri tipinin byte cinsinden boyutunu verir\n",
    "my_numbers.itemsize"
   ]
  },
  {
   "cell_type": "markdown",
   "id": "75c46325",
   "metadata": {},
   "source": [
    "6t bit / 8 (8 bit = 1 byte olduğu için) "
   ]
  },
  {
   "cell_type": "code",
   "execution_count": 13,
   "id": "d1ac2299",
   "metadata": {},
   "outputs": [
    {
     "data": {
      "text/plain": [
       "'0b1010'"
      ]
     },
     "execution_count": 13,
     "metadata": {},
     "output_type": "execute_result"
    }
   ],
   "source": [
    "# 0 sayısı için 2 lik sayı sistmeinde gösterimi\n",
    "bin(10)"
   ]
  },
  {
   "cell_type": "markdown",
   "id": "be2640e2",
   "metadata": {},
   "source": [
    "8 bit sayı için en büyük sayı"
   ]
  },
  {
   "cell_type": "code",
   "execution_count": 15,
   "id": "254daab3",
   "metadata": {},
   "outputs": [
    {
     "data": {
      "text/plain": [
       "255"
      ]
     },
     "execution_count": 15,
     "metadata": {},
     "output_type": "execute_result"
    }
   ],
   "source": [
    "2**8-1"
   ]
  },
  {
   "cell_type": "markdown",
   "id": "c60aa41c",
   "metadata": {},
   "source": [
    "Bir numpy dizisinde farklı veri türünde değerler oalbilir."
   ]
  },
  {
   "cell_type": "code",
   "execution_count": 17,
   "id": "a697ceee",
   "metadata": {},
   "outputs": [
    {
     "data": {
      "text/plain": [
       "array(['kırmızı', 'beyaz'], dtype='<U7')"
      ]
     },
     "execution_count": 17,
     "metadata": {},
     "output_type": "execute_result"
    }
   ],
   "source": [
    "renkler=np.array(['kırmızı','beyaz'])\n",
    "renkler"
   ]
  },
  {
   "cell_type": "markdown",
   "id": "461828e7",
   "metadata": {},
   "source": [
    "U7: Unicode string"
   ]
  },
  {
   "cell_type": "code",
   "execution_count": 18,
   "id": "a1b8c340",
   "metadata": {},
   "outputs": [
    {
     "data": {
      "text/plain": [
       "28"
      ]
     },
     "execution_count": 18,
     "metadata": {},
     "output_type": "execute_result"
    }
   ],
   "source": [
    "renkler.itemsize"
   ]
  },
  {
   "cell_type": "markdown",
   "id": "6161a980",
   "metadata": {},
   "source": [
    "Her bir karakter için 4 bit ayrıldığından en uzun karaktere sahip metin uzunluğu kadar * 4 bit yer ayırır."
   ]
  },
  {
   "cell_type": "code",
   "execution_count": 20,
   "id": "f2a7319e",
   "metadata": {},
   "outputs": [
    {
     "data": {
      "text/plain": [
       "84"
      ]
     },
     "execution_count": 20,
     "metadata": {},
     "output_type": "execute_result"
    }
   ],
   "source": [
    "renkler=np.array(['kırmızı','beyaz',1])\n",
    "renkler.itemsize"
   ]
  },
  {
   "cell_type": "code",
   "execution_count": 21,
   "id": "9effdbe8",
   "metadata": {},
   "outputs": [
    {
     "data": {
      "text/plain": [
       "dtype('<U21')"
      ]
     },
     "execution_count": 21,
     "metadata": {},
     "output_type": "execute_result"
    }
   ],
   "source": [
    "renkler.dtype"
   ]
  },
  {
   "cell_type": "markdown",
   "id": "aba7c362",
   "metadata": {},
   "source": [
    "# dizilerde boyutlar"
   ]
  },
  {
   "attachments": {
    "image.png": {
     "image/png": "[encoded data removed]"
    }
   },
   "cell_type": "markdown",
   "id": "c60ada6a",
   "metadata": {},
   "source": [
    "![image.png](attachment:image.png)"
   ]
  },
  {
   "cell_type": "code",
   "execution_count": 22,
   "id": "7e4df340",
   "metadata": {},
   "outputs": [
    {
     "data": {
      "text/plain": [
       "1"
      ]
     },
     "execution_count": 22,
     "metadata": {},
     "output_type": "execute_result"
    }
   ],
   "source": [
    "sayi_listesi=[1,2,3,4,5,6,7,8,9,10]\n",
    "np_liste=np.array(sayi_listesi)\n",
    "#listenin boyutu  kolayca anlamak için iç içe kullanılan \n",
    "#köşeli parantez ssayısı dikate alınır\n",
    "np_liste.ndim"
   ]
  },
  {
   "cell_type": "code",
   "execution_count": 24,
   "id": "df5bb7ca",
   "metadata": {},
   "outputs": [
    {
     "name": "stdout",
     "output_type": "stream",
     "text": [
      "[[1 2 3]\n",
      " [4 5 6]\n",
      " [7 8 9]]\n"
     ]
    },
    {
     "data": {
      "text/plain": [
       "2"
      ]
     },
     "execution_count": 24,
     "metadata": {},
     "output_type": "execute_result"
    }
   ],
   "source": [
    "row1=[1,2,3]\n",
    "row2=[4,5,6]\n",
    "row3=[7,8,9]\n",
    "matrix=np.array([row1,row2,row3])\n",
    "#[[1,2,3],[4,5,6],[7,8,9]]\n",
    "print(matrix)\n",
    "matrix.ndim"
   ]
  },
  {
   "cell_type": "code",
   "execution_count": 27,
   "id": "eef013ef",
   "metadata": {},
   "outputs": [
    {
     "name": "stdout",
     "output_type": "stream",
     "text": [
      "1\n"
     ]
    }
   ],
   "source": [
    "listem=[1,2,3,4,5,6,7,8,9]\n",
    "np_liste=np.array(listem)\n",
    "print(np_liste.ndim)"
   ]
  },
  {
   "cell_type": "code",
   "execution_count": 28,
   "id": "13914988",
   "metadata": {},
   "outputs": [
    {
     "data": {
      "text/plain": [
       "(9,)"
      ]
     },
     "execution_count": 28,
     "metadata": {},
     "output_type": "execute_result"
    }
   ],
   "source": [
    "#satır * sütun * derinlik * 4. boyut\n",
    "np_liste.shape"
   ]
  },
  {
   "cell_type": "code",
   "execution_count": 31,
   "id": "32028251",
   "metadata": {},
   "outputs": [
    {
     "data": {
      "text/plain": [
       "array([[1],\n",
       "       [2],\n",
       "       [3],\n",
       "       [4],\n",
       "       [5],\n",
       "       [6],\n",
       "       [7],\n",
       "       [8],\n",
       "       [9]])"
      ]
     },
     "execution_count": 31,
     "metadata": {},
     "output_type": "execute_result"
    }
   ],
   "source": [
    "np_liste=np_liste.reshape(9,1)\n",
    "#9 satır * 1 sütun\n",
    "np_liste"
   ]
  },
  {
   "cell_type": "code",
   "execution_count": 32,
   "id": "25c62f47",
   "metadata": {},
   "outputs": [
    {
     "data": {
      "text/plain": [
       "(9, 1)"
      ]
     },
     "execution_count": 32,
     "metadata": {},
     "output_type": "execute_result"
    }
   ],
   "source": [
    "np_liste.shape"
   ]
  },
  {
   "cell_type": "code",
   "execution_count": 33,
   "id": "a0501892",
   "metadata": {},
   "outputs": [
    {
     "data": {
      "text/plain": [
       "2"
      ]
     },
     "execution_count": 33,
     "metadata": {},
     "output_type": "execute_result"
    }
   ],
   "source": [
    "np_liste.ndim"
   ]
  },
  {
   "cell_type": "code",
   "execution_count": 35,
   "id": "0c09e06a",
   "metadata": {},
   "outputs": [
    {
     "data": {
      "text/plain": [
       "array([[ 1,  2],\n",
       "       [ 3,  4],\n",
       "       [ 5,  6],\n",
       "       [ 7,  8],\n",
       "       [ 9, 10]])"
      ]
     },
     "execution_count": 35,
     "metadata": {},
     "output_type": "execute_result"
    }
   ],
   "source": [
    "liste=[1,2,3,4,5,6,7,8,9,10]\n",
    "liste_np=np.array(liste)\n",
    "liste_np=liste_np.reshape(5,2)\n",
    "liste_np"
   ]
  },
  {
   "cell_type": "code",
   "execution_count": 36,
   "id": "21ca2acd",
   "metadata": {},
   "outputs": [
    {
     "data": {
      "text/plain": [
       "np.int64(6)"
      ]
     },
     "execution_count": 36,
     "metadata": {},
     "output_type": "execute_result"
    }
   ],
   "source": [
    "liste_np[2][1]"
   ]
  },
  {
   "cell_type": "code",
   "execution_count": 42,
   "id": "d8817a6c",
   "metadata": {},
   "outputs": [
    {
     "data": {
      "text/plain": [
       "array([5, 6])"
      ]
     },
     "execution_count": 42,
     "metadata": {},
     "output_type": "execute_result"
    }
   ],
   "source": [
    "liste_np[2]"
   ]
  },
  {
   "cell_type": "code",
   "execution_count": 40,
   "id": "a907002b",
   "metadata": {},
   "outputs": [
    {
     "name": "stdout",
     "output_type": "stream",
     "text": [
      "Listenin boyutu: 1\n"
     ]
    },
    {
     "data": {
      "text/plain": [
       "np.int64(2)"
      ]
     },
     "execution_count": 40,
     "metadata": {},
     "output_type": "execute_result"
    }
   ],
   "source": [
    "listem=[1,2,3,4,5,6,7,8,9]\n",
    "np_liste=np.array(listem)\n",
    "print(\"Listenin boyutu:\",np_liste.ndim)\n",
    "np_liste=np_liste.reshape(9,1)\n",
    "np_liste[1][0]"
   ]
  },
  {
   "cell_type": "code",
   "execution_count": 41,
   "id": "49131d84",
   "metadata": {},
   "outputs": [
    {
     "data": {
      "text/plain": [
       "array([2])"
      ]
     },
     "execution_count": 41,
     "metadata": {},
     "output_type": "execute_result"
    }
   ],
   "source": [
    "np_liste[1]"
   ]
  },
  {
   "cell_type": "code",
   "execution_count": 45,
   "id": "bc8c761e",
   "metadata": {},
   "outputs": [
    {
     "data": {
      "text/plain": [
       "array([ 5, 10, 15, 20])"
      ]
     },
     "execution_count": 45,
     "metadata": {},
     "output_type": "execute_result"
    }
   ],
   "source": [
    "#range ile dizi oluşturma\n",
    "np_5=np.arange(5,25,5)\n",
    "np_5"
   ]
  },
  {
   "cell_type": "code",
   "execution_count": 47,
   "id": "6f7b9ac3",
   "metadata": {},
   "outputs": [
    {
     "data": {
      "text/plain": [
       "array([1., 1., 1., 1., 1., 1., 1., 1., 1., 1.])"
      ]
     },
     "execution_count": 47,
     "metadata": {},
     "output_type": "execute_result"
    }
   ],
   "source": [
    "# 1 lerden ve sıfırlardan oluşan sayı disizi oluşturma\n",
    "np_1=np.ones(10)\n",
    "np_1"
   ]
  },
  {
   "cell_type": "code",
   "execution_count": 49,
   "id": "f47d4713",
   "metadata": {},
   "outputs": [
    {
     "data": {
      "text/plain": [
       "array([[1., 1., 1., 1., 1., 1., 1., 1., 1., 1.],\n",
       "       [1., 1., 1., 1., 1., 1., 1., 1., 1., 1.],\n",
       "       [1., 1., 1., 1., 1., 1., 1., 1., 1., 1.],\n",
       "       [1., 1., 1., 1., 1., 1., 1., 1., 1., 1.],\n",
       "       [1., 1., 1., 1., 1., 1., 1., 1., 1., 1.],\n",
       "       [1., 1., 1., 1., 1., 1., 1., 1., 1., 1.],\n",
       "       [1., 1., 1., 1., 1., 1., 1., 1., 1., 1.],\n",
       "       [1., 1., 1., 1., 1., 1., 1., 1., 1., 1.],\n",
       "       [1., 1., 1., 1., 1., 1., 1., 1., 1., 1.],\n",
       "       [1., 1., 1., 1., 1., 1., 1., 1., 1., 1.]])"
      ]
     },
     "execution_count": 49,
     "metadata": {},
     "output_type": "execute_result"
    }
   ],
   "source": [
    "np.ones((10,10))"
   ]
  },
  {
   "cell_type": "code",
   "execution_count": 50,
   "id": "ba1b574d",
   "metadata": {},
   "outputs": [
    {
     "data": {
      "text/plain": [
       "array([[0., 0.],\n",
       "       [0., 0.],\n",
       "       [0., 0.]])"
      ]
     },
     "execution_count": 50,
     "metadata": {},
     "output_type": "execute_result"
    }
   ],
   "source": [
    "np.zeros((3,2))"
   ]
  },
  {
   "cell_type": "code",
   "execution_count": 51,
   "id": "25bc448b",
   "metadata": {},
   "outputs": [
    {
     "data": {
      "text/plain": [
       "array([[1., 0., 0.],\n",
       "       [0., 1., 0.],\n",
       "       [0., 0., 1.]])"
      ]
     },
     "execution_count": 51,
     "metadata": {},
     "output_type": "execute_result"
    }
   ],
   "source": [
    "eyes=np.eye(3,3)\n",
    "eyes"
   ]
  },
  {
   "cell_type": "code",
   "execution_count": 52,
   "id": "bace7acd",
   "metadata": {},
   "outputs": [
    {
     "data": {
      "text/plain": [
       "array([[0.41012207, 0.57337611, 0.82361481, 0.4674125 ],\n",
       "       [0.9595927 , 0.04238909, 0.11939054, 0.12318381],\n",
       "       [0.24655091, 0.78014021, 0.91713745, 0.73399776],\n",
       "       [0.98248215, 0.21489118, 0.42927367, 0.27920725]])"
      ]
     },
     "execution_count": 52,
     "metadata": {},
     "output_type": "execute_result"
    }
   ],
   "source": [
    "np.random.rand(4,4)"
   ]
  },
  {
   "cell_type": "code",
   "execution_count": 53,
   "id": "d9512730",
   "metadata": {},
   "outputs": [
    {
     "data": {
      "text/plain": [
       "array([[28, 98, 49, 42],\n",
       "       [ 7, 96, 13, 92],\n",
       "       [63, 90, 54, 56],\n",
       "       [35, 76, 48,  9]], dtype=int32)"
      ]
     },
     "execution_count": 53,
     "metadata": {},
     "output_type": "execute_result"
    }
   ],
   "source": [
    "np.random.randint(0,100,(4,4))"
   ]
  },
  {
   "cell_type": "code",
   "execution_count": 55,
   "id": "c9726722",
   "metadata": {},
   "outputs": [
    {
     "data": {
      "text/plain": [
       "array([  1,  72,  63,  99,  30,  96,  27,  77,  52,   3,  30,  97,  94,\n",
       "        97,  45,  95,  25,  68,   3,  79,  58,  36,  75,  90,  18,  17,\n",
       "        50,  23,  53,  96,  93,  32,  26,  96,  73,  24,  44,  51,  99,\n",
       "         8,  43,   3,  80,  49,  90,  70,  66,  99,  12,  46,  95,  49,\n",
       "        63,  33,  66,  98,  43,  69,  40,   1,  86,   0,  10,  63,  89,\n",
       "        34,  56,  84,  54,  36,  65,  59,  68,  99,  56,  36,  32,  45,\n",
       "         1,  60,  55,  96,  74,  77,   8,   0,  75,  92,  85,  95,  26,\n",
       "        46,  63,  86,  88,  69,  10,  79,  55,  96,   3,   3,  11,  99,\n",
       "        32,  87,  14,  31,  88,  92,  89,  11,  30,  60,  48,  19,   0,\n",
       "        33,  69,   9,  26,  49,  61,  84,  81,  40,   1,  61,   2,  60,\n",
       "        78,   0,  83,  47,  41,  98,  32,  98,  77,  53,  32,   2,  88,\n",
       "        84,  59,  43,  66,  68,  95,  39,  13,  89,  95,  36,  18,  76,\n",
       "        70,  68,  96,  40,  25,  74,  25, 100,  86,  18,  16,  52,  13,\n",
       "        25,  90,  76,  59,  21,  80,  60,   4,  19,  48,  43,  42,  98,\n",
       "        77,  62,  73,   1,  66,  92,  75,  71,  92,  43,  54, 100,  43,\n",
       "        94,  77,  89,  12,  61,   1,  15,  18,  16,  11,  62,  87,  62,\n",
       "        78,  72,  17,  45,  89,   2,  48,  55,  14,  83,  80,   9,  76,\n",
       "        26,  81,  26,  83,  87,  42,   3,  49,  77,  42,  71,  10,  59,\n",
       "        37,   6,  66,  50,  10,  52,  49,  12,  66,  35,  48,  86,  14,\n",
       "        56,  68,  24,  65,  41,  78,  46,  21,  95,   2,  37,  22,  13,\n",
       "        43,  84,  14,  18,  61,  85,  25,  86,  34,  90,  31,  94,   0,\n",
       "        98,  64,  10,  75,  89,  70,  68,  52,  55,  35,  59,   7,  36,\n",
       "        31,  84,  85,   3,  69,  52,  21,  53,  36,  88,  96,  48,  26,\n",
       "         2,  86,  29,  75,  23,  58,  88,  81,  14,  18,   3,  87,   2,\n",
       "        29,  75,  53,  11,  48,   6,  97,  41,   8,  63,  53,  83,  86,\n",
       "        56,  12,   5,  60,  69,   6,  47,  47,  84,  69,  99,  92,  28,\n",
       "        91,  70,  88,  28,  11,  49,  20,  62,  10,   5,  17,  54,  83,\n",
       "        67,  83,  55,  72,  50,   0,  68, 100,  27,  26,  91,  85,  21,\n",
       "        99,  35,  15,  92,   2,  21,  86,   3,  86,  70,  64,  52,  48,\n",
       "        36,   9,  66,  65,  10,  96,  21,  88,  17,   6,  87,  86,   7,\n",
       "        96,  68,  39,  89,  62,  25,  29,  73,  77,   9,  88,  87,  87,\n",
       "        38,  94,  72,  16,   0,  17,  29,  98,  61,  17,  50,  89,  61,\n",
       "        83,  82,  99,  61,  36,  33,  70,   5,  48,  34, 100,   1,  81,\n",
       "        94,  39,  34,  27,  53,  28,   6,  94,  86,  42,  91,  37,  42,\n",
       "        64,  91,  22,  93,  47,  68,  30,  96,  56,  80,   4,  20,  76,\n",
       "        39,  83,  60,  91,   2,  95,  86,  44,  21,  17,  27,  47,  97,\n",
       "        28,  44,  84,  89,  19,  18,   8,  22,  23,   0,  80,  58,  89,\n",
       "        60,   3,  94,  24,  35,  57,  85,   8,  90,  79,  75,   7,  29,\n",
       "        48,  64,  32,  49,  66,  48,   5,  58,  95,  97,  26,  68,  44,\n",
       "        55,  30,  95,  58,   4,  78,  16,  20,  84,  13,   3,   0,  10,\n",
       "        55,  69,  75,  39,  84,  76,  92,  51,  90,  66,  30,   8,  65,\n",
       "        25,  90,  41,  48,  44,  78,  44,   7,  61,  42,  41,  34,  99,\n",
       "        24,  13,  15,  14,  71,  53,  13,  67,  51,  41,  78,  10,  56,\n",
       "        31,  45,   8,  30,  11,  33,  31,  69,  41,  95,  79,  85,   3,\n",
       "        20,   2,  10,  98,   5,  27,  99,  39,  32, 100,   1,  81,  44,\n",
       "        24,  81,  59,  36,  41,  82,  39,  40,  45,  54,  52,  33,   2,\n",
       "        74,  85,  69,  61,   3,   7,  58,   9,  64,  66,  10,  93,  98,\n",
       "        54,  69,  24,  38,  10,  44,  91,   6,  95,  55,   2,  10,  34,\n",
       "         5,  60,   0, 100,   3,   9,  65, 100,  17,  92,  51, 100,  69,\n",
       "        56,   5,  87,  65,  30,  81,  43,   4,  20,  57,  79,  67,  50,\n",
       "        59,  40,   4,  77,  91,  53,  83,  86,   9,  84,  68,  64,  79,\n",
       "         1,  27,  38,  30,  65,  11,  78,  14,  45,   9,  53,  85,  46,\n",
       "        62,  68,   4,   0,  16,  51,  99,  22,  73,  24,  68,  77,  85,\n",
       "        73,  93,  38,   7,  53,  32,  66,  73,  32,  89,  41,  69,  22,\n",
       "        47,   7,  14,  74,  60,  50,  14,  70,  48,  74,  74,  49,  55,\n",
       "        82,  30,  52,  36,  26,  72,  10,  36,  12,   6,  67,  74,  51,\n",
       "         6,  17,  97,  65,  84,  16,   1,  31,  65,  64,   8,  11,  19,\n",
       "         5,  29,   4,  10,  80,  72,   9,  80,  85,  11,  49,  24,  26,\n",
       "         6,  18,  39,  53,  57,  81,  12,  22,  47,  17,  15,  96,  73,\n",
       "        26,  74,  15,  66,  63,  84,  97,  70,  98,  31,  97,  12,  37,\n",
       "        78,   0,  74,  83,  75,  73,  17,  83,  35,  74,  52,  15,  22,\n",
       "        21,  21,  69,  11,  53,  62,  36,  83,  62,  15,  62,  86,  73,\n",
       "        43,  52,  63,  73,  52,  38,  95,  41,  72,  99,  39,  65,  66,\n",
       "        72,  82,  75,  91,   8,  62,  52,  86,  66,  95,  75,  25,  91,\n",
       "        35,  82,  90,  60,  98,  72,  73,  74,  45,  95,  23,  27,  99,\n",
       "        53,  47,  42,  25,  89,  85,  22,  10,  29,  55,  75,  32,   9,\n",
       "        65,  24,  34,  96,  53,  46,  27,  21,   0,  41,  51,  75,  72,\n",
       "        84,  50,  11,  65,  97,  67,  67,  22,  42,  99,  26,  27,   5,\n",
       "        51,  64,  97,  55,  62,  64,  76,  14,  14,  97,  72,  23,  54,\n",
       "        68,  46,  53,  36,   9,  71,  10,  84,  40,  69,  59,  81,  82,\n",
       "        89,  21,  71,  74,   6,  93,  86,  45,  91,  55,  98,  38,  43,\n",
       "        91,  46,  97,  78,  10,  67,  87,  51,   9,  65,  96,  18,  82,\n",
       "        36,  41,  44,  26,  83,  79,  82,  41,  83,  76,  90,  11,  51,\n",
       "        58,  46,  47,   7,  64,  32,  80,  63,  36,  86,  88,  51,  34,\n",
       "        40,  67,  34,  63,  94,  51,  83,  67,  55,  20,  39,  25,  25,\n",
       "        21,  60,  66,  10,  96,  69,  60,   0,  92,  80,  95,  99,  98,\n",
       "        50,  37,  35,  51,  37,  71,  94,  56,  56,   5,  32,  48],\n",
       "      dtype=int32)"
      ]
     },
     "execution_count": 55,
     "metadata": {},
     "output_type": "execute_result"
    }
   ],
   "source": [
    "np.random.randint(0,101,1000) # 100 dahil"
   ]
  },
  {
   "cell_type": "code",
   "execution_count": 62,
   "id": "01c48c8f",
   "metadata": {},
   "outputs": [
    {
     "data": {
      "text/plain": [
       "array([ 1, 17, 49, 56, 74, 78, 78, 79, 80, 88], dtype=int32)"
      ]
     },
     "execution_count": 62,
     "metadata": {},
     "output_type": "execute_result"
    }
   ],
   "source": [
    "sayilar=np.random.randint(0,101,10)\n",
    "sayilar=np.sort(sayilar)\n",
    "sayilar"
   ]
  },
  {
   "cell_type": "code",
   "execution_count": 64,
   "id": "382ffd2f",
   "metadata": {
    "collapsed": true
   },
   "outputs": [
    {
     "name": "stdout",
     "output_type": "stream",
     "text": [
      "1\n",
      "17\n",
      "49\n",
      "56\n",
      "74\n",
      "78\n",
      "78\n",
      "79\n",
      "80\n",
      "88\n"
     ]
    }
   ],
   "source": [
    "for i in sayilar:\n",
    "    print(i)"
   ]
  },
  {
   "cell_type": "code",
   "execution_count": 66,
   "id": "cffe8796",
   "metadata": {},
   "outputs": [
    {
     "data": {
      "text/plain": [
       "array(['İSMAİL ÖNER', 'TUĞBA AKSU', 'DİLARA KESKİN', 'HASAN BUDAK',\n",
       "       'RECEP ONUR OKAN'], dtype='<U18')"
      ]
     },
     "execution_count": 66,
     "metadata": {},
     "output_type": "execute_result"
    }
   ],
   "source": [
    "# İsim listesi\n",
    "names_list = [\n",
    "    \"ADEM ENSARİ\",\n",
    "    \"BERKAY DÜNDAR\",\n",
    "    \"BEYZA ÇOBAN\",\n",
    "    \"BEYZA NUR SARIKAYA\",\n",
    "    \"BORA KOL\",\n",
    "    \"EREN ŞİMŞİR\",\n",
    "    \"HASAN BUDAK\",\n",
    "    \"HASAN BAKİ İŞERİ\",\n",
    "    \"İLAYDA ARZU AKKUŞ\",\n",
    "    \"İLAYDA NUR SAYAN\",\n",
    "    \"İSMAİL ÖNER\",\n",
    "    \"KADER SARIKAYA\",\n",
    "    \"ÖMER YAŞAR TANIR\",\n",
    "    \"RECEP ONUR OKAN\",\n",
    "    \"SAMİ İLBEY TURGUT\",\n",
    "    \"SENASU DEMİR\",\n",
    "    \"SILA DÖLEK\",\n",
    "    \"ZEHRA HATİPOĞLU\",\n",
    "    \"TUĞBA AKSU\",\n",
    "    \"ALPER SANCILI\"\n",
    "]\n",
    "\n",
    "np.random.choice(names_list,size=5)\n"
   ]
  },
  {
   "cell_type": "code",
   "execution_count": 69,
   "id": "c9fabaed",
   "metadata": {},
   "outputs": [
    {
     "data": {
      "text/plain": [
       "array([88, 80, 79, 78, 78, 74, 56, 49, 17,  1], dtype=int32)"
      ]
     },
     "execution_count": 69,
     "metadata": {},
     "output_type": "execute_result"
    }
   ],
   "source": [
    "np.flipud(sayilar)"
   ]
  },
  {
   "cell_type": "code",
   "execution_count": 70,
   "id": "4b4cb84b",
   "metadata": {},
   "outputs": [
    {
     "data": {
      "text/plain": [
       "np.int32(88)"
      ]
     },
     "execution_count": 70,
     "metadata": {},
     "output_type": "execute_result"
    }
   ],
   "source": [
    "np.max(sayilar)"
   ]
  },
  {
   "cell_type": "code",
   "execution_count": 71,
   "id": "537ab7f0",
   "metadata": {},
   "outputs": [
    {
     "data": {
      "text/plain": [
       "np.int32(1)"
      ]
     },
     "execution_count": 71,
     "metadata": {},
     "output_type": "execute_result"
    }
   ],
   "source": [
    "np.min(sayilar)"
   ]
  },
  {
   "cell_type": "code",
   "execution_count": 72,
   "id": "3f86ffad",
   "metadata": {},
   "outputs": [
    {
     "data": {
      "text/plain": [
       "np.int64(600)"
      ]
     },
     "execution_count": 72,
     "metadata": {},
     "output_type": "execute_result"
    }
   ],
   "source": [
    "np.sum(sayilar)"
   ]
  },
  {
   "cell_type": "code",
   "execution_count": 73,
   "id": "d5c3a834",
   "metadata": {},
   "outputs": [
    {
     "data": {
      "text/plain": [
       "np.float64(60.0)"
      ]
     },
     "execution_count": 73,
     "metadata": {},
     "output_type": "execute_result"
    }
   ],
   "source": [
    "np.mean(sayilar)"
   ]
  },
  {
   "cell_type": "code",
   "execution_count": 74,
   "id": "8faea935",
   "metadata": {},
   "outputs": [
    {
     "data": {
      "text/plain": [
       "np.float64(28.02855686616776)"
      ]
     },
     "execution_count": 74,
     "metadata": {},
     "output_type": "execute_result"
    }
   ],
   "source": [
    "np.std(sayilar)"
   ]
  },
  {
   "cell_type": "code",
   "execution_count": 77,
   "id": "6be3bf35",
   "metadata": {},
   "outputs": [
    {
     "data": {
      "text/plain": [
       "np.int64(100)"
      ]
     },
     "execution_count": 77,
     "metadata": {},
     "output_type": "execute_result"
    }
   ],
   "source": [
    "np.maximum(100,20)"
   ]
  },
  {
   "cell_type": "code",
   "execution_count": 78,
   "id": "a0383ad9",
   "metadata": {},
   "outputs": [
    {
     "data": {
      "text/plain": [
       "array([ 1, 17, 49, 56, 74, 78, 78, 79, 80, 88], dtype=int32)"
      ]
     },
     "execution_count": 78,
     "metadata": {},
     "output_type": "execute_result"
    }
   ],
   "source": [
    "sayilar"
   ]
  },
  {
   "cell_type": "code",
   "execution_count": 79,
   "id": "5b04c7aa",
   "metadata": {},
   "outputs": [
    {
     "data": {
      "text/plain": [
       "10"
      ]
     },
     "execution_count": 79,
     "metadata": {},
     "output_type": "execute_result"
    }
   ],
   "source": [
    "len(sayilar)"
   ]
  },
  {
   "cell_type": "code",
   "execution_count": 80,
   "id": "cb7bb101",
   "metadata": {},
   "outputs": [],
   "source": [
    "sayilar=sayilar.reshape(2,5)"
   ]
  },
  {
   "cell_type": "code",
   "execution_count": 81,
   "id": "ef7d9ef7",
   "metadata": {},
   "outputs": [
    {
     "data": {
      "text/plain": [
       "2"
      ]
     },
     "execution_count": 81,
     "metadata": {},
     "output_type": "execute_result"
    }
   ],
   "source": [
    "sayilar.ndim"
   ]
  },
  {
   "cell_type": "code",
   "execution_count": 82,
   "id": "6a6d2ec5",
   "metadata": {},
   "outputs": [
    {
     "data": {
      "text/plain": [
       "array([ 1, 17, 49, 56, 74, 78, 78, 79, 80, 88], dtype=int32)"
      ]
     },
     "execution_count": 82,
     "metadata": {},
     "output_type": "execute_result"
    }
   ],
   "source": [
    "#tek boyutlu hale getirme\n",
    "sayilar_1d=sayilar.reshape(-1)\n",
    "sayilar_1d"
   ]
  },
  {
   "cell_type": "code",
   "execution_count": 84,
   "id": "5c02dc4c",
   "metadata": {},
   "outputs": [
    {
     "data": {
      "text/plain": [
       "np.str_('kırmızı')"
      ]
     },
     "execution_count": 84,
     "metadata": {},
     "output_type": "execute_result"
    }
   ],
   "source": [
    "#dilimlemee\n",
    "renkler[0]"
   ]
  },
  {
   "cell_type": "code",
   "execution_count": 86,
   "id": "ff1ebecf",
   "metadata": {},
   "outputs": [
    {
     "data": {
      "text/plain": [
       "array(['kırmızı', 'beyaz', '1', 'sarı'], dtype='<U21')"
      ]
     },
     "execution_count": 86,
     "metadata": {},
     "output_type": "execute_result"
    }
   ],
   "source": [
    "renkler=np.append(renkler,\"sarı\")\n",
    "renkler"
   ]
  },
  {
   "cell_type": "code",
   "execution_count": 87,
   "id": "8e2a4cb0",
   "metadata": {
    "collapsed": true
   },
   "outputs": [
    {
     "data": {
      "text/plain": [
       "array(['kırmızı', 'beyaz'], dtype='<U21')"
      ]
     },
     "execution_count": 87,
     "metadata": {},
     "output_type": "execute_result"
    }
   ],
   "source": [
    "renkler[:2]"
   ]
  },
  {
   "cell_type": "code",
   "execution_count": 88,
   "id": "7a0b5c91",
   "metadata": {},
   "outputs": [
    {
     "data": {
      "text/plain": [
       "array(['beyaz', '1', 'sarı'], dtype='<U21')"
      ]
     },
     "execution_count": 88,
     "metadata": {},
     "output_type": "execute_result"
    }
   ],
   "source": [
    "renkler=np.delete(renkler,0) # indisi 0 olan elemanı\n",
    "renkler"
   ]
  },
  {
   "cell_type": "code",
   "execution_count": 90,
   "id": "65080707",
   "metadata": {
    "collapsed": true
   },
   "outputs": [
    {
     "data": {
      "text/plain": [
       "array(['Kırmızı', 'Yeşil', 'Mavi', 'Sarı', 'Turuncu', 'Mor'], dtype='<U7')"
      ]
     },
     "execution_count": 90,
     "metadata": {},
     "output_type": "execute_result"
    }
   ],
   "source": [
    "ana_renkler=np.array(['Kırmızı', 'Yeşil', 'Mavi'])\n",
    "ara_renkler=np.array(['Sarı','Turuncu','Mor'])\n",
    "renkler=np.concatenate((ana_renkler,ara_renkler))\n",
    "renkler"
   ]
  },
  {
   "cell_type": "code",
   "execution_count": 91,
   "id": "0521daac",
   "metadata": {
    "collapsed": true
   },
   "outputs": [
    {
     "data": {
      "text/plain": [
       "array([ True, False, False, False, False, False])"
      ]
     },
     "execution_count": 91,
     "metadata": {},
     "output_type": "execute_result"
    }
   ],
   "source": [
    "renkler=='Kırmızı'"
   ]
  },
  {
   "cell_type": "code",
   "execution_count": 92,
   "id": "e9ba0d80",
   "metadata": {
    "collapsed": true
   },
   "outputs": [
    {
     "data": {
      "text/plain": [
       "(array([ 1, 10,  3,  4,  5]), array([1, 2, 3, 4, 5]))"
      ]
     },
     "execution_count": 92,
     "metadata": {},
     "output_type": "execute_result"
    }
   ],
   "source": [
    "#copy ve view\n",
    "array1=np.array([1,2,3,4,5])\n",
    "array2=array1.copy()\n",
    "array2[1]=10\n",
    "array2,array1"
   ]
  },
  {
   "cell_type": "code",
   "execution_count": 93,
   "id": "aca52d2b",
   "metadata": {
    "collapsed": true
   },
   "outputs": [
    {
     "data": {
      "text/plain": [
       "(array([ 1, 10,  3,  4,  5]), array([ 1, 10,  3,  4,  5]))"
      ]
     },
     "execution_count": 93,
     "metadata": {},
     "output_type": "execute_result"
    }
   ],
   "source": [
    "array1=np.array([1,2,3,4,5])\n",
    "array2=array1.view()\n",
    "array2[1]=10\n",
    "array2,array1"
   ]
  },
  {
   "cell_type": "markdown",
   "id": "934c2139",
   "metadata": {},
   "source": [
    "# Metin dosyasına kaydetme"
   ]
  },
  {
   "cell_type": "code",
   "execution_count": 94,
   "id": "4696eb19",
   "metadata": {},
   "outputs": [
    {
     "data": {
      "text/plain": [
       "array([35, 29, 33, 99, 41, 32, 55, 64, 48, 51], dtype=int32)"
      ]
     },
     "execution_count": 94,
     "metadata": {},
     "output_type": "execute_result"
    }
   ],
   "source": [
    "notlar=np.random.randint(1,100,10)\n",
    "notlar"
   ]
  },
  {
   "cell_type": "code",
   "execution_count": 95,
   "id": "9ac6abe3",
   "metadata": {},
   "outputs": [],
   "source": [
    "np.savetxt(\"notlar.txt\",notlar)"
   ]
  },
  {
   "cell_type": "code",
   "execution_count": 96,
   "id": "7757ccb9",
   "metadata": {
    "collapsed": true
   },
   "outputs": [
    {
     "name": "stdout",
     "output_type": "stream",
     "text": [
      " Volume in drive C has no label.\n",
      " Volume Serial Number is 3073-49B7\n",
      "\n",
      " Directory of C:\\Users\\murat\\Documents\\BTKTemmuz2024\\day2\n",
      "\n",
      "17.07.2024  12:51    <DIR>          .\n",
      "17.07.2024  10:54    <DIR>          ..\n",
      "17.07.2024  10:59    <DIR>          .ipynb_checkpoints\n",
      "17.07.2024  12:51               260 notlar.txt\n",
      "17.07.2024  12:50           146.222 Numpy.ipynb\n",
      "               2 File(s)        146.482 bytes\n",
      "               3 Dir(s)  120.808.427.520 bytes free\n"
     ]
    }
   ],
   "source": [
    "ls"
   ]
  },
  {
   "cell_type": "code",
   "execution_count": 97,
   "id": "e604f30d",
   "metadata": {},
   "outputs": [
    {
     "data": {
      "text/plain": [
       "array([35., 29., 33., 99., 41., 32., 55., 64., 48., 51.])"
      ]
     },
     "execution_count": 97,
     "metadata": {},
     "output_type": "execute_result"
    }
   ],
   "source": [
    "notlar_tx=np.loadtxt(\"notlar.txt\")\n",
    "notlar_tx"
   ]
  },
  {
   "cell_type": "code",
   "execution_count": 98,
   "id": "d09e2423",
   "metadata": {},
   "outputs": [
    {
     "data": {
      "text/plain": [
       "numpy.ndarray"
      ]
     },
     "execution_count": 98,
     "metadata": {},
     "output_type": "execute_result"
    }
   ],
   "source": [
    "type(notlar)"
   ]
  },
  {
   "cell_type": "code",
   "execution_count": 99,
   "id": "9c1b9a0c",
   "metadata": {},
   "outputs": [
    {
     "name": "stdout",
     "output_type": "stream",
     "text": [
      "35 29 33 99 41 32 55 64 48 51\n"
     ]
    }
   ],
   "source": [
    "print(*notlar)"
   ]
  },
  {
   "cell_type": "code",
   "execution_count": 100,
   "id": "bad54f41",
   "metadata": {},
   "outputs": [
    {
     "data": {
      "text/plain": [
       "array([29, 32, 33, 35, 41, 48, 51, 55, 64, 99], dtype=int32)"
      ]
     },
     "execution_count": 100,
     "metadata": {},
     "output_type": "execute_result"
    }
   ],
   "source": [
    "np.sort(notlar)"
   ]
  },
  {
   "cell_type": "code",
   "execution_count": 101,
   "id": "265758fd",
   "metadata": {},
   "outputs": [
    {
     "data": {
      "text/plain": [
       "(np.float64(48.7), np.float64(19.925109786397666), np.int32(99), np.int32(29))"
      ]
     },
     "execution_count": 101,
     "metadata": {},
     "output_type": "execute_result"
    }
   ],
   "source": [
    "np.mean(notlar),np.std(notlar),np.max(notlar),np.min(notlar)"
   ]
  },
  {
   "cell_type": "code",
   "execution_count": 102,
   "id": "a05836a3",
   "metadata": {},
   "outputs": [
    {
     "data": {
      "text/plain": [
       "np.float64(397.01)"
      ]
     },
     "execution_count": 102,
     "metadata": {},
     "output_type": "execute_result"
    }
   ],
   "source": [
    "np.var(notlar)"
   ]
  },
  {
   "cell_type": "code",
   "execution_count": 106,
   "id": "668b419c",
   "metadata": {},
   "outputs": [],
   "source": [
    "memleket=np.array(['Ankara', 'Mersin', 'Amasya',\n",
    "                  'Diyarbakır','Antalya','Burdur','Ordu','Isparta',\n",
    "                  'Ankara', 'Ankara','Antalya', 'Mersin','Tokat', 'Kahramanmaraş'])"
   ]
  },
  {
   "cell_type": "code",
   "execution_count": 107,
   "id": "3ac135cd",
   "metadata": {},
   "outputs": [
    {
     "data": {
      "text/plain": [
       "array(['Amasya', 'Ankara', 'Antalya', 'Burdur', 'Diyarbakır', 'Isparta',\n",
       "       'Kahramanmaraş', 'Mersin', 'Ordu', 'Tokat'], dtype='<U13')"
      ]
     },
     "execution_count": 107,
     "metadata": {},
     "output_type": "execute_result"
    }
   ],
   "source": [
    "np.unique(memleket)"
   ]
  },
  {
   "cell_type": "code",
   "execution_count": 111,
   "id": "a6f392fa",
   "metadata": {},
   "outputs": [
    {
     "name": "stdout",
     "output_type": "stream",
     "text": [
      "{np.str_('Amasya'): np.int64(1), np.str_('Ankara'): np.int64(3), np.str_('Antalya'): np.int64(2), np.str_('Burdur'): np.int64(1), np.str_('Diyarbakır'): np.int64(1), np.str_('Isparta'): np.int64(1), np.str_('Kahramanmaraş'): np.int64(1), np.str_('Mersin'): np.int64(2), np.str_('Ordu'): np.int64(1), np.str_('Tokat'): np.int64(1)}\n"
     ]
    }
   ],
   "source": [
    "unique, counts = np.unique(memleket, return_counts=True)\n",
    "print(dict(zip(unique, counts.astype(int))))"
   ]
  },
  {
   "cell_type": "code",
   "execution_count": 112,
   "id": "732601bf",
   "metadata": {},
   "outputs": [
    {
     "data": {
      "text/plain": [
       "array([['Amasya', '1'],\n",
       "       ['Ankara', '3'],\n",
       "       ['Antalya', '2'],\n",
       "       ['Burdur', '1'],\n",
       "       ['Diyarbakır', '1'],\n",
       "       ['Isparta', '1'],\n",
       "       ['Kahramanmaraş', '1'],\n",
       "       ['Mersin', '2'],\n",
       "       ['Ordu', '1'],\n",
       "       ['Tokat', '1']], dtype='<U21')"
      ]
     },
     "execution_count": 112,
     "metadata": {},
     "output_type": "execute_result"
    }
   ],
   "source": [
    "frekans=np.asarray((unique,counts)).T\n",
    "frekans"
   ]
  },
  {
   "cell_type": "markdown",
   "id": "81a8d469",
   "metadata": {},
   "source": [
    "# En büyük notu bul"
   ]
  },
  {
   "cell_type": "code",
   "execution_count": 113,
   "id": "ad9409ed",
   "metadata": {},
   "outputs": [
    {
     "data": {
      "text/plain": [
       "np.int64(3)"
      ]
     },
     "execution_count": 113,
     "metadata": {},
     "output_type": "execute_result"
    }
   ],
   "source": [
    "np.argmax(notlar)"
   ]
  },
  {
   "cell_type": "code",
   "execution_count": 116,
   "id": "979a85ca",
   "metadata": {},
   "outputs": [],
   "source": [
    "notlar.tofile(\"notlar.csv\",sep=',')"
   ]
  },
  {
   "cell_type": "code",
   "execution_count": 117,
   "id": "79532438",
   "metadata": {},
   "outputs": [
    {
     "name": "stdout",
     "output_type": "stream",
     "text": [
      " Volume in drive C has no label.\n",
      " Volume Serial Number is 3073-49B7\n",
      "\n",
      " Directory of C:\\Users\\murat\\Documents\\BTKTemmuz2024\\day2\n",
      "\n",
      "17.07.2024  13:08    <DIR>          .\n",
      "17.07.2024  10:54    <DIR>          ..\n",
      "17.07.2024  10:59    <DIR>          .ipynb_checkpoints\n",
      "17.07.2024  13:08                29 notlar.csv\n",
      "17.07.2024  12:51               260 notlar.txt\n",
      "17.07.2024  13:06           152.293 Numpy.ipynb\n",
      "               3 File(s)        152.582 bytes\n",
      "               3 Dir(s)  120.791.957.504 bytes free\n"
     ]
    }
   ],
   "source": [
    "ls"
   ]
  },
  {
   "cell_type": "code",
   "execution_count": 118,
   "id": "855b4b48",
   "metadata": {},
   "outputs": [],
   "source": [
    "import pandas as pd"
   ]
  },
  {
   "cell_type": "code",
   "execution_count": 119,
   "id": "45b4cfac",
   "metadata": {},
   "outputs": [
    {
     "data": {
      "text/html": [
       "<div>\n",
       "<style scoped>\n",
       "    .dataframe tbody tr th:only-of-type {\n",
       "        vertical-align: middle;\n",
       "    }\n",
       "\n",
       "    .dataframe tbody tr th {\n",
       "        vertical-align: top;\n",
       "    }\n",
       "\n",
       "    .dataframe thead th {\n",
       "        text-align: right;\n",
       "    }\n",
       "</style>\n",
       "<table border=\"1\" class=\"dataframe\">\n",
       "  <thead>\n",
       "    <tr style=\"text-align: right;\">\n",
       "      <th></th>\n",
       "      <th>35</th>\n",
       "      <th>29</th>\n",
       "      <th>33</th>\n",
       "      <th>99</th>\n",
       "      <th>41</th>\n",
       "      <th>32</th>\n",
       "      <th>55</th>\n",
       "      <th>64</th>\n",
       "      <th>48</th>\n",
       "      <th>51</th>\n",
       "    </tr>\n",
       "  </thead>\n",
       "  <tbody>\n",
       "  </tbody>\n",
       "</table>\n",
       "</div>"
      ],
      "text/plain": [
       "Empty DataFrame\n",
       "Columns: [35, 29, 33, 99, 41, 32, 55, 64, 48, 51]\n",
       "Index: []"
      ]
     },
     "execution_count": 119,
     "metadata": {},
     "output_type": "execute_result"
    }
   ],
   "source": [
    "notlar=pd.read_csv(\"notlar.csv\")\n",
    "notlar"
   ]
  },
  {
   "cell_type": "code",
   "execution_count": 120,
   "id": "2f613d0f",
   "metadata": {},
   "outputs": [
    {
     "data": {
      "text/plain": [
       "np.int32(81)"
      ]
     },
     "execution_count": 120,
     "metadata": {},
     "output_type": "execute_result"
    }
   ],
   "source": [
    "np.power(3,4)"
   ]
  },
  {
   "cell_type": "code",
   "execution_count": 121,
   "id": "8ca80494",
   "metadata": {},
   "outputs": [
    {
     "data": {
      "text/plain": [
       "np.float64(9.0)"
      ]
     },
     "execution_count": 121,
     "metadata": {},
     "output_type": "execute_result"
    }
   ],
   "source": [
    "np.sqrt(81)"
   ]
  },
  {
   "cell_type": "code",
   "execution_count": 125,
   "id": "65068088",
   "metadata": {},
   "outputs": [
    {
     "data": {
      "text/plain": [
       "np.float64(9.0)"
      ]
     },
     "execution_count": 125,
     "metadata": {},
     "output_type": "execute_result"
    }
   ],
   "source": [
    "np.sqrt(81)"
   ]
  },
  {
   "cell_type": "code",
   "execution_count": 127,
   "id": "9078e0ee",
   "metadata": {},
   "outputs": [
    {
     "data": {
      "text/plain": [
       "array([1., 2., 3.])"
      ]
     },
     "execution_count": 127,
     "metadata": {},
     "output_type": "execute_result"
    }
   ],
   "source": [
    "nums=[10,100,1000]\n",
    "\n",
    "np.log10(nums)"
   ]
  },
  {
   "cell_type": "code",
   "execution_count": null,
   "id": "2f1b0d56",
   "metadata": {},
   "outputs": [],
   "source": []
  }
 ],
 "metadata": {
  "kernelspec": {
   "display_name": "Python 3 (ipykernel)",
   "language": "python",
   "name": "python3"
  },
  "language_info": {
   "codemirror_mode": {
    "name": "ipython",
    "version": 3
   },
   "file_extension": ".py",
   "mimetype": "text/x-python",
   "name": "python",
   "nbconvert_exporter": "python",
   "pygments_lexer": "ipython3",
   "version": "3.10.14"
  }
 },
 "nbformat": 4,
 "nbformat_minor": 5
}
