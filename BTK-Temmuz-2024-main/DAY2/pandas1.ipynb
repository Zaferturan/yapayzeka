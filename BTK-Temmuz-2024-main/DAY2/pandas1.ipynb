{
 "cells": [
  {
   "attachments": {
    "image.png": {
     "image/png": "[encoded data removed]"
    }
   },
   "cell_type": "markdown",
   "id": "e1a9e512",
   "metadata": {},
   "source": [
    "![image.png](attachment:image.png)"
   ]
  },
  {
   "cell_type": "markdown",
   "id": "158c04e2",
   "metadata": {},
   "source": [
    "Bu NoteBook Pandas ile Veri Manipülasyonalrı işlemlerini içermektedir."
   ]
  },
  {
   "cell_type": "markdown",
   "id": "3ceabd85",
   "metadata": {},
   "source": [
    "pandas da numpy gibi anaconda üzerinde kurulu olarak gelir."
   ]
  },
  {
   "cell_type": "code",
   "execution_count": 3,
   "id": "b4d941cf",
   "metadata": {},
   "outputs": [],
   "source": [
    "import pandas as pd"
   ]
  },
  {
   "cell_type": "code",
   "execution_count": 4,
   "id": "a9e27ec2",
   "metadata": {},
   "outputs": [],
   "source": [
    "#pip install --upgrade pandas"
   ]
  },
  {
   "cell_type": "code",
   "execution_count": 5,
   "id": "6594203d",
   "metadata": {},
   "outputs": [],
   "source": [
    "#Kernel restart"
   ]
  },
  {
   "cell_type": "code",
   "execution_count": 6,
   "id": "e28689f6",
   "metadata": {},
   "outputs": [
    {
     "data": {
      "text/plain": [
       "'2.2.2'"
      ]
     },
     "execution_count": 6,
     "metadata": {},
     "output_type": "execute_result"
    }
   ],
   "source": [
    "pd.__version__"
   ]
  },
  {
   "cell_type": "markdown",
   "id": "0c1a30ac",
   "metadata": {},
   "source": [
    "# Seriler"
   ]
  },
  {
   "cell_type": "code",
   "execution_count": 7,
   "id": "2cc1593e",
   "metadata": {},
   "outputs": [
    {
     "data": {
      "text/plain": [
       "0      Ali\n",
       "1     Veli\n",
       "2     Ayse\n",
       "3    Fatma\n",
       "4    Ahmet\n",
       "5     Adem\n",
       "dtype: object"
      ]
     },
     "execution_count": 7,
     "metadata": {},
     "output_type": "execute_result"
    }
   ],
   "source": [
    "isimler=pd.Series([\"Ali\",\"Veli\",\"Ayse\",\"Fatma\", 'Ahmet','Adem'])\n",
    "isimler"
   ]
  },
  {
   "cell_type": "code",
   "execution_count": 8,
   "id": "21b48d19",
   "metadata": {},
   "outputs": [
    {
     "data": {
      "text/plain": [
       "pandas.core.series.Series"
      ]
     },
     "execution_count": 8,
     "metadata": {},
     "output_type": "execute_result"
    }
   ],
   "source": [
    "type(isimler)"
   ]
  },
  {
   "cell_type": "code",
   "execution_count": 9,
   "id": "bc29702d",
   "metadata": {},
   "outputs": [
    {
     "data": {
      "text/plain": [
       "'Ali'"
      ]
     },
     "execution_count": 9,
     "metadata": {},
     "output_type": "execute_result"
    }
   ],
   "source": [
    "isimler[0]"
   ]
  },
  {
   "cell_type": "code",
   "execution_count": 10,
   "id": "7e5a7c20",
   "metadata": {},
   "outputs": [
    {
     "data": {
      "text/plain": [
       "0     Ali\n",
       "1    Veli\n",
       "dtype: object"
      ]
     },
     "execution_count": 10,
     "metadata": {},
     "output_type": "execute_result"
    }
   ],
   "source": [
    "isimler[0:2]"
   ]
  },
  {
   "cell_type": "code",
   "execution_count": 11,
   "id": "8a725bdb",
   "metadata": {},
   "outputs": [
    {
     "data": {
      "text/plain": [
       "0      Ali\n",
       "2     Ayse\n",
       "4    Ahmet\n",
       "5     Adem\n",
       "dtype: object"
      ]
     },
     "execution_count": 11,
     "metadata": {},
     "output_type": "execute_result"
    }
   ],
   "source": [
    "# a ile başlayan isimler\n",
    "isimler[isimler.str.startswith(\"A\")]"
   ]
  },
  {
   "cell_type": "code",
   "execution_count": 12,
   "id": "314450a5",
   "metadata": {},
   "outputs": [
    {
     "data": {
      "text/plain": [
       "0      ali\n",
       "1     veli\n",
       "2     ayse\n",
       "3    fatma\n",
       "4    ahmet\n",
       "5     adem\n",
       "dtype: object"
      ]
     },
     "execution_count": 12,
     "metadata": {},
     "output_type": "execute_result"
    }
   ],
   "source": [
    "isimler=isimler.str.lower()\n",
    "isimler"
   ]
  },
  {
   "cell_type": "code",
   "execution_count": 13,
   "id": "1aae4df5",
   "metadata": {},
   "outputs": [
    {
     "data": {
      "text/plain": [
       "0      Ankara\n",
       "1    Istanbul\n",
       "2      Ankara\n",
       "3       Izmir\n",
       "4      Ankara\n",
       "5    Istanbul\n",
       "6       Izmir\n",
       "dtype: object"
      ]
     },
     "execution_count": 13,
     "metadata": {},
     "output_type": "execute_result"
    }
   ],
   "source": [
    "memleket=pd.Series([\"Ankara\",\"Istanbul\",'Ankara',\"Izmir\",\"Ankara\",\"Istanbul\",\"Izmir\"])\n",
    "memleket"
   ]
  },
  {
   "cell_type": "code",
   "execution_count": 14,
   "id": "ecd15b56",
   "metadata": {},
   "outputs": [
    {
     "data": {
      "text/plain": [
       "np.int64(3)"
      ]
     },
     "execution_count": 14,
     "metadata": {},
     "output_type": "execute_result"
    }
   ],
   "source": [
    "(memleket==\"Ankara\").sum()"
   ]
  },
  {
   "cell_type": "code",
   "execution_count": 15,
   "id": "0a9986fc",
   "metadata": {},
   "outputs": [
    {
     "data": {
      "text/plain": [
       "Ankara      3\n",
       "Istanbul    2\n",
       "Izmir       2\n",
       "Name: count, dtype: int64"
      ]
     },
     "execution_count": 15,
     "metadata": {},
     "output_type": "execute_result"
    }
   ],
   "source": [
    "memleket.value_counts()"
   ]
  },
  {
   "cell_type": "code",
   "execution_count": 16,
   "id": "e7291f63",
   "metadata": {},
   "outputs": [],
   "source": [
    "takimlar=pd.Series(['FB','FB','FB','FB','FB',\n",
    "                    'FB','FB','FB','FB', 'GS','GS',\n",
    "                   'GS','GS',\n",
    "                   'BJK','BJK','BJK','BJK'])"
   ]
  },
  {
   "cell_type": "code",
   "execution_count": 17,
   "id": "8f006c45",
   "metadata": {},
   "outputs": [],
   "source": [
    "# pip install --upgrade matplotlib"
   ]
  },
  {
   "cell_type": "code",
   "execution_count": 18,
   "id": "b501ef80",
   "metadata": {
    "collapsed": true
   },
   "outputs": [
    {
     "data": {
      "text/plain": [
       "<Axes: >"
      ]
     },
     "execution_count": 18,
     "metadata": {},
     "output_type": "execute_result"
    },
    {
     "data": {
      "image/png": "[encoded data removed]",
      "text/plain": [
       "<Figure size 640x480 with 1 Axes>"
      ]
     },
     "metadata": {},
     "output_type": "display_data"
    }
   ],
   "source": [
    "takimlar.value_counts().plot.bar()"
   ]
  },
  {
   "cell_type": "code",
   "execution_count": 20,
   "id": "e7c6d24a",
   "metadata": {
    "collapsed": true
   },
   "outputs": [
    {
     "name": "stdout",
     "output_type": "stream",
     "text": [
      "Collecting seaborn\n",
      "  Downloading seaborn-0.13.2-py3-none-any.whl.metadata (5.4 kB)\n",
      "Requirement already satisfied: numpy!=1.24.0,>=1.20 in c:\\users\\murat\\.conda\\envs\\jupyterlab\\lib\\site-packages (from seaborn) (2.0.0)\n",
      "Requirement already satisfied: pandas>=1.2 in c:\\users\\murat\\.conda\\envs\\jupyterlab\\lib\\site-packages (from seaborn) (2.2.2)\n",
      "Requirement already satisfied: matplotlib!=3.6.1,>=3.4 in c:\\users\\murat\\.conda\\envs\\jupyterlab\\lib\\site-packages (from seaborn) (3.9.1)\n",
      "Requirement already satisfied: contourpy>=1.0.1 in c:\\users\\murat\\.conda\\envs\\jupyterlab\\lib\\site-packages (from matplotlib!=3.6.1,>=3.4->seaborn) (1.2.1)\n",
      "Requirement already satisfied: cycler>=0.10 in c:\\users\\murat\\.conda\\envs\\jupyterlab\\lib\\site-packages (from matplotlib!=3.6.1,>=3.4->seaborn) (0.12.1)\n",
      "Requirement already satisfied: fonttools>=4.22.0 in c:\\users\\murat\\.conda\\envs\\jupyterlab\\lib\\site-packages (from matplotlib!=3.6.1,>=3.4->seaborn) (4.53.1)\n",
      "Requirement already satisfied: kiwisolver>=1.3.1 in c:\\users\\murat\\.conda\\envs\\jupyterlab\\lib\\site-packages (from matplotlib!=3.6.1,>=3.4->seaborn) (1.4.5)\n",
      "Requirement already satisfied: packaging>=20.0 in c:\\users\\murat\\.conda\\envs\\jupyterlab\\lib\\site-packages (from matplotlib!=3.6.1,>=3.4->seaborn) (24.1)\n",
      "Requirement already satisfied: pillow>=8 in c:\\users\\murat\\.conda\\envs\\jupyterlab\\lib\\site-packages (from matplotlib!=3.6.1,>=3.4->seaborn) (10.4.0)\n",
      "Requirement already satisfied: pyparsing>=2.3.1 in c:\\users\\murat\\.conda\\envs\\jupyterlab\\lib\\site-packages (from matplotlib!=3.6.1,>=3.4->seaborn) (3.1.2)\n",
      "Requirement already satisfied: python-dateutil>=2.7 in c:\\users\\murat\\.conda\\envs\\jupyterlab\\lib\\site-packages (from matplotlib!=3.6.1,>=3.4->seaborn) (2.9.0.post0)\n",
      "Requirement already satisfied: pytz>=2020.1 in c:\\users\\murat\\.conda\\envs\\jupyterlab\\lib\\site-packages (from pandas>=1.2->seaborn) (2024.1)\n",
      "Requirement already satisfied: tzdata>=2022.7 in c:\\users\\murat\\.conda\\envs\\jupyterlab\\lib\\site-packages (from pandas>=1.2->seaborn) (2024.1)\n",
      "Requirement already satisfied: six>=1.5 in c:\\users\\murat\\.conda\\envs\\jupyterlab\\lib\\site-packages (from python-dateutil>=2.7->matplotlib!=3.6.1,>=3.4->seaborn) (1.16.0)\n",
      "Downloading seaborn-0.13.2-py3-none-any.whl (294 kB)\n",
      "   ---------------------------------------- 0.0/294.9 kB ? eta -:--:--\n",
      "   - -------------------------------------- 10.2/294.9 kB ? eta -:--:--\n",
      "   - -------------------------------------- 10.2/294.9 kB ? eta -:--:--\n",
      "   ----- --------------------------------- 41.0/294.9 kB 330.3 kB/s eta 0:00:01\n",
      "   ------------ -------------------------- 92.2/294.9 kB 585.1 kB/s eta 0:00:01\n",
      "   --------------------------- ------------ 204.8/294.9 kB 1.0 MB/s eta 0:00:01\n",
      "   -------------------------------------- - 286.7/294.9 kB 1.2 MB/s eta 0:00:01\n",
      "   ---------------------------------------- 294.9/294.9 kB 1.1 MB/s eta 0:00:00\n",
      "Installing collected packages: seaborn\n",
      "Successfully installed seaborn-0.13.2\n",
      "Note: you may need to restart the kernel to use updated packages.\n"
     ]
    }
   ],
   "source": [
    "#pip install --upgrade seaborn"
   ]
  },
  {
   "cell_type": "code",
   "execution_count": 21,
   "id": "7e84326f",
   "metadata": {},
   "outputs": [],
   "source": [
    "import seaborn as sns"
   ]
  },
  {
   "cell_type": "code",
   "execution_count": 23,
   "id": "01f8c283",
   "metadata": {},
   "outputs": [],
   "source": [
    "sns.set_style(\"darkgrid\")"
   ]
  },
  {
   "cell_type": "code",
   "execution_count": 25,
   "id": "f2dff75c",
   "metadata": {
    "collapsed": true
   },
   "outputs": [
    {
     "data": {
      "text/plain": [
       "<Axes: xlabel='None', ylabel='count'>"
      ]
     },
     "execution_count": 25,
     "metadata": {},
     "output_type": "execute_result"
    },
    {
     "data": {
      "image/png": "[encoded data removed]",
      "text/plain": [
       "<Figure size 640x480 with 1 Axes>"
      ]
     },
     "metadata": {},
     "output_type": "display_data"
    }
   ],
   "source": [
    "sns.countplot(x=takimlar)"
   ]
  },
  {
   "cell_type": "code",
   "execution_count": 26,
   "id": "26b737b2",
   "metadata": {},
   "outputs": [
    {
     "data": {
      "text/plain": [
       "0    60\n",
       "1    70\n",
       "2    80\n",
       "3    90\n",
       "4    50\n",
       "5    40\n",
       "6    10\n",
       "dtype: int64"
      ]
     },
     "execution_count": 26,
     "metadata": {},
     "output_type": "execute_result"
    }
   ],
   "source": [
    "puanlar=pd.Series([60,70,80,90,50,40,10])\n",
    "puanlar"
   ]
  },
  {
   "cell_type": "code",
   "execution_count": 28,
   "id": "8ca7b653",
   "metadata": {},
   "outputs": [
    {
     "data": {
      "text/plain": [
       "np.float64(57.142857142857146)"
      ]
     },
     "execution_count": 28,
     "metadata": {},
     "output_type": "execute_result"
    }
   ],
   "source": [
    "puanlar.mean()"
   ]
  },
  {
   "cell_type": "code",
   "execution_count": 29,
   "id": "19a8f0e9",
   "metadata": {},
   "outputs": [
    {
     "data": {
      "text/plain": [
       "np.float64(26.90370836538197)"
      ]
     },
     "execution_count": 29,
     "metadata": {},
     "output_type": "execute_result"
    }
   ],
   "source": [
    "puanlar.std()"
   ]
  },
  {
   "cell_type": "code",
   "execution_count": 33,
   "id": "9ebe24af",
   "metadata": {},
   "outputs": [
    {
     "data": {
      "text/plain": [
       "np.int64(1)"
      ]
     },
     "execution_count": 33,
     "metadata": {},
     "output_type": "execute_result"
    }
   ],
   "source": [
    "puanlar[puanlar<40].count()"
   ]
  },
  {
   "cell_type": "code",
   "execution_count": 35,
   "id": "19c126d6",
   "metadata": {
    "collapsed": true
   },
   "outputs": [
    {
     "data": {
      "text/plain": [
       "0     70\n",
       "1     80\n",
       "2     90\n",
       "3    100\n",
       "4     60\n",
       "5     50\n",
       "6     20\n",
       "dtype: int64"
      ]
     },
     "execution_count": 35,
     "metadata": {},
     "output_type": "execute_result"
    }
   ],
   "source": [
    "puanlar=puanlar+10\n",
    "puanlar"
   ]
  },
  {
   "cell_type": "code",
   "execution_count": 36,
   "id": "8d1d94c0",
   "metadata": {
    "collapsed": true
   },
   "outputs": [
    {
     "data": {
      "text/plain": [
       "2017    120\n",
       "2018    150\n",
       "2019    180\n",
       "2020    200\n",
       "2021    250\n",
       "2022    300\n",
       "dtype: int64"
      ]
     },
     "execution_count": 36,
     "metadata": {},
     "output_type": "execute_result"
    }
   ],
   "source": [
    "uretim_miktarlari=pd.Series([120,150,180,200,250,300], \n",
    "                            index=[2017,2018,2019,2020,2021,2022])\n",
    "uretim_miktarlari"
   ]
  },
  {
   "cell_type": "code",
   "execution_count": 37,
   "id": "b8096eb7",
   "metadata": {},
   "outputs": [
    {
     "data": {
      "text/plain": [
       "np.int64(1200)"
      ]
     },
     "execution_count": 37,
     "metadata": {},
     "output_type": "execute_result"
    }
   ],
   "source": [
    "uretim_miktarlari.sum()"
   ]
  },
  {
   "cell_type": "code",
   "execution_count": 38,
   "id": "9b7aa824",
   "metadata": {},
   "outputs": [
    {
     "data": {
      "text/plain": [
       "<Axes: >"
      ]
     },
     "execution_count": 38,
     "metadata": {},
     "output_type": "execute_result"
    },
    {
     "data": {
      "image/png": "[encoded data removed]",
      "text/plain": [
       "<Figure size 640x480 with 1 Axes>"
      ]
     },
     "metadata": {},
     "output_type": "display_data"
    }
   ],
   "source": [
    "uretim_miktarlari.plot()"
   ]
  },
  {
   "cell_type": "code",
   "execution_count": 42,
   "id": "02e0dde4",
   "metadata": {
    "collapsed": true
   },
   "outputs": [
    {
     "name": "stderr",
     "output_type": "stream",
     "text": [
      "C:\\Users\\murat\\AppData\\Local\\Temp\\ipykernel_13624\\945902905.py:2: FutureWarning: 'M' is deprecated and will be removed in a future version, please use 'ME' instead.\n",
      "  tarihler=pd.date_range(\"2023-01-01\",periods=12, freq=\"M\") #12 ay\n"
     ]
    },
    {
     "data": {
      "text/plain": [
       "2023-01-31    120\n",
       "2023-02-28    150\n",
       "2023-03-31    180\n",
       "2023-04-30    200\n",
       "2023-05-31    250\n",
       "2023-06-30    300\n",
       "2023-07-31    320\n",
       "2023-08-31    350\n",
       "2023-09-30    400\n",
       "2023-10-31    450\n",
       "2023-11-30    500\n",
       "2023-12-31    600\n",
       "Freq: ME, dtype: int64"
      ]
     },
     "execution_count": 42,
     "metadata": {},
     "output_type": "execute_result"
    }
   ],
   "source": [
    "import datetime\n",
    "tarihler=pd.date_range(\"2023-01-01\",periods=12, freq=\"M\") #12 ay\n",
    "uretim_miktarlari=pd.Series([120,150,180,200,250,300,\n",
    "                            320,350,400,450,500,600],\n",
    "                            index=tarihler)\n",
    "uretim_miktarlari\n"
   ]
  },
  {
   "cell_type": "code",
   "execution_count": 44,
   "id": "d40e8660",
   "metadata": {
    "collapsed": true
   },
   "outputs": [
    {
     "data": {
      "image/png": "[encoded data removed]",
      "text/plain": [
       "<Figure size 640x480 with 1 Axes>"
      ]
     },
     "metadata": {},
     "output_type": "display_data"
    }
   ],
   "source": [
    "uretim_miktarlari.plot();"
   ]
  },
  {
   "cell_type": "markdown",
   "id": "9536f8a2",
   "metadata": {},
   "source": [
    "# Data FRame"
   ]
  },
  {
   "cell_type": "code",
   "execution_count": 46,
   "id": "985e14c4",
   "metadata": {},
   "outputs": [
    {
     "data": {
      "text/html": [
       "<div>\n",
       "<style scoped>\n",
       "    .dataframe tbody tr th:only-of-type {\n",
       "        vertical-align: middle;\n",
       "    }\n",
       "\n",
       "    .dataframe tbody tr th {\n",
       "        vertical-align: top;\n",
       "    }\n",
       "\n",
       "    .dataframe thead th {\n",
       "        text-align: right;\n",
       "    }\n",
       "</style>\n",
       "<table border=\"1\" class=\"dataframe\">\n",
       "  <thead>\n",
       "    <tr style=\"text-align: right;\">\n",
       "      <th></th>\n",
       "      <th>isimler</th>\n",
       "      <th>puanlar</th>\n",
       "      <th>cinsiyet</th>\n",
       "    </tr>\n",
       "  </thead>\n",
       "  <tbody>\n",
       "    <tr>\n",
       "      <th>0</th>\n",
       "      <td>Ali</td>\n",
       "      <td>60</td>\n",
       "      <td>E</td>\n",
       "    </tr>\n",
       "    <tr>\n",
       "      <th>1</th>\n",
       "      <td>Veli</td>\n",
       "      <td>70</td>\n",
       "      <td>E</td>\n",
       "    </tr>\n",
       "    <tr>\n",
       "      <th>2</th>\n",
       "      <td>Ayse</td>\n",
       "      <td>80</td>\n",
       "      <td>K</td>\n",
       "    </tr>\n",
       "    <tr>\n",
       "      <th>3</th>\n",
       "      <td>Fatma</td>\n",
       "      <td>90</td>\n",
       "      <td>K</td>\n",
       "    </tr>\n",
       "    <tr>\n",
       "      <th>4</th>\n",
       "      <td>Ahmet</td>\n",
       "      <td>50</td>\n",
       "      <td>E</td>\n",
       "    </tr>\n",
       "    <tr>\n",
       "      <th>5</th>\n",
       "      <td>Adem</td>\n",
       "      <td>40</td>\n",
       "      <td>E</td>\n",
       "    </tr>\n",
       "  </tbody>\n",
       "</table>\n",
       "</div>"
      ],
      "text/plain": [
       "  isimler  puanlar cinsiyet\n",
       "0     Ali       60        E\n",
       "1    Veli       70        E\n",
       "2    Ayse       80        K\n",
       "3   Fatma       90        K\n",
       "4   Ahmet       50        E\n",
       "5    Adem       40        E"
      ]
     },
     "execution_count": 46,
     "metadata": {},
     "output_type": "execute_result"
    }
   ],
   "source": [
    "isimler=[\"Ali\",\"Veli\",\"Ayse\",\"Fatma\", 'Ahmet','Adem']\n",
    "puanlar=[60,70,80,90,50,40]\n",
    "cinsiyet=[\"E\",\"E\",\"K\",\"K\",\"E\",\"E\"]\n",
    "df=pd.DataFrame({\"isimler\":isimler,\"puanlar\":puanlar,\n",
    "                 \"cinsiyet\":cinsiyet})\n",
    "df"
   ]
  },
  {
   "cell_type": "code",
   "execution_count": 47,
   "id": "4d66008c",
   "metadata": {},
   "outputs": [
    {
     "name": "stdout",
     "output_type": "stream",
     "text": [
      "<class 'pandas.core.frame.DataFrame'>\n",
      "RangeIndex: 6 entries, 0 to 5\n",
      "Data columns (total 3 columns):\n",
      " #   Column    Non-Null Count  Dtype \n",
      "---  ------    --------------  ----- \n",
      " 0   isimler   6 non-null      object\n",
      " 1   puanlar   6 non-null      int64 \n",
      " 2   cinsiyet  6 non-null      object\n",
      "dtypes: int64(1), object(2)\n",
      "memory usage: 272.0+ bytes\n"
     ]
    }
   ],
   "source": [
    "df.info()"
   ]
  },
  {
   "cell_type": "code",
   "execution_count": 48,
   "id": "65ece9b4",
   "metadata": {},
   "outputs": [
    {
     "data": {
      "text/plain": [
       "0      Ali\n",
       "1     Veli\n",
       "2     Ayse\n",
       "3    Fatma\n",
       "4    Ahmet\n",
       "5     Adem\n",
       "Name: isimler, dtype: object"
      ]
     },
     "execution_count": 48,
     "metadata": {},
     "output_type": "execute_result"
    }
   ],
   "source": [
    "df['isimler']"
   ]
  }
 ],
 "metadata": {
  "kernelspec": {
   "display_name": "Python 3 (ipykernel)",
   "language": "python",
   "name": "python3"
  },
  "language_info": {
   "codemirror_mode": {
    "name": "ipython",
    "version": 3
   },
   "file_extension": ".py",
   "mimetype": "text/x-python",
   "name": "python",
   "nbconvert_exporter": "python",
   "pygments_lexer": "ipython3",
   "version": "3.10.14"
  }
 },
 "nbformat": 4,
 "nbformat_minor": 5
}
