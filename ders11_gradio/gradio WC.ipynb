{
 "cells": [
  {
   "cell_type": "markdown",
   "id": "2a90fbff",
   "metadata": {},
   "source": [
    "## Gradio WC Uygulaması ## "
   ]
  },
  {
   "cell_type": "code",
   "execution_count": 1,
   "id": "be250f6c",
   "metadata": {
    "execution": {
     "iopub.execute_input": "2024-08-16T19:17:24.861843Z",
     "iopub.status.busy": "2024-08-16T19:17:24.861843Z",
     "iopub.status.idle": "2024-08-16T19:17:24.876841Z",
     "shell.execute_reply": "2024-08-16T19:17:24.875859Z",
     "shell.execute_reply.started": "2024-08-16T19:17:24.861843Z"
    }
   },
   "outputs": [],
   "source": [
    "#pip install gradio"
   ]
  },
  {
   "cell_type": "code",
   "execution_count": 2,
   "id": "3641243c",
   "metadata": {
    "execution": {
     "iopub.execute_input": "2024-08-16T19:17:24.877841Z",
     "iopub.status.busy": "2024-08-16T19:17:24.877841Z",
     "iopub.status.idle": "2024-08-16T19:17:24.891842Z",
     "shell.execute_reply": "2024-08-16T19:17:24.891842Z",
     "shell.execute_reply.started": "2024-08-16T19:17:24.877841Z"
    },
    "scrolled": true
   },
   "outputs": [],
   "source": [
    "#pip install stylecloud"
   ]
  },
  {
   "cell_type": "code",
   "execution_count": 3,
   "id": "34bfd03d",
   "metadata": {
    "execution": {
     "iopub.execute_input": "2024-08-16T19:17:24.892840Z",
     "iopub.status.busy": "2024-08-16T19:17:24.892840Z",
     "iopub.status.idle": "2024-08-16T19:17:24.907840Z",
     "shell.execute_reply": "2024-08-16T19:17:24.907840Z",
     "shell.execute_reply.started": "2024-08-16T19:17:24.892840Z"
    }
   },
   "outputs": [],
   "source": [
    "#help(stylecloud)"
   ]
  },
  {
   "cell_type": "code",
   "execution_count": 4,
   "id": "cf2898ff",
   "metadata": {
    "execution": {
     "iopub.execute_input": "2024-08-16T19:17:24.908842Z",
     "iopub.status.busy": "2024-08-16T19:17:24.908842Z",
     "iopub.status.idle": "2024-08-16T19:17:24.923843Z",
     "shell.execute_reply": "2024-08-16T19:17:24.923843Z",
     "shell.execute_reply.started": "2024-08-16T19:17:24.908842Z"
    }
   },
   "outputs": [],
   "source": [
    "#pip uninstall stylecloud\n",
    "#pip install stylecloud==0.5.2"
   ]
  },
  {
   "cell_type": "code",
   "execution_count": 5,
   "id": "cfb3d8e1",
   "metadata": {
    "execution": {
     "iopub.execute_input": "2024-08-16T19:17:24.925842Z",
     "iopub.status.busy": "2024-08-16T19:17:24.924841Z",
     "iopub.status.idle": "2024-08-16T19:17:24.939845Z",
     "shell.execute_reply": "2024-08-16T19:17:24.939845Z",
     "shell.execute_reply.started": "2024-08-16T19:17:24.924841Z"
    }
   },
   "outputs": [
    {
     "data": {
      "text/plain": [
       "'9.4.0'"
      ]
     },
     "execution_count": 5,
     "metadata": {},
     "output_type": "execute_result"
    }
   ],
   "source": [
    "#pip install Pillow==9.4.0\n",
    "import PIL\n",
    "PIL.__version__"
   ]
  },
  {
   "cell_type": "code",
   "execution_count": 6,
   "id": "bfecd6e1",
   "metadata": {
    "execution": {
     "iopub.execute_input": "2024-08-16T19:17:24.941843Z",
     "iopub.status.busy": "2024-08-16T19:17:24.941843Z",
     "iopub.status.idle": "2024-08-16T19:17:30.764429Z",
     "shell.execute_reply": "2024-08-16T19:17:30.763410Z",
     "shell.execute_reply.started": "2024-08-16T19:17:24.941843Z"
    },
    "scrolled": true
   },
   "outputs": [
    {
     "name": "stdout",
     "output_type": "stream",
     "text": [
      "Running on local URL:  http://127.0.0.1:7860\n",
      "Running on public URL: https://41bd1e5441cb3112e3.gradio.live\n",
      "\n",
      "This share link expires in 72 hours. For free permanent hosting and GPU upgrades, run `gradio deploy` from Terminal to deploy to Spaces (https://huggingface.co/spaces)\n"
     ]
    },
    {
     "data": {
      "text/html": [
       "<div><iframe src=\"https://41bd1e5441cb3112e3.gradio.live\" width=\"100%\" height=\"500\" allow=\"autoplay; camera; microphone; clipboard-read; clipboard-write;\" frameborder=\"0\" allowfullscreen></iframe></div>"
      ],
      "text/plain": [
       "<IPython.core.display.HTML object>"
      ]
     },
     "metadata": {},
     "output_type": "display_data"
    },
    {
     "data": {
      "text/plain": []
     },
     "execution_count": 6,
     "metadata": {},
     "output_type": "execute_result"
    }
   ],
   "source": [
    "import gradio as gr\n",
    "import stylecloud\n",
    "from PIL import Image\n",
    "import os\n",
    "#fonksiyon tanımla\n",
    "def create_stylecloud(file,language,icon):\n",
    "    #icon kodları için :https://fontawesome.com/icons\n",
    "    text=file.decode(\"utf-8\")\n",
    "    output_file='stylecloud.png'\n",
    "    \n",
    "    #kelime bulutu oluştur\n",
    "    stylecloud.gen_stylecloud(\n",
    "        text=text,\n",
    "        icon_name=icon,\n",
    "        size=500,\n",
    "        output_name=output_file,\n",
    "    )\n",
    "    #oluşturlan kelime bulutunun dosya adı\n",
    "    return output_file\n",
    "'''\n",
    "Extra paretmetreler\n",
    " palette=\"cartocolors.qualitative.Bold_10\",\n",
    "        gradient=\"horizontal\",\n",
    "        background_color=\"white\",\n",
    "        collocations=False\n",
    "'''\n",
    "#Gradio arayüzünü oluştur\n",
    "with gr.Blocks() as demo:\n",
    "    gr.Markdown('Kelime Bulutu Oluşturucu')\n",
    "    with gr.Row():\n",
    "        file_input=gr.File(label='Metin dosyasını yükle', type='binary')\n",
    "        language=gr.Radio(choices=['TR', 'En'],label='Dil Seçimi', value='TR')\n",
    "        icon=gr.Dropdown(choices=[\"fas fa-car\", \"fas fa-star-and-crescent\", \"fas fa-trophy\", \"fas fa-heart\"],\n",
    "                        label='İkon seçimi',value=\"fas fa-car\")\n",
    "        output_file=gr.File(label='Kelime Bulutunu indir')\n",
    "        create_button=gr.Button('Oluştur')\n",
    "        #butona basıldığında\n",
    "        create_button.click(\n",
    "        create_stylecloud,\n",
    "        inputs=[file_input,language,icon],\n",
    "        outputs=output_file\n",
    "        )\n",
    "demo.launch(share=True) #share=True public lnk verir"
   ]
  },
  {
   "cell_type": "code",
   "execution_count": null,
   "id": "9bc3554f",
   "metadata": {},
   "outputs": [],
   "source": []
  }
 ],
 "metadata": {
  "kernelspec": {
   "display_name": "Python 3 (ipykernel)",
   "language": "python",
   "name": "python3"
  },
  "language_info": {
   "codemirror_mode": {
    "name": "ipython",
    "version": 3
   },
   "file_extension": ".py",
   "mimetype": "text/x-python",
   "name": "python",
   "nbconvert_exporter": "python",
   "pygments_lexer": "ipython3",
   "version": "3.10.0"
  }
 },
 "nbformat": 4,
 "nbformat_minor": 5
}
