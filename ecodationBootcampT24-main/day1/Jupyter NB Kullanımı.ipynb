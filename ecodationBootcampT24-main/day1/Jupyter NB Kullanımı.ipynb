{
 "cells": [
  {
   "cell_type": "code",
   "execution_count": 1,
   "id": "0e32d751-f82d-40fb-aed3-4c057343b69c",
   "metadata": {},
   "outputs": [
    {
     "name": "stdout",
     "output_type": "stream",
     "text": [
      "Merhaba Arkadaşlar\n"
     ]
    }
   ],
   "source": [
    "print ('Merhaba Arkadaşlar')"
   ]
  },
  {
   "cell_type": "code",
   "execution_count": 3,
   "id": "3b0c18ce-8a52-4fef-b0c3-fb5b45f47b16",
   "metadata": {},
   "outputs": [
    {
     "data": {
      "text/plain": [
       "2"
      ]
     },
     "execution_count": 3,
     "metadata": {},
     "output_type": "execute_result"
    }
   ],
   "source": [
    "2"
   ]
  },
  {
   "cell_type": "code",
   "execution_count": 4,
   "id": "7748d67a-f4ea-419e-8b34-ef4245b5e357",
   "metadata": {},
   "outputs": [
    {
     "data": {
      "text/plain": [
       "11"
      ]
     },
     "execution_count": 4,
     "metadata": {},
     "output_type": "execute_result"
    }
   ],
   "source": [
    "5+6"
   ]
  },
  {
   "cell_type": "code",
   "execution_count": 5,
   "id": "bfb79615-7158-4698-a972-bc1d5a561b1c",
   "metadata": {},
   "outputs": [
    {
     "name": "stdout",
     "output_type": "stream",
     "text": [
      "11\n"
     ]
    }
   ],
   "source": [
    "print (5+6)"
   ]
  },
  {
   "cell_type": "code",
   "execution_count": 6,
   "id": "fba59d5d-a00f-4e26-a8d3-5b1cf9faf0a4",
   "metadata": {},
   "outputs": [
    {
     "name": "stdout",
     "output_type": "stream",
     "text": [
      "MuratAltun\n"
     ]
    }
   ],
   "source": [
    "print ('Murat' + 'Altun')"
   ]
  },
  {
   "cell_type": "code",
   "execution_count": 1,
   "id": "3c8a9018-dee9-4f3e-b394-809f2f2739de",
   "metadata": {},
   "outputs": [
    {
     "name": "stdout",
     "output_type": "stream",
     "text": [
      "24.7 μs ± 495 ns per loop (mean ± std. dev. of 7 runs, 10,000 loops each)\n"
     ]
    }
   ],
   "source": [
    "%timeit sum(range(1000))"
   ]
  },
  {
   "cell_type": "code",
   "execution_count": null,
   "id": "6bbad374-aed4-4b16-9b40-452873beb4ac",
   "metadata": {},
   "outputs": [],
   "source": []
  }
 ],
 "metadata": {
  "kernelspec": {
   "display_name": "Python 3 (ipykernel)",
   "language": "python",
   "name": "python3"
  },
  "language_info": {
   "codemirror_mode": {
    "name": "ipython",
    "version": 3
   },
   "file_extension": ".py",
   "mimetype": "text/x-python",
   "name": "python",
   "nbconvert_exporter": "python",
   "pygments_lexer": "ipython3",
   "version": "3.12.4"
  }
 },
 "nbformat": 4,
 "nbformat_minor": 5
}
