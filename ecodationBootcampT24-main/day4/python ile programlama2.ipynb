{
 "cells": [
  {
   "cell_type": "markdown",
   "id": "9ecf6362-dd29-4390-836e-aa9b2f875a4c",
   "metadata": {},
   "source": [
    "## Python ile progrmalama 2"
   ]
  },
  {
   "cell_type": "code",
   "execution_count": 1,
   "id": "bebad459-188a-40b0-8628-6990651cfdb0",
   "metadata": {},
   "outputs": [
    {
     "name": "stdout",
     "output_type": "stream",
     "text": [
      "Merhaba\n",
      "Murat\n"
     ]
    }
   ],
   "source": [
    "print ('Merhaba'); print('Murat') # noktalı virgül kullanılırsa satır sonu aolarak işlem yapar"
   ]
  },
  {
   "cell_type": "code",
   "execution_count": 3,
   "id": "267207fc-7020-4cfb-8230-c30abf9d9b10",
   "metadata": {},
   "outputs": [
    {
     "data": {
      "text/plain": [
       "0"
      ]
     },
     "execution_count": 3,
     "metadata": {},
     "output_type": "execute_result"
    }
   ],
   "source": [
    "sayi=int() # değer atamadan bir nesne oalrak tanımlar ve değeri 0 olarak  alır\n",
    "sayi"
   ]
  },
  {
   "cell_type": "code",
   "execution_count": 5,
   "id": "fd7e755b-adbc-4b59-b06c-a4709eff1e31",
   "metadata": {},
   "outputs": [
    {
     "data": {
      "text/plain": [
       "'taruM'"
      ]
     },
     "execution_count": 5,
     "metadata": {},
     "output_type": "execute_result"
    }
   ],
   "source": [
    "# bir sözcüğü tersine çevirme\n",
    "#Murat Tarum\n",
    "isim='Murat'\n",
    "isim[::-1] \n",
    "#başlangıç ve bitiş değerlerini belirtmiyoıruz ama step değeri -1 olduğu için son karakterden ilke karaktere doğru 1 er adım gidiyor"
   ]
  },
  {
   "cell_type": "code",
   "execution_count": 7,
   "id": "c73fd2a6-f4fa-432d-8238-4be567ef3899",
   "metadata": {},
   "outputs": [
    {
     "data": {
      "text/plain": [
       "'Akr'"
      ]
     },
     "execution_count": 7,
     "metadata": {},
     "output_type": "execute_result"
    }
   ],
   "source": [
    "\"Ankara\"[::2] # 2 şert atlayarak yazar."
   ]
  },
  {
   "cell_type": "code",
   "execution_count": 8,
   "id": "0b2bb609-ecfe-43b6-a37f-94f06e846152",
   "metadata": {},
   "outputs": [
    {
     "data": {
      "text/plain": [
       "'ANKARA'"
      ]
     },
     "execution_count": 8,
     "metadata": {},
     "output_type": "execute_result"
    }
   ],
   "source": [
    "#str karakter dizilerinde işlemler\n",
    "metin=\"ankara\"\n",
    "metin.upper() # tüm karakterleri büyük harfe çevir"
   ]
  },
  {
   "cell_type": "code",
   "execution_count": 9,
   "id": "4e9f816b-3b18-4a0a-8fcf-2f71898262e0",
   "metadata": {},
   "outputs": [
    {
     "data": {
      "text/plain": [
       "'ankara'"
      ]
     },
     "execution_count": 9,
     "metadata": {},
     "output_type": "execute_result"
    }
   ],
   "source": [
    "metin"
   ]
  },
  {
   "cell_type": "code",
   "execution_count": 10,
   "id": "3133f42f-956c-439f-b1da-45b19e9c8909",
   "metadata": {},
   "outputs": [
    {
     "data": {
      "text/plain": [
       "'ANKARA'"
      ]
     },
     "execution_count": 10,
     "metadata": {},
     "output_type": "execute_result"
    }
   ],
   "source": [
    "metin=metin.upper()\n",
    "metin"
   ]
  },
  {
   "cell_type": "code",
   "execution_count": 11,
   "id": "11a51be5-a1e6-4898-8159-b7ed9eefa835",
   "metadata": {},
   "outputs": [
    {
     "data": {
      "text/plain": [
       "'ankara'"
      ]
     },
     "execution_count": 11,
     "metadata": {},
     "output_type": "execute_result"
    }
   ],
   "source": [
    "metin.lower() # küçük harfe çevir"
   ]
  },
  {
   "cell_type": "code",
   "execution_count": 12,
   "id": "7aef82bb-e0c9-4ede-a188-204de0b60991",
   "metadata": {},
   "outputs": [
    {
     "data": {
      "text/plain": [
       "'ANKARA'"
      ]
     },
     "execution_count": 12,
     "metadata": {},
     "output_type": "execute_result"
    }
   ],
   "source": [
    "metin"
   ]
  },
  {
   "cell_type": "code",
   "execution_count": 13,
   "id": "d4abe182-4b84-46f1-9257-5f07d53d8ef2",
   "metadata": {},
   "outputs": [
    {
     "data": {
      "text/plain": [
       "'ankara'"
      ]
     },
     "execution_count": 13,
     "metadata": {},
     "output_type": "execute_result"
    }
   ],
   "source": [
    "\"Ankara\".lower()"
   ]
  },
  {
   "cell_type": "code",
   "execution_count": 14,
   "id": "e3f1cdd3-0202-44ba-b030-3cc4ab91f0e4",
   "metadata": {},
   "outputs": [],
   "source": [
    "metin='Ankara'.lower()"
   ]
  },
  {
   "cell_type": "code",
   "execution_count": 15,
   "id": "de71a957-c0b0-481b-abae-a2f64cf0921b",
   "metadata": {},
   "outputs": [
    {
     "data": {
      "text/plain": [
       "'ankara'"
      ]
     },
     "execution_count": 15,
     "metadata": {},
     "output_type": "execute_result"
    }
   ],
   "source": [
    "metin"
   ]
  },
  {
   "cell_type": "code",
   "execution_count": 16,
   "id": "b1d5eb93-ddd5-4afc-a6a3-c9da3103cc4d",
   "metadata": {},
   "outputs": [
    {
     "data": {
      "text/plain": [
       "'Murat altun'"
      ]
     },
     "execution_count": 16,
     "metadata": {},
     "output_type": "execute_result"
    }
   ],
   "source": [
    "\"murat altun\".capitalize() # Metnin baş harfini büyük alır"
   ]
  },
  {
   "cell_type": "code",
   "execution_count": 17,
   "id": "94d2b85e-8049-48c9-93cd-831806e781bf",
   "metadata": {},
   "outputs": [
    {
     "data": {
      "text/plain": [
       "'Murat Altun'"
      ]
     },
     "execution_count": 17,
     "metadata": {},
     "output_type": "execute_result"
    }
   ],
   "source": [
    "\"murat altun\".title()"
   ]
  },
  {
   "cell_type": "code",
   "execution_count": 18,
   "id": "9c462e38-ff28-4b13-bdea-6584044fb5f3",
   "metadata": {},
   "outputs": [
    {
     "data": {
      "text/plain": [
       "['murat', 'mustafa', 'elif', 'emre', 'sultan']"
      ]
     },
     "execution_count": 18,
     "metadata": {},
     "output_type": "execute_result"
    }
   ],
   "source": [
    "\"murat mustafa elif emre sultan\".split() #bir listeye ayrı ayrı oge olarak aktarır"
   ]
  },
  {
   "cell_type": "code",
   "execution_count": 19,
   "id": "f7321240-9c4f-40fc-82ae-f7cbca4b973b",
   "metadata": {},
   "outputs": [
    {
     "data": {
      "text/plain": [
       "['Ocak', 'Şubat', 'Mart']"
      ]
     },
     "execution_count": 19,
     "metadata": {},
     "output_type": "execute_result"
    }
   ],
   "source": [
    "\"Ocak-Şubat-Mart\".split('-')"
   ]
  },
  {
   "cell_type": "markdown",
   "id": "3ea86966-c706-46dd-88a6-91819b38d7ca",
   "metadata": {},
   "source": [
    "## Döngüler"
   ]
  },
  {
   "cell_type": "code",
   "execution_count": null,
   "id": "e2835936-074b-4c56-a3a4-b713d6292bb5",
   "metadata": {},
   "outputs": [],
   "source": [
    "#while\n",
    "i=0\n",
    "while i<10: # aşağıdaki işlemi şart sağlandığı sürece yapar\n",
    "    print(i)\n",
    "    i+=1 # i yi bir artır sayac görevi\n",
    "#döngü dışı\n",
    "print('Döngü dışı')"
   ]
  },
  {
   "cell_type": "code",
   "execution_count": null,
   "id": "903967f8-86d0-4d34-a7c0-bb8519ebaa76",
   "metadata": {},
   "outputs": [],
   "source": [
    "#for\n",
    "for i in range(10):\n",
    "    print(i)"
   ]
  },
  {
   "cell_type": "code",
   "execution_count": 23,
   "id": "6d0b62e2-6d25-4e64-a67b-4567a3e7bd36",
   "metadata": {},
   "outputs": [
    {
     "name": "stdout",
     "output_type": "stream",
     "text": [
      "[0, 1, 2, 3, 4, 5, 6, 7, 8, 9, 10]\n"
     ]
    }
   ],
   "source": [
    "sayi_listesi=[0,1,2,3,4,5,6,7,8,9,10]\n",
    "print(sayi_listesi)"
   ]
  },
  {
   "cell_type": "code",
   "execution_count": 24,
   "id": "94ed9b18-144b-40b1-9462-ebb7a448dd32",
   "metadata": {},
   "outputs": [
    {
     "name": "stdout",
     "output_type": "stream",
     "text": [
      "0\n",
      "5\n",
      "10\n"
     ]
    }
   ],
   "source": [
    "for sayi in sayi_listesi: # listedeki her bir sayi için\n",
    "    if sayi%5==0: #Eğer sayi 5 e tam bölünüyorsa\n",
    "        print(sayi) # o sayıyı ekrana yazdır"
   ]
  },
  {
   "cell_type": "code",
   "execution_count": 28,
   "id": "ec39a53e-8a67-4ef5-bc7b-fd6635c3f966",
   "metadata": {},
   "outputs": [
    {
     "name": "stdout",
     "output_type": "stream",
     "text": [
      "1 2 3 4 5 6 7 8 9 10 11 12 13 14 15 16 17 18 19 20 21 22 23 24 25 26 27 28 29 30 31 32 33 34 35 36 37 38 39 40 41 42 43 44 45 46 47 48 49 50 51 52 53 54 55 56 57 58 59 60 61 62 63 64 65 66 67 68 69 70 71 72 73 74 75 76 77 78 79 80 81 82 83 84 85 86 87 88 89 90 91 92 93 94 95 96 97 98 99 100\n"
     ]
    }
   ],
   "source": [
    "sayi_listesi=list(range(1,101,1)) # dilimlemede olduğu gibi 1-100 e kadar 1 er artış\n",
    "print(*sayi_listesi)"
   ]
  },
  {
   "cell_type": "code",
   "execution_count": 29,
   "id": "381ab71b-2ca2-4a99-9bce-be6039a0fd96",
   "metadata": {},
   "outputs": [
    {
     "data": {
      "text/plain": [
       "[1, 3, 5, 7, 9]"
      ]
     },
     "execution_count": 29,
     "metadata": {},
     "output_type": "execute_result"
    }
   ],
   "source": [
    "sayi_listesi[0:10:2] # dilimleme işleme yapılabilir"
   ]
  },
  {
   "cell_type": "code",
   "execution_count": 30,
   "id": "f5f3e8fd-b997-461b-9463-05816cb340e4",
   "metadata": {},
   "outputs": [
    {
     "data": {
      "text/plain": [
       "[0, 1, 4, 9, 16, 25, 36, 49, 64, 81, 100]"
      ]
     },
     "execution_count": 30,
     "metadata": {},
     "output_type": "execute_result"
    }
   ],
   "source": [
    "liste=[] # boş liste\n",
    "sayi_listesi=list(range(11)) # bir sayı dizisi oluştur\n",
    "for sayi in sayi_listesi: # sayı dizisindeki her bir sdayı için tekrarla\n",
    "    liste.append(sayi**2) #karesini al listeye ekle\n",
    "liste"
   ]
  },
  {
   "cell_type": "markdown",
   "id": "788ada0d-a76c-420f-aee4-81b0e59f975b",
   "metadata": {},
   "source": [
    "List Compherensions"
   ]
  },
  {
   "cell_type": "code",
   "execution_count": 31,
   "id": "7112d66f-64c9-451b-ad23-bea6a969385d",
   "metadata": {},
   "outputs": [
    {
     "data": {
      "text/plain": [
       "[0, 1, 4, 9, 16, 25, 36, 49, 64, 81, 100]"
      ]
     },
     "execution_count": 31,
     "metadata": {},
     "output_type": "execute_result"
    }
   ],
   "source": [
    "[sayi**2  for sayi in sayi_listesi] # sayı listesindeki her bir sayı için karesini al"
   ]
  },
  {
   "cell_type": "code",
   "execution_count": 32,
   "id": "efe0cfb5-868f-4fac-92df-5be6a90c05e0",
   "metadata": {},
   "outputs": [
    {
     "data": {
      "text/plain": [
       "25"
      ]
     },
     "execution_count": 32,
     "metadata": {},
     "output_type": "execute_result"
    }
   ],
   "source": [
    "#tek satırlık fonksiyonlar\n",
    "fonk=(lambda x:x**2)\n",
    "fonk(5)"
   ]
  },
  {
   "cell_type": "code",
   "execution_count": 33,
   "id": "aaa63dd7-9057-4bd7-8eed-36f131bde323",
   "metadata": {},
   "outputs": [
    {
     "data": {
      "text/plain": [
       "25"
      ]
     },
     "execution_count": 33,
     "metadata": {},
     "output_type": "execute_result"
    }
   ],
   "source": [
    "(lambda x:x**2)(5)"
   ]
  },
  {
   "cell_type": "code",
   "execution_count": 34,
   "id": "2c577862-3d04-47bd-96be-38498c6ee6b7",
   "metadata": {},
   "outputs": [
    {
     "data": {
      "text/plain": [
       "2"
      ]
     },
     "execution_count": 34,
     "metadata": {},
     "output_type": "execute_result"
    }
   ],
   "source": [
    "(lambda x:x%5)(17)"
   ]
  },
  {
   "cell_type": "code",
   "execution_count": 35,
   "id": "0dc13114-c21d-4176-b7b6-feb28da46aca",
   "metadata": {},
   "outputs": [
    {
     "data": {
      "text/plain": [
       "10"
      ]
     },
     "execution_count": 35,
     "metadata": {},
     "output_type": "execute_result"
    }
   ],
   "source": [
    "(lambda x,y:x*y)(5,2)"
   ]
  },
  {
   "cell_type": "code",
   "execution_count": 36,
   "id": "1c443a24-ba09-400f-9842-5b9c0568bf58",
   "metadata": {},
   "outputs": [
    {
     "data": {
      "text/plain": [
       "'taruM'"
      ]
     },
     "execution_count": 36,
     "metadata": {},
     "output_type": "execute_result"
    }
   ],
   "source": [
    "(lambda x:x[::-1])(\"Murat\")"
   ]
  },
  {
   "cell_type": "code",
   "execution_count": 37,
   "id": "4216cfbe-2207-453f-994d-81e8730b3f91",
   "metadata": {},
   "outputs": [
    {
     "data": {
      "text/plain": [
       "'taruM'"
      ]
     },
     "execution_count": 37,
     "metadata": {},
     "output_type": "execute_result"
    }
   ],
   "source": [
    "tersi=(lambda x:x[::-1])\n",
    "tersi(\"Murat\")"
   ]
  },
  {
   "cell_type": "code",
   "execution_count": 38,
   "id": "95958363-80b0-4656-8670-3f422d56fb14",
   "metadata": {},
   "outputs": [
    {
     "data": {
      "text/plain": [
       "'afatsuM'"
      ]
     },
     "execution_count": 38,
     "metadata": {},
     "output_type": "execute_result"
    }
   ],
   "source": [
    "tersi('Mustafa')"
   ]
  },
  {
   "cell_type": "code",
   "execution_count": 39,
   "id": "27a3b1d3-10a7-4ff2-a943-a544d32169d9",
   "metadata": {},
   "outputs": [],
   "source": [
    "# kullanıcı tanımlı fonksiyonlar\n",
    "def kare_al(x):\n",
    "    return x**2"
   ]
  },
  {
   "cell_type": "code",
   "execution_count": 40,
   "id": "d8a4a9c0-2bc1-414c-9864-7c617c523a74",
   "metadata": {},
   "outputs": [
    {
     "data": {
      "text/plain": [
       "81"
      ]
     },
     "execution_count": 40,
     "metadata": {},
     "output_type": "execute_result"
    }
   ],
   "source": [
    "kare_al(9)"
   ]
  },
  {
   "cell_type": "code",
   "execution_count": 41,
   "id": "d8c7acb1-04bf-4993-b792-f19c5b058ad8",
   "metadata": {},
   "outputs": [
    {
     "name": "stdout",
     "output_type": "stream",
     "text": [
      "0\n",
      "1\n",
      "4\n",
      "9\n",
      "16\n",
      "25\n",
      "36\n",
      "49\n",
      "64\n",
      "81\n",
      "100\n"
     ]
    }
   ],
   "source": [
    "for i in sayi_listesi:\n",
    "    print(kare_al(i))"
   ]
  },
  {
   "cell_type": "code",
   "execution_count": 52,
   "id": "a72f316c-d05b-4bb0-b1ce-e6d486bc5098",
   "metadata": {},
   "outputs": [
    {
     "data": {
      "text/plain": [
       "[0, 1, 4, 9, 16, 25, 36, 49, 64, 81, 100]"
      ]
     },
     "execution_count": 52,
     "metadata": {},
     "output_type": "execute_result"
    }
   ],
   "source": [
    "lmd_kare_al=(lambda x:x*x)\n",
    "kareleri=list(map(lmd_kare_al,sayi_listesi)) # bir fonksiyonu bir listeye yaymak için, ölçeklendirmek için uygulamak için kul\n",
    "kareleri"
   ]
  },
  {
   "cell_type": "code",
   "execution_count": 51,
   "id": "8d3fb8a8-ce87-4fb5-ba0a-911ef30a86a5",
   "metadata": {},
   "outputs": [
    {
     "data": {
      "text/plain": [
       "[0, 1, 4, 9, 16, 25, 36, 49, 64, 81, 100]"
      ]
     },
     "execution_count": 51,
     "metadata": {},
     "output_type": "execute_result"
    }
   ],
   "source": [
    "def kare_al(x):\n",
    "    return x**2\n",
    "kareleri=list(map(kare_al,sayi_listesi))\n",
    "kareleri"
   ]
  },
  {
   "cell_type": "code",
   "execution_count": 53,
   "id": "f5e270eb-38b4-441f-950b-97ef63054883",
   "metadata": {},
   "outputs": [
    {
     "data": {
      "text/plain": [
       "[0, 1, 4, 9, 16, 25, 36, 49, 64, 81, 100]"
      ]
     },
     "execution_count": 53,
     "metadata": {},
     "output_type": "execute_result"
    }
   ],
   "source": [
    "kareleri=list(map(lambda x:x*x,sayi_listesi)) # bir fonksiyonu bir listeye yaymak için, ölçeklendirmek için uygulamak için kul\n",
    "kareleri"
   ]
  },
  {
   "cell_type": "code",
   "execution_count": 54,
   "id": "ee1e4627-6419-4f70-b92c-b6018fd93c10",
   "metadata": {},
   "outputs": [],
   "source": [
    "def cift_mi(sayi):\n",
    "    if sayi%2==0:\n",
    "        return True\n",
    "    else: return False"
   ]
  },
  {
   "cell_type": "code",
   "execution_count": 56,
   "id": "a06ebe71-38fc-4451-b774-b188c8ead8f6",
   "metadata": {},
   "outputs": [
    {
     "data": {
      "text/plain": [
       "[0, 2, 4, 6, 8, 10]"
      ]
     },
     "execution_count": 56,
     "metadata": {},
     "output_type": "execute_result"
    }
   ],
   "source": [
    "# filter kullanımı\n",
    "sonuc=list(filter(cift_mi,sayi_listesi))\n",
    "sonuc"
   ]
  },
  {
   "cell_type": "code",
   "execution_count": 57,
   "id": "c8618cdd-f87e-4605-8d42-5980d6eef3c1",
   "metadata": {},
   "outputs": [],
   "source": [
    "def us_alma (sayi=5,pow=2): #Varsayılan değerli fonksiyonlar\n",
    "    return sayi**pow # print fonks sep parametresi ve end parametresi"
   ]
  },
  {
   "cell_type": "code",
   "execution_count": 58,
   "id": "0aa8a2cd-b94c-4587-b506-73381bbd2772",
   "metadata": {},
   "outputs": [
    {
     "data": {
      "text/plain": [
       "25"
      ]
     },
     "execution_count": 58,
     "metadata": {},
     "output_type": "execute_result"
    }
   ],
   "source": [
    "us_alma()"
   ]
  },
  {
   "cell_type": "code",
   "execution_count": 59,
   "id": "cd0e2d72-69ff-436a-99c6-e9bc66b2fa22",
   "metadata": {},
   "outputs": [
    {
     "data": {
      "text/plain": [
       "27"
      ]
     },
     "execution_count": 59,
     "metadata": {},
     "output_type": "execute_result"
    }
   ],
   "source": [
    "us_alma(3,3)"
   ]
  },
  {
   "cell_type": "code",
   "execution_count": 1,
   "id": "2bdd70a0-d9fc-4fc4-b51c-8af309069055",
   "metadata": {},
   "outputs": [
    {
     "name": "stdout",
     "output_type": "stream",
     "text": [
      "False\n"
     ]
    }
   ],
   "source": [
    "# operatörler\n",
    "universite=True #1\n",
    "ehliyet=False #0\n",
    "print (ehliyet & universite) # and & operatörü çarpma işlemidir  ve anlamına gelir"
   ]
  },
  {
   "cell_type": "code",
   "execution_count": 2,
   "id": "c893e32f-52a1-4215-92b1-1a7d000b3605",
   "metadata": {},
   "outputs": [
    {
     "name": "stdout",
     "output_type": "stream",
     "text": [
      "False\n"
     ]
    }
   ],
   "source": [
    "print (ehliyet and universite)"
   ]
  },
  {
   "cell_type": "code",
   "execution_count": 3,
   "id": "6df719b7-c713-4992-b200-68184e00e3be",
   "metadata": {},
   "outputs": [
    {
     "name": "stdout",
     "output_type": "stream",
     "text": [
      "True\n"
     ]
    }
   ],
   "source": [
    "print (ehliyet | universite) # toplama işelmidir veya anlamına gelir"
   ]
  },
  {
   "cell_type": "code",
   "execution_count": 5,
   "id": "da2bf05d-2fee-466f-97fe-116a843d0863",
   "metadata": {},
   "outputs": [
    {
     "data": {
      "text/plain": [
       "True"
      ]
     },
     "execution_count": 5,
     "metadata": {},
     "output_type": "execute_result"
    }
   ],
   "source": [
    "yas=25\n",
    "ehliyet=True\n",
    "universite=True\n",
    "tecrube=5\n",
    "# 25  yaş ve altı (üniversite mezunu veya en az 5 yıl tecrübe )\n",
    "# 25 yaş ve altı zorunlu\n",
    "yas<=25 and(universite==True or tecrube>=5)"
   ]
  },
  {
   "cell_type": "code",
   "execution_count": 4,
   "id": "ee43e6e1-533c-4521-a11c-c1a61646332a",
   "metadata": {},
   "outputs": [
    {
     "data": {
      "text/plain": [
       "False"
      ]
     },
     "execution_count": 4,
     "metadata": {},
     "output_type": "execute_result"
    }
   ],
   "source": [
    "yas=25\n",
    "ehliyet=True\n",
    "universite=False\n",
    "tecrube=4\n",
    "ehliyet=True\n",
    "# 25  yaş ve altı (üniversite mezunu veya en az 5 yıl tecrübe ) ve ehliyet olmalı\n",
    "# 25 yaş ve altı zorunlu\n",
    "# True * (False or False) * True\n",
    "# 1 * (0+0) * 1\n",
    "#1*0*1\n",
    "#False\n",
    "yas<=25 and(universite==True or tecrube>=5) and (ehliyet==True)"
   ]
  },
  {
   "cell_type": "code",
   "execution_count": 7,
   "id": "f17e33d5-b1d5-4cc4-8c0b-16d44dc42651",
   "metadata": {},
   "outputs": [
    {
     "data": {
      "text/plain": [
       "False"
      ]
     },
     "execution_count": 7,
     "metadata": {},
     "output_type": "execute_result"
    }
   ],
   "source": [
    "yas=25\n",
    "ehliyet=True\n",
    "universite=False\n",
    "tecrube=5\n",
    "ehliyet=0 #False\n",
    "yas<=25 and(universite==True or tecrube>=5) and (ehliyet==True)"
   ]
  },
  {
   "cell_type": "code",
   "execution_count": 8,
   "id": "43dcb8f7-39c5-4aa8-bd6d-8aabeb0cd9dd",
   "metadata": {},
   "outputs": [
    {
     "data": {
      "text/plain": [
       "True"
      ]
     },
     "execution_count": 8,
     "metadata": {},
     "output_type": "execute_result"
    }
   ],
   "source": [
    "bin=True\n",
    "bin==True"
   ]
  },
  {
   "cell_type": "code",
   "execution_count": 9,
   "id": "b5412887-3a37-4dee-aba4-1c6ef581429b",
   "metadata": {},
   "outputs": [
    {
     "data": {
      "text/plain": [
       "1"
      ]
     },
     "execution_count": 9,
     "metadata": {},
     "output_type": "execute_result"
    }
   ],
   "source": [
    "int(bin) #sayı olduğu için 1"
   ]
  },
  {
   "cell_type": "code",
   "execution_count": 10,
   "id": "1cd86d6a-93f5-4241-8253-7c5047f61966",
   "metadata": {},
   "outputs": [
    {
     "data": {
      "text/plain": [
       "0"
      ]
     },
     "execution_count": 10,
     "metadata": {},
     "output_type": "execute_result"
    }
   ],
   "source": [
    "bin=False\n",
    "int(bin)"
   ]
  },
  {
   "cell_type": "code",
   "execution_count": 12,
   "id": "c84e5366-9476-46b1-a80a-b58347e00447",
   "metadata": {},
   "outputs": [
    {
     "data": {
      "text/plain": [
       "False"
      ]
     },
     "execution_count": 12,
     "metadata": {},
     "output_type": "execute_result"
    }
   ],
   "source": [
    "bin='False'\n",
    "bin ==True"
   ]
  },
  {
   "cell_type": "code",
   "execution_count": 13,
   "id": "0b56bdbb-f91e-448a-be53-7c7fa75740fb",
   "metadata": {},
   "outputs": [
    {
     "data": {
      "text/plain": [
       "False"
      ]
     },
     "execution_count": 13,
     "metadata": {},
     "output_type": "execute_result"
    }
   ],
   "source": [
    "bin='True'\n",
    "bin==True #özel bir değer olduğunu unutma"
   ]
  },
  {
   "cell_type": "code",
   "execution_count": 14,
   "id": "5b52304b-2361-4f8c-82a1-356d86278930",
   "metadata": {},
   "outputs": [
    {
     "data": {
      "text/plain": [
       "bool"
      ]
     },
     "execution_count": 14,
     "metadata": {},
     "output_type": "execute_result"
    }
   ],
   "source": [
    "type(True)"
   ]
  },
  {
   "cell_type": "code",
   "execution_count": 15,
   "id": "8a9c18d8-cbeb-4ff2-9f40-bb05861df1fa",
   "metadata": {},
   "outputs": [
    {
     "data": {
      "text/plain": [
       "True"
      ]
     },
     "execution_count": 15,
     "metadata": {},
     "output_type": "execute_result"
    }
   ],
   "source": [
    "bool('False')"
   ]
  },
  {
   "cell_type": "code",
   "execution_count": 16,
   "id": "91b91185-ed78-4600-8bea-a0ac4ac8cd81",
   "metadata": {},
   "outputs": [
    {
     "data": {
      "text/plain": [
       "False"
      ]
     },
     "execution_count": 16,
     "metadata": {},
     "output_type": "execute_result"
    }
   ],
   "source": [
    "bool('')"
   ]
  },
  {
   "cell_type": "code",
   "execution_count": 18,
   "id": "d2a8617b-a805-42a8-b49c-9492197a63df",
   "metadata": {},
   "outputs": [
    {
     "data": {
      "text/plain": [
       "False"
      ]
     },
     "execution_count": 18,
     "metadata": {},
     "output_type": "execute_result"
    }
   ],
   "source": [
    "bool(0)"
   ]
  },
  {
   "cell_type": "code",
   "execution_count": 19,
   "id": "54caccfd-e9d9-441c-9288-ab631137676f",
   "metadata": {},
   "outputs": [
    {
     "data": {
      "text/plain": [
       "True"
      ]
     },
     "execution_count": 19,
     "metadata": {},
     "output_type": "execute_result"
    }
   ],
   "source": [
    "bool(1)"
   ]
  },
  {
   "cell_type": "code",
   "execution_count": 20,
   "id": "1335787b-cf82-46d1-b790-997776b5c742",
   "metadata": {},
   "outputs": [
    {
     "data": {
      "text/plain": [
       "True"
      ]
     },
     "execution_count": 20,
     "metadata": {},
     "output_type": "execute_result"
    }
   ],
   "source": [
    "bool(2)"
   ]
  },
  {
   "cell_type": "code",
   "execution_count": 23,
   "id": "c28ac4ad-479b-4b3c-bacf-bffa521fbf3e",
   "metadata": {},
   "outputs": [
    {
     "name": "stdin",
     "output_type": "stream",
     "text": [
      "YAŞ: 25\n",
      "Ehliyet Var mı? Evet için: 1 Hayır için: 0 giriniz. 1\n",
      "Üniversite diploması var mı: Evet için 1, Hayır için 0 giriniz 0\n",
      "İş tecrübeniz yıl olarak 5\n"
     ]
    },
    {
     "name": "stdout",
     "output_type": "stream",
     "text": [
      "İlk aşamayı geçtiniz. Mülakata katılabilirsiniz\n"
     ]
    }
   ],
   "source": [
    "# Koşul ifadeleri uygulama\n",
    "yas=(int(input('YAŞ:')))\n",
    "ehliyet=(int(input('Ehliyet Var mı? Evet için: 1 Hayır için: 0 giriniz.')))\n",
    "universite=bool(int(input('Üniversite diploması var mı: Evet için 1, Hayır için 0 giriniz')))\n",
    "tecrube=int(input('İş tecrübeniz yıl olarak'))\n",
    "if yas<26 and (universite or tecrube>=5) and ehliyet:\n",
    "    print('İlk aşamayı geçtiniz. Mülakata katılabilirsiniz')\n",
    "else: \n",
    "    print('Mülakata giriş için şartlarınız uygun değil.')\n",
    "    if yas>25:\n",
    "        print('Yaşınız uygun değil')\n",
    "    if ehliyet==False:\n",
    "        print ('Ehliyet gerekmektedir.')\n",
    "    if universite==False and tecrube<5:\n",
    "        print('Universite veya tecrübe şartı sağlanmıyor')"
   ]
  },
  {
   "cell_type": "code",
   "execution_count": 43,
   "id": "1de46107-4d03-43a6-b1f0-882f12dcfd3d",
   "metadata": {},
   "outputs": [],
   "source": [
    "#Ortalama puan hesaplayan bir fonksiyon tanımlayalım\n",
    "def ortalama_hesapla(vn=50,vny=.30,fn=50,fny=.50,ddn=50,ddny=.20):\n",
    "    yuzde_toplam=vny+fny+ddny\n",
    "    print(\"yüzde toplamn\", yuzde_toplam)\n",
    "    if (vny+fny+ddny)==1:\n",
    "        if 0<=vn<=100 and 0<=fn<=100 and 0<=ddn<=100:\n",
    "            return vn*vny+fn*fny+ddn*ddny\n",
    "        else: print('Puanlar geçerli aralıkta olmalı')\n",
    "    else: print('Yüzdelerin toplamı 1 olmalı')"
   ]
  },
  {
   "cell_type": "code",
   "execution_count": 41,
   "id": "8e95f244-7716-48c8-b149-158c75a7c147",
   "metadata": {},
   "outputs": [
    {
     "data": {
      "text/plain": [
       "50.0"
      ]
     },
     "execution_count": 41,
     "metadata": {},
     "output_type": "execute_result"
    }
   ],
   "source": [
    "ortalama_hesapla()"
   ]
  },
  {
   "cell_type": "code",
   "execution_count": 26,
   "id": "bf4ce0d0-1782-4bdf-a85d-bb12ef7e2a71",
   "metadata": {},
   "outputs": [
    {
     "name": "stdout",
     "output_type": "stream",
     "text": [
      "Yüzdelerin toplamı 1 olmalı\n"
     ]
    }
   ],
   "source": [
    "ortalama_hesapla(70,.3,60,.6,30,.2)"
   ]
  },
  {
   "cell_type": "code",
   "execution_count": 46,
   "id": "b553864a-23bb-4c6f-bee5-47bd934abe51",
   "metadata": {},
   "outputs": [
    {
     "name": "stdout",
     "output_type": "stream",
     "text": [
      "yüzde toplamn 0.9999999999999999\n",
      "Yüzdelerin toplamı 1 olmalı\n"
     ]
    }
   ],
   "source": [
    "ortalama_hesapla(70,3/10,60,6/10,100,1/10)"
   ]
  },
  {
   "cell_type": "code",
   "execution_count": 47,
   "id": "4c6971aa-d659-4ce6-970f-067d821e7727",
   "metadata": {},
   "outputs": [],
   "source": [
    "def ortalama_hesapla(vn=50,vny=.30,fn=50,fny=.50,ddn=50,ddny=.20):\n",
    "    yuzde_toplam=vny+fny+ddny\n",
    "    print(\"yüzde toplamn\", yuzde_toplam)\n",
    "    if (vny+fny+ddny)>=.99999:\n",
    "        if 0<=vn<=100 and 0<=fn<=100 and 0<=ddn<=100:\n",
    "            return vn*vny+fn*fny+ddn*ddny\n",
    "        else: print('Puanlar geçerli aralıkta olmalı')\n",
    "    else: print('Yüzdelerin toplamı 1 olmalı')"
   ]
  },
  {
   "cell_type": "code",
   "execution_count": 48,
   "id": "f3e34048-2029-41d8-addf-9b6a50b54f56",
   "metadata": {},
   "outputs": [
    {
     "name": "stdout",
     "output_type": "stream",
     "text": [
      "yüzde toplamn 0.9999999999999999\n"
     ]
    },
    {
     "data": {
      "text/plain": [
       "67.0"
      ]
     },
     "execution_count": 48,
     "metadata": {},
     "output_type": "execute_result"
    }
   ],
   "source": [
    "ortalama_hesapla(70,3/10,60,6/10,100,1/10)"
   ]
  },
  {
   "cell_type": "code",
   "execution_count": 49,
   "id": "23e83ed0-95df-4088-ae7d-85eb3df0e586",
   "metadata": {},
   "outputs": [
    {
     "name": "stdout",
     "output_type": "stream",
     "text": [
      "dict_keys(['AI', 'ML', 'DL'])\n",
      "dict_values(['Artificial Intelligence', 'Machine Learning', 'Deep Learning'])\n",
      "dict_items([('AI', 'Artificial Intelligence'), ('ML', 'Machine Learning'), ('DL', 'Deep Learning')])\n"
     ]
    }
   ],
   "source": [
    "#Sözlükler\n",
    "sozluk={\"AI\":\"Artificial Intelligence\",\n",
    "        \"ML\":\"Machine Learning\",\n",
    "        \"DL\":\"Deep Learning\"}\n",
    "keys=sozluk.keys()\n",
    "print(keys)\n",
    "values=sozluk.values()\n",
    "print(values)\n",
    "items=sozluk.items()\n",
    "print(items)"
   ]
  },
  {
   "cell_type": "code",
   "execution_count": 50,
   "id": "90e0f96a-044f-46d3-881b-593d560a2b33",
   "metadata": {},
   "outputs": [
    {
     "data": {
      "text/plain": [
       "'Artificial Intelligence'"
      ]
     },
     "execution_count": 50,
     "metadata": {},
     "output_type": "execute_result"
    }
   ],
   "source": [
    "sozluk['AI']"
   ]
  },
  {
   "cell_type": "code",
   "execution_count": null,
   "id": "d89e6f86-b955-427c-9f48-35e9b85d12da",
   "metadata": {},
   "outputs": [],
   "source": [
    "#ÖDEV 10 terimlik bir sözlük oluştur. AI-ML terimeleri olsun \n",
    "#kullanıcı sözlükte bir terim arasın ve sözlükte onun anlamı çıksın\n",
    "# büyük harf küçük harf dikkate almamalı\n",
    "# aradığımız sözcükle başlayan kelimelri de getirmeli tam eşleşme beklememeli"
   ]
  }
 ],
 "metadata": {
  "kernelspec": {
   "display_name": "Python 3 (ipykernel)",
   "language": "python",
   "name": "python3"
  },
  "language_info": {
   "codemirror_mode": {
    "name": "ipython",
    "version": 3
   },
   "file_extension": ".py",
   "mimetype": "text/x-python",
   "name": "python",
   "nbconvert_exporter": "python",
   "pygments_lexer": "ipython3",
   "version": "3.12.4"
  }
 },
 "nbformat": 4,
 "nbformat_minor": 5
}
