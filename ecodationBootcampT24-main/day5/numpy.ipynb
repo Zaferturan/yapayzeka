{
 "cells": [
  {
   "attachments": {
    "d5652717-1f6b-44a2-a910-cfaafce5f640.png": {
     "image/png": "[encoded data removed]"
    }
   },
   "cell_type": "markdown",
   "id": "4dbf99a4-751a-44ae-a91b-f802baa9a712",
   "metadata": {},
   "source": [
    "![image.png](attachment:d5652717-1f6b-44a2-a910-cfaafce5f640.png)"
   ]
  },
  {
   "cell_type": "raw",
   "id": "433e707c-3e08-45ee-81e7-ce033f2b535e",
   "metadata": {},
   "source": [
    "numpy: Numeric Python\n",
    "nümerik, sayısal Python kütüphanesi\n",
    "Anaconda üzerinden Jupyter NB kullnırsanız kurulu olareak gelir.\n",
    "Eğer Kurulu değilse \n",
    "#pip install numpy"
   ]
  },
  {
   "cell_type": "code",
   "execution_count": 3,
   "id": "45abf392-a6d7-49f4-b171-96c1ba0bbd61",
   "metadata": {},
   "outputs": [],
   "source": [
    "#kütphaneyi içe aktar\n",
    "import numpy as np"
   ]
  },
  {
   "cell_type": "code",
   "execution_count": 4,
   "id": "bc1a7ee2-5444-40fb-a00f-41f18b92f57b",
   "metadata": {},
   "outputs": [
    {
     "data": {
      "text/plain": [
       "'1.26.4'"
      ]
     },
     "execution_count": 4,
     "metadata": {},
     "output_type": "execute_result"
    }
   ],
   "source": [
    "#Versiyonu kontrol et\n",
    "np.__version__"
   ]
  },
  {
   "cell_type": "code",
   "execution_count": 5,
   "id": "a9ec544b-b36b-4dc3-b0d5-b30a8798b3bb",
   "metadata": {},
   "outputs": [
    {
     "data": {
      "text/plain": [
       "array([ 1,  2,  3,  4,  5,  6,  7,  8,  9, 10])"
      ]
     },
     "execution_count": 5,
     "metadata": {},
     "output_type": "execute_result"
    }
   ],
   "source": [
    "#bir nıumpy dizisi oluştur\n",
    "sayilar=np.array([1,2,3,4,5,6,7,8,9,10])\n",
    "sayilar"
   ]
  },
  {
   "cell_type": "code",
   "execution_count": 6,
   "id": "30efce3d-14c0-4c5d-8ede-bec0e224824e",
   "metadata": {},
   "outputs": [
    {
     "data": {
      "text/plain": [
       "numpy.ndarray"
      ]
     },
     "execution_count": 6,
     "metadata": {},
     "output_type": "execute_result"
    }
   ],
   "source": [
    "# türünü kontrol et\n",
    "type(sayilar)"
   ]
  },
  {
   "cell_type": "code",
   "execution_count": 7,
   "id": "1eedcf8e-360c-460d-a922-1fad79ceb854",
   "metadata": {},
   "outputs": [
    {
     "data": {
      "text/plain": [
       "list"
      ]
     },
     "execution_count": 7,
     "metadata": {},
     "output_type": "execute_result"
    }
   ],
   "source": [
    "sayi_listesi=[1,2,3,4,5,6,7,8,9,10]\n",
    "type(sayi_listesi)"
   ]
  },
  {
   "cell_type": "code",
   "execution_count": null,
   "id": "75f58e08-7bd7-4446-b113-785e1c4cc71a",
   "metadata": {},
   "outputs": [],
   "source": [
    "sayi_listesi=list(range(1,500,1))\n",
    "sayi_listesi"
   ]
  },
  {
   "cell_type": "code",
   "execution_count": null,
   "id": "597b24f8-fa64-46b0-93eb-d744269cad60",
   "metadata": {},
   "outputs": [],
   "source": [
    "sayi_listesi=list(range(1,500,2))\n",
    "sayi_listesi"
   ]
  },
  {
   "cell_type": "code",
   "execution_count": null,
   "id": "10064c32-88a2-4b11-8bb4-bd92eb49aa18",
   "metadata": {},
   "outputs": [],
   "source": [
    "sayi_listesi=list(range(2,501,2)) # Başlangıç, bitiş dahil değil, step  \n",
    "sayi_listesi"
   ]
  },
  {
   "cell_type": "code",
   "execution_count": null,
   "id": "bc7d93fb-d662-40c6-82fe-49d57595f7c1",
   "metadata": {},
   "outputs": [],
   "source": [
    "np_sayi_listesi=np.array(list(range(1,500)))\n",
    "np_sayi_listesi"
   ]
  },
  {
   "cell_type": "code",
   "execution_count": 12,
   "id": "bb13fa5c-cad3-4f8d-8ed9-468119e859df",
   "metadata": {},
   "outputs": [
    {
     "data": {
      "text/plain": [
       "dtype('int32')"
      ]
     },
     "execution_count": 12,
     "metadata": {},
     "output_type": "execute_result"
    }
   ],
   "source": [
    "np_sayi_listesi.dtype # 32 bitlik veri tam sayı dtype özelliktir"
   ]
  },
  {
   "attachments": {
    "fe1d9d45-a613-4cc5-bcf7-763bbcc0fe10.png": {
     "image/png": "[encoded data removed]"
    }
   },
   "cell_type": "markdown",
   "id": "5a2dc841-a65e-4838-be7e-256fc1063604",
   "metadata": {},
   "source": [
    "![image.png](attachment:fe1d9d45-a613-4cc5-bcf7-763bbcc0fe10.png)"
   ]
  },
  {
   "cell_type": "code",
   "execution_count": 13,
   "id": "0cb8eab2-ee74-4aac-a1b9-9daa9913e90c",
   "metadata": {},
   "outputs": [
    {
     "data": {
      "text/plain": [
       "4"
      ]
     },
     "execution_count": 13,
     "metadata": {},
     "output_type": "execute_result"
    }
   ],
   "source": [
    "# Itemsize veri tipinin byte cinsinden büyüklüğü\n",
    "np_sayi_listesi.itemsize\n",
    "#32/8=4 1 byte 8 bit 4 byte"
   ]
  },
  {
   "cell_type": "code",
   "execution_count": 14,
   "id": "032df508-3258-4dae-9ee5-a38b2c2bac6e",
   "metadata": {},
   "outputs": [
    {
     "data": {
      "text/plain": [
       "'0b1010'"
      ]
     },
     "execution_count": 14,
     "metadata": {},
     "output_type": "execute_result"
    }
   ],
   "source": [
    "# 10 sayısının ikilik sistmede karşılığı\n",
    "bin(10)"
   ]
  },
  {
   "cell_type": "code",
   "execution_count": null,
   "id": "bc439ba5-e36e-4c6b-80d5-b1adb8ee1394",
   "metadata": {},
   "outputs": [],
   "source": [
    "# 100 = 0*0+ 0*10 + 1*100"
   ]
  },
  {
   "cell_type": "code",
   "execution_count": 15,
   "id": "5d53de0e-513a-412a-a530-15286a0859dd",
   "metadata": {},
   "outputs": [],
   "source": [
    "#1111 = 8+4+2+1=15 "
   ]
  },
  {
   "cell_type": "code",
   "execution_count": 16,
   "id": "fb5149c6-4715-4db4-a111-7b5f02596a5f",
   "metadata": {},
   "outputs": [
    {
     "data": {
      "text/plain": [
       "15"
      ]
     },
     "execution_count": 16,
     "metadata": {},
     "output_type": "execute_result"
    }
   ],
   "source": [
    "(2**4)-1"
   ]
  },
  {
   "cell_type": "code",
   "execution_count": 17,
   "id": "32690dd9-28ee-42ae-998a-f0d348ae6ed2",
   "metadata": {},
   "outputs": [
    {
     "data": {
      "text/plain": [
       "99999"
      ]
     },
     "execution_count": 17,
     "metadata": {},
     "output_type": "execute_result"
    }
   ],
   "source": [
    "# onluk sayı sistemi\n",
    "#99999\n",
    "(10**5)-1"
   ]
  },
  {
   "cell_type": "code",
   "execution_count": 18,
   "id": "90ed9d87-e608-4cc0-b294-63a0cd696a6c",
   "metadata": {},
   "outputs": [
    {
     "data": {
      "text/plain": [
       "99999"
      ]
     },
     "execution_count": 18,
     "metadata": {},
     "output_type": "execute_result"
    }
   ],
   "source": [
    "100000-1"
   ]
  },
  {
   "cell_type": "code",
   "execution_count": null,
   "id": "a1346d80-4f4c-4e0d-a898-d6ae2449ce4e",
   "metadata": {},
   "outputs": [],
   "source": [
    "#11111 = 16+8+4+2+1="
   ]
  },
  {
   "cell_type": "code",
   "execution_count": null,
   "id": "1bdf4baa-bad9-4297-95de-bba25a377d91",
   "metadata": {},
   "outputs": [],
   "source": [
    "# 1,2,4,8,16,32,64\n",
    "#001011 110100"
   ]
  },
  {
   "cell_type": "code",
   "execution_count": 19,
   "id": "7672bc2e-aee2-4bc0-bec9-6e3c0d3ca1bd",
   "metadata": {},
   "outputs": [
    {
     "data": {
      "text/plain": [
       "array(['Kırmızı', 'Yeşil', 'Mavi'], dtype='<U7')"
      ]
     },
     "execution_count": 19,
     "metadata": {},
     "output_type": "execute_result"
    }
   ],
   "source": [
    "# Numpy farklı veri türlerini alabilir\n",
    "renkler=np.array(['Kırmızı','Yeşil', 'Mavi']) #RGB kodlama\n",
    "renkler"
   ]
  },
  {
   "cell_type": "code",
   "execution_count": 20,
   "id": "b3bb6135-f7a7-46bd-bfe8-0a4d37906bfb",
   "metadata": {},
   "outputs": [],
   "source": [
    "#U7 unicode string 7 karakter kırmızı en uzun metni aldı"
   ]
  },
  {
   "cell_type": "code",
   "execution_count": 21,
   "id": "227853be-365b-4a99-9efa-443f7d75653e",
   "metadata": {},
   "outputs": [
    {
     "data": {
      "text/plain": [
       "28"
      ]
     },
     "execution_count": 21,
     "metadata": {},
     "output_type": "execute_result"
    }
   ],
   "source": [
    "renkler.itemsize"
   ]
  },
  {
   "cell_type": "markdown",
   "id": "194006ca-7501-4c1b-afb1-0c0ea88841d4",
   "metadata": {},
   "source": [
    "Burada kullanılan Ascii tablosunda her bir karakter 4 bitlik ifadeyle gösteriliyor."
   ]
  },
  {
   "attachments": {
    "258e7f59-bf11-443e-986a-5c62467980a9.png": {
     "image/png": "[encoded data removed]"
    }
   },
   "cell_type": "markdown",
   "id": "755249d4-f988-4518-9e67-e7644b854613",
   "metadata": {},
   "source": [
    "![image.png](attachment:258e7f59-bf11-443e-986a-5c62467980a9.png))"
   ]
  },
  {
   "cell_type": "code",
   "execution_count": 22,
   "id": "c6a562a9-6e90-48b2-a820-0780074e6e6f",
   "metadata": {},
   "outputs": [
    {
     "data": {
      "text/plain": [
       "array([ 1,  2,  3,  4,  5,  6,  7,  8,  9, 10])"
      ]
     },
     "execution_count": 22,
     "metadata": {},
     "output_type": "execute_result"
    }
   ],
   "source": [
    "sayi_listesi=list(range(1,11))\n",
    "np_sayi=np.array(sayi_listesi)\n",
    "np_sayi"
   ]
  },
  {
   "cell_type": "code",
   "execution_count": 24,
   "id": "0b2f6d48-b87e-488d-bc98-a478968fa895",
   "metadata": {},
   "outputs": [
    {
     "data": {
      "text/plain": [
       "1"
      ]
     },
     "execution_count": 24,
     "metadata": {},
     "output_type": "execute_result"
    }
   ],
   "source": [
    "np_sayi.ndim # dizinin boyutunu gösterir"
   ]
  },
  {
   "cell_type": "code",
   "execution_count": 28,
   "id": "cc12eba7-393d-430e-8948-089e70c00b58",
   "metadata": {},
   "outputs": [
    {
     "data": {
      "text/plain": [
       "1"
      ]
     },
     "execution_count": 28,
     "metadata": {},
     "output_type": "execute_result"
    }
   ],
   "source": [
    "np_sayi[0] # np dizisindeki birinci sayıyı getirir\n",
    "#indexler 0 dan başlar"
   ]
  },
  {
   "cell_type": "code",
   "execution_count": 29,
   "id": "a2c9daa6-317f-423f-afd4-79e5c4d0c260",
   "metadata": {},
   "outputs": [
    {
     "data": {
      "text/plain": [
       "array([1, 2, 3])"
      ]
     },
     "execution_count": 29,
     "metadata": {},
     "output_type": "execute_result"
    }
   ],
   "source": [
    "np_sayi[0:3]"
   ]
  },
  {
   "cell_type": "code",
   "execution_count": 25,
   "id": "70eae5d6-36e0-4d23-8908-732ef1621b16",
   "metadata": {},
   "outputs": [
    {
     "data": {
      "text/plain": [
       "array([[1, 2, 3],\n",
       "       [4, 5, 6],\n",
       "       [7, 8, 9]])"
      ]
     },
     "execution_count": 25,
     "metadata": {},
     "output_type": "execute_result"
    }
   ],
   "source": [
    "satir1=[1,2,3]\n",
    "satir2=[4,5,6]\n",
    "satir3=[7,8,9]\n",
    "matris=np.array([satir1,satir2,satir3])\n",
    "matris"
   ]
  },
  {
   "cell_type": "code",
   "execution_count": 26,
   "id": "96c0870a-dce2-4fe5-ab05-da574fd50c82",
   "metadata": {},
   "outputs": [
    {
     "data": {
      "text/plain": [
       "2"
      ]
     },
     "execution_count": 26,
     "metadata": {},
     "output_type": "execute_result"
    }
   ],
   "source": [
    "matris.ndim"
   ]
  },
  {
   "cell_type": "code",
   "execution_count": null,
   "id": "e15952fd-80a2-4a50-97bf-a790615057b6",
   "metadata": {},
   "outputs": [],
   "source": [
    "# boyut demek iç içe liste sayısı demek"
   ]
  },
  {
   "cell_type": "code",
   "execution_count": 30,
   "id": "aa1c5ae6-1e21-41de-bad0-8f8b30931a11",
   "metadata": {},
   "outputs": [
    {
     "data": {
      "text/plain": [
       "array([1, 2, 3])"
      ]
     },
     "execution_count": 30,
     "metadata": {},
     "output_type": "execute_result"
    }
   ],
   "source": [
    "matris[0] # 2 boyutlu dizilerde 0. satırı alır"
   ]
  },
  {
   "cell_type": "code",
   "execution_count": 32,
   "id": "ce990f81-0aee-498b-ad1d-b9ec53a70e31",
   "metadata": {},
   "outputs": [
    {
     "data": {
      "text/plain": [
       "array([[1, 2, 3],\n",
       "       [4, 5, 6]])"
      ]
     },
     "execution_count": 32,
     "metadata": {},
     "output_type": "execute_result"
    }
   ],
   "source": [
    "matris[0:2] #karakter dizilerinde de aynı şekilde\n",
    "# başlangıç 0 bitiş bitiş idahil etme\n",
    "# 0 ,1 - 2 yi dahil etme demek\n"
   ]
  },
  {
   "cell_type": "code",
   "execution_count": 33,
   "id": "9a578975-4f50-411d-abd9-4094a0e3e792",
   "metadata": {},
   "outputs": [
    {
     "data": {
      "text/plain": [
       "array([[1, 2, 3],\n",
       "       [4, 5, 6],\n",
       "       [7, 8, 9]])"
      ]
     },
     "execution_count": 33,
     "metadata": {},
     "output_type": "execute_result"
    }
   ],
   "source": [
    "matris[0:3] # dilimleme  bitişe kadar"
   ]
  },
  {
   "cell_type": "code",
   "execution_count": 31,
   "id": "3e26564b-f093-4d01-b672-0cf345c112c1",
   "metadata": {},
   "outputs": [
    {
     "data": {
      "text/plain": [
       "array([7, 8, 9])"
      ]
     },
     "execution_count": 31,
     "metadata": {},
     "output_type": "execute_result"
    }
   ],
   "source": [
    "matris[2]#indisi yani index numarıs verilen elemanı getir"
   ]
  },
  {
   "cell_type": "code",
   "execution_count": 34,
   "id": "fb0a914a-6058-470d-b0a7-e7bf629dec8b",
   "metadata": {},
   "outputs": [
    {
     "ename": "IndexError",
     "evalue": "index 3 is out of bounds for axis 0 with size 3",
     "output_type": "error",
     "traceback": [
      "\u001b[1;31m---------------------------------------------------------------------------\u001b[0m",
      "\u001b[1;31mIndexError\u001b[0m                                Traceback (most recent call last)",
      "Cell \u001b[1;32mIn[34], line 1\u001b[0m\n\u001b[1;32m----> 1\u001b[0m matris[\u001b[38;5;241m3\u001b[39m]\n",
      "\u001b[1;31mIndexError\u001b[0m: index 3 is out of bounds for axis 0 with size 3"
     ]
    }
   ],
   "source": [
    "matris[3] # olmayan bir index yazıldığında hata verir"
   ]
  },
  {
   "cell_type": "code",
   "execution_count": 35,
   "id": "147ceb4f-10ee-43b0-8701-d228dbdcae86",
   "metadata": {},
   "outputs": [
    {
     "data": {
      "text/plain": [
       "array([4, 5, 6])"
      ]
     },
     "execution_count": 35,
     "metadata": {},
     "output_type": "execute_result"
    }
   ],
   "source": [
    "matris[1]"
   ]
  },
  {
   "cell_type": "code",
   "execution_count": 36,
   "id": "963389ca-b91e-41ad-99d3-b4d94c0559c0",
   "metadata": {},
   "outputs": [
    {
     "data": {
      "text/plain": [
       "array([4, 5, 6])"
      ]
     },
     "execution_count": 36,
     "metadata": {},
     "output_type": "execute_result"
    }
   ],
   "source": [
    "matris_satir=matris[1]\n",
    "matris_satir"
   ]
  },
  {
   "cell_type": "code",
   "execution_count": 37,
   "id": "16196754-dfca-41f2-92b7-5c638110ad31",
   "metadata": {},
   "outputs": [
    {
     "data": {
      "text/plain": [
       "5"
      ]
     },
     "execution_count": 37,
     "metadata": {},
     "output_type": "execute_result"
    }
   ],
   "source": [
    "matris_satir[1]"
   ]
  },
  {
   "cell_type": "code",
   "execution_count": 39,
   "id": "2a690ca2-a626-4541-8511-845d25604089",
   "metadata": {},
   "outputs": [
    {
     "data": {
      "text/plain": [
       "5"
      ]
     },
     "execution_count": 39,
     "metadata": {},
     "output_type": "execute_result"
    }
   ],
   "source": [
    "matris[1][1] # satırı seç daha sonra satırdaki listenin elemanına ulaş"
   ]
  },
  {
   "cell_type": "code",
   "execution_count": null,
   "id": "aff8c3f8-2b13-4c3a-bc84-1288854f92d0",
   "metadata": {},
   "outputs": [],
   "source": [
    "# 9 u yazdır"
   ]
  },
  {
   "cell_type": "code",
   "execution_count": 40,
   "id": "ad3c6574-87fc-485f-84a6-89e9c1cdfd95",
   "metadata": {},
   "outputs": [
    {
     "data": {
      "text/plain": [
       "9"
      ]
     },
     "execution_count": 40,
     "metadata": {},
     "output_type": "execute_result"
    }
   ],
   "source": [
    "matris[2][2]"
   ]
  },
  {
   "cell_type": "code",
   "execution_count": 41,
   "id": "416c4b41-f9de-4ceb-aa92-c323741b6f3f",
   "metadata": {},
   "outputs": [
    {
     "data": {
      "text/plain": [
       "(3, 3)"
      ]
     },
     "execution_count": 41,
     "metadata": {},
     "output_type": "execute_result"
    }
   ],
   "source": [
    "# shape satır,sütun sayısını verir. Şekil\n",
    "matris.shape # 3 satır 3 sütundan oluşuyor"
   ]
  },
  {
   "cell_type": "code",
   "execution_count": 42,
   "id": "45490be6-9352-446b-a4fb-941c21ae58d5",
   "metadata": {},
   "outputs": [
    {
     "data": {
      "text/plain": [
       "array([[1, 2, 3],\n",
       "       [4, 5, 6]])"
      ]
     },
     "execution_count": 42,
     "metadata": {},
     "output_type": "execute_result"
    }
   ],
   "source": [
    "satir1=[1,2,3]\n",
    "satir2=[4,5,6]\n",
    "matris=np.array([satir1,satir2])\n",
    "matris"
   ]
  },
  {
   "cell_type": "code",
   "execution_count": 43,
   "id": "b694fe9b-06a0-4f49-b6c9-14a3e5f51f8a",
   "metadata": {},
   "outputs": [
    {
     "data": {
      "text/plain": [
       "(2, 3)"
      ]
     },
     "execution_count": 43,
     "metadata": {},
     "output_type": "execute_result"
    }
   ],
   "source": [
    "matris.shape"
   ]
  },
  {
   "cell_type": "code",
   "execution_count": 44,
   "id": "0bc385ef-3700-4a63-98ec-c6208ef67846",
   "metadata": {},
   "outputs": [
    {
     "data": {
      "text/plain": [
       "tuple"
      ]
     },
     "execution_count": 44,
     "metadata": {},
     "output_type": "execute_result"
    }
   ],
   "source": [
    "type(matris.shape)"
   ]
  },
  {
   "cell_type": "code",
   "execution_count": 45,
   "id": "59500e9c-363c-439b-b3d0-f6e7f8b5b497",
   "metadata": {},
   "outputs": [
    {
     "data": {
      "text/plain": [
       "2"
      ]
     },
     "execution_count": 45,
     "metadata": {},
     "output_type": "execute_result"
    }
   ],
   "source": [
    "matris.ndim"
   ]
  },
  {
   "cell_type": "code",
   "execution_count": 46,
   "id": "8313e725-1da1-4e2c-a693-cf308bc226e6",
   "metadata": {},
   "outputs": [
    {
     "data": {
      "text/plain": [
       "array([ 0,  2,  4,  6,  8, 10])"
      ]
     },
     "execution_count": 46,
     "metadata": {},
     "output_type": "execute_result"
    }
   ],
   "source": [
    "#nupy dizi oluşturma \n",
    "cift_sayi=np.arange(0,11,2) # metottur\n",
    "cift_sayi"
   ]
  },
  {
   "cell_type": "code",
   "execution_count": 47,
   "id": "4234b1f8-5b8a-4331-aeb8-4f2c2010c7f6",
   "metadata": {},
   "outputs": [
    {
     "data": {
      "text/plain": [
       "array([ 0,  2,  4,  6,  8, 10])"
      ]
     },
     "execution_count": 47,
     "metadata": {},
     "output_type": "execute_result"
    }
   ],
   "source": [
    "cift_sayi=np.array(list(range(0,11,2)))\n",
    "cift_sayi"
   ]
  },
  {
   "cell_type": "code",
   "execution_count": 48,
   "id": "71b4fdce-81f6-426b-9d45-715a9a6364ac",
   "metadata": {},
   "outputs": [
    {
     "data": {
      "text/plain": [
       "array([1., 1., 1., 1., 1., 1.])"
      ]
     },
     "execution_count": 48,
     "metadata": {},
     "output_type": "execute_result"
    }
   ],
   "source": [
    "# birlerden oluşan tek boyutlu bir dizi oluştur\n",
    "birler=np.ones(6)\n",
    "birler"
   ]
  },
  {
   "cell_type": "code",
   "execution_count": 49,
   "id": "fabbd347-6303-4fdc-ba69-bc7566b7e843",
   "metadata": {},
   "outputs": [
    {
     "data": {
      "text/plain": [
       "array([[1., 1., 1.],\n",
       "       [1., 1., 1.]])"
      ]
     },
     "execution_count": 49,
     "metadata": {},
     "output_type": "execute_result"
    }
   ],
   "source": [
    "birler_matris=np.ones((2,3)) # (2,3) shape tuple olduğunu biliyoruz\n",
    "birler_matris"
   ]
  },
  {
   "cell_type": "code",
   "execution_count": 51,
   "id": "c10d4bef-7d6d-40e0-9d9e-976b3a93c3b9",
   "metadata": {},
   "outputs": [
    {
     "data": {
      "text/plain": [
       "array([0., 0., 0., 0., 0., 0.])"
      ]
     },
     "execution_count": 51,
     "metadata": {},
     "output_type": "execute_result"
    }
   ],
   "source": [
    "#sifirlardan oluşan dizi\n",
    "sifirlar=np.zeros(6)\n",
    "sifirlar"
   ]
  },
  {
   "cell_type": "code",
   "execution_count": 52,
   "id": "75d640fc-f6fb-459e-be47-a1d0210cce7f",
   "metadata": {},
   "outputs": [
    {
     "data": {
      "text/plain": [
       "1"
      ]
     },
     "execution_count": 52,
     "metadata": {},
     "output_type": "execute_result"
    }
   ],
   "source": [
    "sifirlar.ndim"
   ]
  },
  {
   "cell_type": "code",
   "execution_count": 53,
   "id": "7be74a03-7a91-406c-8fd1-aa8bfd52f452",
   "metadata": {},
   "outputs": [
    {
     "data": {
      "text/plain": [
       "(6,)"
      ]
     },
     "execution_count": 53,
     "metadata": {},
     "output_type": "execute_result"
    }
   ],
   "source": [
    "sifirlar.shape"
   ]
  },
  {
   "cell_type": "code",
   "execution_count": 54,
   "id": "7860a62a-b859-4a1b-88c4-cf15d76f46be",
   "metadata": {},
   "outputs": [
    {
     "data": {
      "text/plain": [
       "array([[0., 0., 0., 0., 0.],\n",
       "       [0., 0., 0., 0., 0.],\n",
       "       [0., 0., 0., 0., 0.]])"
      ]
     },
     "execution_count": 54,
     "metadata": {},
     "output_type": "execute_result"
    }
   ],
   "source": [
    "np.zeros((3,5))"
   ]
  },
  {
   "cell_type": "code",
   "execution_count": 55,
   "id": "926e1ea4-9966-467c-a654-91420aefb766",
   "metadata": {},
   "outputs": [
    {
     "data": {
      "text/plain": [
       "array([[1., 0., 0., 0., 0.],\n",
       "       [0., 1., 0., 0., 0.],\n",
       "       [0., 0., 1., 0., 0.],\n",
       "       [0., 0., 0., 1., 0.],\n",
       "       [0., 0., 0., 0., 1.]])"
      ]
     },
     "execution_count": 55,
     "metadata": {},
     "output_type": "execute_result"
    }
   ],
   "source": [
    "np.eye(5)"
   ]
  },
  {
   "cell_type": "code",
   "execution_count": 56,
   "id": "e0490e3a-8ae8-4062-b462-3ffef2e7a218",
   "metadata": {},
   "outputs": [
    {
     "data": {
      "text/plain": [
       "2"
      ]
     },
     "execution_count": 56,
     "metadata": {},
     "output_type": "execute_result"
    }
   ],
   "source": [
    "np.eye(5).ndim"
   ]
  },
  {
   "cell_type": "code",
   "execution_count": 57,
   "id": "b76accbc-9481-4bc9-b44d-6da5661f4991",
   "metadata": {},
   "outputs": [
    {
     "data": {
      "text/plain": [
       "(5, 5)"
      ]
     },
     "execution_count": 57,
     "metadata": {},
     "output_type": "execute_result"
    }
   ],
   "source": [
    "np.eye(5).shape"
   ]
  },
  {
   "cell_type": "code",
   "execution_count": null,
   "id": "a6bf3ce2-e83b-4ab2-ba4f-fbb79268e964",
   "metadata": {},
   "outputs": [],
   "source": [
    "# rastgele sayılar üretelim büyük sayılar kuralı\n",
    "for i in range(1000):\n",
    "    print(np.random.randint(1,101)) # 0 dan 5 e kadar 100 tane sayı üretir"
   ]
  },
  {
   "cell_type": "code",
   "execution_count": 62,
   "id": "9e42fb3a-0105-47d7-b891-7b104d9d7bb5",
   "metadata": {},
   "outputs": [
    {
     "data": {
      "text/plain": [
       "array([69, 64, 73, 99, 10, 50, 70, 49, 87, 60])"
      ]
     },
     "execution_count": 62,
     "metadata": {},
     "output_type": "execute_result"
    }
   ],
   "source": [
    "sayilar=np.random.randint(0,101,10) #0-100 dahil 10 sayı üret\n",
    "sayilar"
   ]
  },
  {
   "cell_type": "code",
   "execution_count": 63,
   "id": "c008d22e-9db2-4f38-b1c3-4f9d964a5215",
   "metadata": {},
   "outputs": [
    {
     "name": "stdout",
     "output_type": "stream",
     "text": [
      "69\n",
      "64\n",
      "73\n",
      "99\n",
      "10\n",
      "50\n",
      "70\n",
      "49\n",
      "87\n",
      "60\n"
     ]
    }
   ],
   "source": [
    "for i in sayilar:\n",
    "    print(i)"
   ]
  },
  {
   "cell_type": "code",
   "execution_count": 69,
   "id": "1242c41c-e07d-4cc8-84b3-dd8d3ce654dd",
   "metadata": {},
   "outputs": [
    {
     "data": {
      "text/plain": [
       "array(['Gülceren'], dtype='<U10')"
      ]
     },
     "execution_count": 69,
     "metadata": {},
     "output_type": "execute_result"
    }
   ],
   "source": [
    "#şanslı kişileri seçelim\n",
    "isimler=['Gülceren','İrem Zehra','Murat']\n",
    "np.random.choice(isimler,1) # listeyi ve kaç kişi seçileceğini belirt"
   ]
  },
  {
   "cell_type": "code",
   "execution_count": 70,
   "id": "9178bf53-b931-4787-b03c-2c4185874622",
   "metadata": {},
   "outputs": [
    {
     "data": {
      "text/plain": [
       "array(['Gülceren', 'İrem Zehra', 'Murat', 'Mustafa'], dtype='<U10')"
      ]
     },
     "execution_count": 70,
     "metadata": {},
     "output_type": "execute_result"
    }
   ],
   "source": [
    "#np dizisine öge ekle\n",
    "isimler=np.append(isimler,\"Mustafa\")\n",
    "isimler"
   ]
  },
  {
   "cell_type": "code",
   "execution_count": 73,
   "id": "0decb87b-498c-42a0-900a-37769dad94d8",
   "metadata": {},
   "outputs": [
    {
     "name": "stdout",
     "output_type": "stream",
     "text": [
      "[[0. 0. 0.]\n",
      " [0. 0. 0.]\n",
      " [0. 0. 0.]]\n"
     ]
    }
   ],
   "source": [
    "sifir_dizi=np.zeros((3,3))\n",
    "print(sifir_dizi)\n",
    "ekli_liste=np.append(sifir_dizi,[[1,2,3]], axis=0) #axis=1 derseniz sütun olarak ekler"
   ]
  },
  {
   "cell_type": "code",
   "execution_count": 74,
   "id": "e36fd4bc-a4f4-4ce3-a703-e14e366df46f",
   "metadata": {},
   "outputs": [
    {
     "data": {
      "text/plain": [
       "array([[0., 0., 0.],\n",
       "       [0., 0., 0.],\n",
       "       [0., 0., 0.],\n",
       "       [1., 2., 3.]])"
      ]
     },
     "execution_count": 74,
     "metadata": {},
     "output_type": "execute_result"
    }
   ],
   "source": [
    "ekli_liste"
   ]
  },
  {
   "cell_type": "code",
   "execution_count": 76,
   "id": "b358eee7-b3cb-4497-b853-d643e6113172",
   "metadata": {},
   "outputs": [
    {
     "name": "stdout",
     "output_type": "stream",
     "text": [
      "[[0. 0. 0.]\n",
      " [0. 0. 0.]\n",
      " [0. 0. 0.]]\n"
     ]
    },
    {
     "ename": "ValueError",
     "evalue": "all the input arrays must have same number of dimensions, but the array at index 0 has 2 dimension(s) and the array at index 1 has 1 dimension(s)",
     "output_type": "error",
     "traceback": [
      "\u001b[1;31m---------------------------------------------------------------------------\u001b[0m",
      "\u001b[1;31mValueError\u001b[0m                                Traceback (most recent call last)",
      "Cell \u001b[1;32mIn[76], line 3\u001b[0m\n\u001b[0;32m      1\u001b[0m sifir_dizi\u001b[38;5;241m=\u001b[39mnp\u001b[38;5;241m.\u001b[39mzeros((\u001b[38;5;241m3\u001b[39m,\u001b[38;5;241m3\u001b[39m))\n\u001b[0;32m      2\u001b[0m \u001b[38;5;28mprint\u001b[39m(sifir_dizi)\n\u001b[1;32m----> 3\u001b[0m ekli_liste\u001b[38;5;241m=\u001b[39mnp\u001b[38;5;241m.\u001b[39mappend(sifir_dizi,[\u001b[38;5;241m1\u001b[39m,\u001b[38;5;241m2\u001b[39m,\u001b[38;5;241m3\u001b[39m], axis\u001b[38;5;241m=\u001b[39m\u001b[38;5;241m1\u001b[39m) \u001b[38;5;66;03m#axis=1 derseniz sütun olarak ekler\u001b[39;00m\n\u001b[0;32m      4\u001b[0m ekli_liste\n",
      "File \u001b[1;32mC:\\ProgramData\\anaconda3\\Lib\\site-packages\\numpy\\lib\\function_base.py:5618\u001b[0m, in \u001b[0;36mappend\u001b[1;34m(arr, values, axis)\u001b[0m\n\u001b[0;32m   5616\u001b[0m     values \u001b[38;5;241m=\u001b[39m ravel(values)\n\u001b[0;32m   5617\u001b[0m     axis \u001b[38;5;241m=\u001b[39m arr\u001b[38;5;241m.\u001b[39mndim\u001b[38;5;241m-\u001b[39m\u001b[38;5;241m1\u001b[39m\n\u001b[1;32m-> 5618\u001b[0m \u001b[38;5;28;01mreturn\u001b[39;00m concatenate((arr, values), axis\u001b[38;5;241m=\u001b[39maxis)\n",
      "\u001b[1;31mValueError\u001b[0m: all the input arrays must have same number of dimensions, but the array at index 0 has 2 dimension(s) and the array at index 1 has 1 dimension(s)"
     ]
    }
   ],
   "source": [
    "sifir_dizi=np.zeros((3,3))\n",
    "print(sifir_dizi)\n",
    "ekli_liste=np.append(sifir_dizi,[1,2,3], axis=1) #axis=1 derseniz sütun olarak ekler\n",
    "ekli_liste # sütun olarak eklenemez "
   ]
  },
  {
   "cell_type": "code",
   "execution_count": 78,
   "id": "1175d653-a8ac-4f1f-8908-408d6a60bb26",
   "metadata": {},
   "outputs": [
    {
     "name": "stdout",
     "output_type": "stream",
     "text": [
      "[[0. 0. 0. 1.]\n",
      " [0. 0. 0. 2.]\n",
      " [0. 0. 0. 3.]]\n"
     ]
    }
   ],
   "source": [
    "# kodlarla ilgili poe.com\n",
    "sifir_dizi = np.zeros((3, 3))\n",
    "#print(sifir_dizi)\n",
    "\n",
    "ek_sütun = np.array([1, 2, 3])\n",
    "ekli_liste = np.hstack((sifir_dizi, ek_sütun.reshape(3, 1)))\n",
    "print(ekli_liste)"
   ]
  },
  {
   "cell_type": "code",
   "execution_count": 79,
   "id": "0ed31531-ca0a-4a14-982d-597cbc133e42",
   "metadata": {},
   "outputs": [
    {
     "name": "stdout",
     "output_type": "stream",
     "text": [
      "[[0. 0. 0.]\n",
      " [0. 0. 0.]\n",
      " [0. 0. 0.]]\n"
     ]
    },
    {
     "data": {
      "text/plain": [
       "array([[0., 0., 0., 1.],\n",
       "       [0., 0., 0., 2.],\n",
       "       [0., 0., 0., 3.]])"
      ]
     },
     "execution_count": 79,
     "metadata": {},
     "output_type": "execute_result"
    }
   ],
   "source": [
    "#sütun ekleme \n",
    "sifir_dizi=np.zeros((3,3))\n",
    "print(sifir_dizi)\n",
    "ekli_liste=np.append(sifir_dizi,[[1],[2],[3]], axis=1) #axis=1 derseniz sütun olarak ekler\n",
    "ekli_liste"
   ]
  },
  {
   "cell_type": "code",
   "execution_count": 82,
   "id": "f6ee336c-4f3a-4061-b842-18fad961c14a",
   "metadata": {},
   "outputs": [
    {
     "data": {
      "text/plain": [
       "(2, (1, 3))"
      ]
     },
     "execution_count": 82,
     "metadata": {},
     "output_type": "execute_result"
    }
   ],
   "source": [
    "dizi1=np.array([[1,2,3]])\n",
    "dizi1.ndim,dizi1.shape #axis=0"
   ]
  },
  {
   "cell_type": "code",
   "execution_count": 83,
   "id": "f10183f1-88a7-499a-bfd3-b23233e37602",
   "metadata": {},
   "outputs": [
    {
     "data": {
      "text/plain": [
       "(2, (3, 1))"
      ]
     },
     "execution_count": 83,
     "metadata": {},
     "output_type": "execute_result"
    }
   ],
   "source": [
    "dizi1=np.array([[1],[2],[3]])\n",
    "dizi1.ndim,dizi1.shape #axis=1"
   ]
  },
  {
   "cell_type": "code",
   "execution_count": 84,
   "id": "ac864bef-9e5c-4089-aa17-afde12062622",
   "metadata": {},
   "outputs": [
    {
     "data": {
      "text/plain": [
       "array(['Gülceren', 'İrem Zehra', 'Murat', 'Mustafa'], dtype='<U10')"
      ]
     },
     "execution_count": 84,
     "metadata": {},
     "output_type": "execute_result"
    }
   ],
   "source": [
    "isimler"
   ]
  },
  {
   "cell_type": "code",
   "execution_count": 85,
   "id": "c5014b6f-a9c8-4c6c-ab8b-99aa2ba52e24",
   "metadata": {},
   "outputs": [
    {
     "data": {
      "text/plain": [
       "4"
      ]
     },
     "execution_count": 85,
     "metadata": {},
     "output_type": "execute_result"
    }
   ],
   "source": [
    "len(isimler) # öge sayısı"
   ]
  },
  {
   "cell_type": "code",
   "execution_count": 86,
   "id": "f6d8d6d5-5ca1-4980-92f7-819c36ef6a2c",
   "metadata": {},
   "outputs": [
    {
     "data": {
      "text/plain": [
       "array(['Gülceren', 'İrem Zehra', 'Mustafa'], dtype='<U10')"
      ]
     },
     "execution_count": 86,
     "metadata": {},
     "output_type": "execute_result"
    }
   ],
   "source": [
    "isimler=np.delete(isimler,2) #liste ve silinecek index numarası\n",
    "isimler"
   ]
  },
  {
   "cell_type": "code",
   "execution_count": null,
   "id": "e111d08d-c22d-4730-894b-3f285c3d2610",
   "metadata": {},
   "outputs": [],
   "source": []
  }
 ],
 "metadata": {
  "kernelspec": {
   "display_name": "Python 3 (ipykernel)",
   "language": "python",
   "name": "python3"
  },
  "language_info": {
   "codemirror_mode": {
    "name": "ipython",
    "version": 3
   },
   "file_extension": ".py",
   "mimetype": "text/x-python",
   "name": "python",
   "nbconvert_exporter": "python",
   "pygments_lexer": "ipython3",
   "version": "3.12.4"
  }
 },
 "nbformat": 4,
 "nbformat_minor": 5
}
