{
 "cells": [
  {
   "attachments": {
    "4faf1d16-1091-44d5-97ce-36fea4491422.png": {
     "image/png": "[encoded data removed]"
    }
   },
   "cell_type": "markdown",
   "id": "6266e1bc-1d69-49cd-b336-b55b61bc4497",
   "metadata": {},
   "source": [
    "![image.png](attachment:4faf1d16-1091-44d5-97ce-36fea4491422.png)"
   ]
  },
  {
   "cell_type": "markdown",
   "id": "f8f9d4e0-ed8b-4061-a3b2-e157ce9cfcfc",
   "metadata": {},
   "source": [
    "### Pandas \n",
    "Veri Manipülasyonu kütüphanesidir\n",
    "Pandas, veri analizi ve manipülasyonu için kullanılan popüler bir Python kütüphanesidir. Aşağıda Pandas ile ilgili bazı temel bilgiler yer almaktadır:\r\n",
    "\r\n",
    "Temel Özellikler\r\n",
    "Veri Yapıları: Pandas, iki ana veri yapısı sunar:\r\n",
    "Series: Tek boyutlu etiketli diziler.\r\n",
    "DataFrame: İki boyutlu, boyutları değişebilir, etiketli veri yapıları.\r\n",
    "Veri Manipülasyonu: Verileri filtreleyebilir, gruplandırabilir, birleştirebilir ve dönüştürebilirsiniz.\r\n",
    "Zaman Serileri: Zaman damgaları ile çalışmak için güçlü araçlar sağlar.\r\n",
    "Dosya İçi/ Dışarı Aktarma: CSV, Excel, SQL ve diğer formatlardan veri okuyabilir ve yazabilirsiniz.\r\n",
    "Kullanım Alanları\r\n",
    "Veri Temizleme: Eksik verileri doldurma, aykırı değerleri tespit etme.\r\n",
    "Veri Analizi: Temel istatistiksel analizler ve veri görselleştirme.\r\n",
    "Makine Öğrenimi: Veri ön işleme aşamalarında sıklıkla kullanılır."
   ]
  },
  {
   "cell_type": "code",
   "execution_count": 1,
   "id": "164fe942-0e8a-4232-9540-7ef097e105f5",
   "metadata": {},
   "outputs": [],
   "source": [
    "import pandas as pd"
   ]
  },
  {
   "cell_type": "code",
   "execution_count": 2,
   "id": "f94dd285-3dc6-41e1-a3d9-2472061f8b77",
   "metadata": {},
   "outputs": [
    {
     "data": {
      "text/plain": [
       "'2.1.4'"
      ]
     },
     "execution_count": 2,
     "metadata": {},
     "output_type": "execute_result"
    }
   ],
   "source": [
    "pd.__version__"
   ]
  },
  {
   "cell_type": "code",
   "execution_count": 3,
   "id": "621d08ee-6bb6-41ab-a465-f4240dfa84ce",
   "metadata": {},
   "outputs": [],
   "source": [
    "# Kurulu değilse"
   ]
  },
  {
   "cell_type": "code",
   "execution_count": 5,
   "id": "c68ff45f-a337-4cb4-8ec7-93982ccd2871",
   "metadata": {},
   "outputs": [],
   "source": [
    "#pip install pandas"
   ]
  },
  {
   "cell_type": "code",
   "execution_count": 4,
   "id": "c56d1adf-9325-40ef-bc67-bc6775f11934",
   "metadata": {},
   "outputs": [],
   "source": [
    "#pip install --upgrade pandas\n",
    "#pip install --upgrade numpy \n",
    "## pip install pandas ==2.1.4 # bazen çalıştırdığmız projeler \n",
    "#belirli bir versiyonu kullanmış olabilir\n",
    "#kurulu değilse güncel versiyonu kurar kuruluysa da günceller"
   ]
  },
  {
   "cell_type": "markdown",
   "id": "165709bb-1162-4217-962e-b5f8843e94a2",
   "metadata": {},
   "source": [
    "## Seriler Series"
   ]
  },
  {
   "cell_type": "raw",
   "id": "af1f299e-f75b-48f9-ac07-77f4f001eb5c",
   "metadata": {},
   "source": [
    "Pandas Seriler\n",
    "Pandas Kütüphanesinin temel yapı birimlerindendir.\n",
    "Tek boyutlu bir veri yapısıdır.\n",
    "index: her eleman için benzersiz index numarası id, \n",
    "veri türü: aynı seride tüm elemanlar tek bir veri türündedir, \n",
    "boyut: tek boyutludur: satır veya sütüun olabilir, \n",
    "işlemler: aritmetik, mantıksal ve matematiksel işlemler yapabiliriz."
   ]
  },
  {
   "cell_type": "code",
   "execution_count": 6,
   "id": "a2d0c7f9-0a82-48b1-9995-876deedb78f5",
   "metadata": {},
   "outputs": [
    {
     "data": {
      "text/plain": [
       "0      Ali\n",
       "1     Veli\n",
       "2     İrem\n",
       "3    Murat\n",
       "dtype: object"
      ]
     },
     "execution_count": 6,
     "metadata": {},
     "output_type": "execute_result"
    }
   ],
   "source": [
    "#listelerden seri oluşturma\n",
    "isimler=pd.Series(['Ali', 'Veli','İrem', 'Murat'])\n",
    "isimler"
   ]
  },
  {
   "cell_type": "code",
   "execution_count": 7,
   "id": "a0998547-d32a-4cff-892f-cf9945bd2392",
   "metadata": {},
   "outputs": [
    {
     "data": {
      "text/plain": [
       "pandas.core.series.Series"
      ]
     },
     "execution_count": 7,
     "metadata": {},
     "output_type": "execute_result"
    }
   ],
   "source": [
    "type(isimler)"
   ]
  },
  {
   "cell_type": "code",
   "execution_count": 8,
   "id": "9f62c3fd-9332-41da-8adf-9e9ef1622b90",
   "metadata": {},
   "outputs": [
    {
     "data": {
      "text/plain": [
       "'İrem'"
      ]
     },
     "execution_count": 8,
     "metadata": {},
     "output_type": "execute_result"
    }
   ],
   "source": [
    "isimler[2] #index numarası 2 olan kişiyi yazdırır"
   ]
  },
  {
   "cell_type": "code",
   "execution_count": 10,
   "id": "04a27f53-24ee-4db8-8a6c-ec2d0b89c50a",
   "metadata": {},
   "outputs": [
    {
     "data": {
      "text/plain": [
       "0     Ali\n",
       "1    Veli\n",
       "dtype: object"
      ]
     },
     "execution_count": 10,
     "metadata": {},
     "output_type": "execute_result"
    }
   ],
   "source": [
    "isimler[0:2] # ilk iki kişi"
   ]
  },
  {
   "cell_type": "code",
   "execution_count": 12,
   "id": "63ce6315-a086-4c7c-9285-5fe2aadffe1b",
   "metadata": {},
   "outputs": [
    {
     "data": {
      "text/plain": [
       "0    Ali\n",
       "dtype: object"
      ]
     },
     "execution_count": 12,
     "metadata": {},
     "output_type": "execute_result"
    }
   ],
   "source": [
    "isimler[isimler.str.startswith('A')] # A ile başlayanları alalım"
   ]
  },
  {
   "cell_type": "code",
   "execution_count": 16,
   "id": "3d9cbc74-1ae9-44d9-af11-19800c80ea40",
   "metadata": {},
   "outputs": [
    {
     "data": {
      "text/plain": [
       "0     Ali\n",
       "4    Ayşe\n",
       "5    Ayla\n",
       "dtype: object"
      ]
     },
     "execution_count": 16,
     "metadata": {},
     "output_type": "execute_result"
    }
   ],
   "source": [
    "isimler = pd.concat([isimler, pd.Series(['Ayla'])], ignore_index=True)\n",
    "isimler[isimler.str.startswith('A')]"
   ]
  },
  {
   "cell_type": "code",
   "execution_count": 18,
   "id": "02365bb4-4ab9-4789-96a9-149cc10e3003",
   "metadata": {},
   "outputs": [
    {
     "data": {
      "text/plain": [
       "0      ali\n",
       "1     veli\n",
       "2    i̇rem\n",
       "3    murat\n",
       "4     ayşe\n",
       "5     ayla\n",
       "dtype: object"
      ]
     },
     "execution_count": 18,
     "metadata": {},
     "output_type": "execute_result"
    }
   ],
   "source": [
    "#isimleri küçük harfe çevirelim \n",
    "isimler=isimler.str.lower()\n",
    "isimler"
   ]
  },
  {
   "attachments": {
    "a2be3f77-937e-42d1-8e6a-881cb9ad82c1.png": {
     "image/png": "[encoded data removed]"
    }
   },
   "cell_type": "markdown",
   "id": "75fb3f07-f2ad-4f31-b949-c8d976a56d2f",
   "metadata": {},
   "source": [
    "![image.png](attachment:a2be3f77-937e-42d1-8e6a-881cb9ad82c1.png)"
   ]
  },
  {
   "cell_type": "code",
   "execution_count": 19,
   "id": "60cbfd94-9b1b-4bd0-8558-25afb7e04d35",
   "metadata": {},
   "outputs": [],
   "source": [
    "import numpy as np"
   ]
  },
  {
   "cell_type": "code",
   "execution_count": 21,
   "id": "9a3c62ab-666b-41b0-bb88-3d9de3c1c93f",
   "metadata": {},
   "outputs": [
    {
     "data": {
      "text/plain": [
       "array(['ali', 'veli'], dtype='<U4')"
      ]
     },
     "execution_count": 21,
     "metadata": {},
     "output_type": "execute_result"
    }
   ],
   "source": [
    "isimler=np.array(['Ali', 'Veli'])\n",
    "#isimler=isimler.str.lower() kullanılamaz\n",
    "isimler=np.char.lower(isimler)\n",
    "isimler"
   ]
  },
  {
   "cell_type": "code",
   "execution_count": 23,
   "id": "5f030957-346a-4a90-923d-01d05033d84c",
   "metadata": {},
   "outputs": [
    {
     "data": {
      "text/plain": [
       "3"
      ]
     },
     "execution_count": 23,
     "metadata": {},
     "output_type": "execute_result"
    }
   ],
   "source": [
    "#hangi ögeden kaç tane var?\n",
    "iller=pd.Series(['Adana','Adana', 'Antalya', 'Adana', 'Ankara',\n",
    "                'İstanbul', 'İzmir', 'İstanbul'])\n",
    "(iller=='Adana').sum()"
   ]
  },
  {
   "cell_type": "code",
   "execution_count": 24,
   "id": "3a4b3940-58b3-4a75-92ef-c809ec6a5efb",
   "metadata": {},
   "outputs": [
    {
     "data": {
      "text/plain": [
       "array(['Adana', 'Antalya', 'Ankara', 'İstanbul', 'İzmir'], dtype=object)"
      ]
     },
     "execution_count": 24,
     "metadata": {},
     "output_type": "execute_result"
    }
   ],
   "source": [
    "iller.unique() # tekrarlayan değerleri de 1 defa alır"
   ]
  },
  {
   "cell_type": "code",
   "execution_count": 26,
   "id": "2e2b0002-c85a-4070-8f1b-9a6d4441a839",
   "metadata": {},
   "outputs": [
    {
     "data": {
      "text/plain": [
       "5"
      ]
     },
     "execution_count": 26,
     "metadata": {},
     "output_type": "execute_result"
    }
   ],
   "source": [
    "# kaç farklı ilden katılımcı var?\n",
    "iller.nunique()"
   ]
  },
  {
   "cell_type": "code",
   "execution_count": 27,
   "id": "a053da53-b4f9-4033-8e0c-c53dcd280771",
   "metadata": {},
   "outputs": [
    {
     "data": {
      "text/plain": [
       "Adana       3\n",
       "İstanbul    2\n",
       "Antalya     1\n",
       "Ankara      1\n",
       "İzmir       1\n",
       "Name: count, dtype: int64"
      ]
     },
     "execution_count": 27,
     "metadata": {},
     "output_type": "execute_result"
    }
   ],
   "source": [
    "iller.value_counts()"
   ]
  },
  {
   "cell_type": "code",
   "execution_count": 28,
   "id": "4c2717ad-d4c9-417f-b6d9-af0aa448dd11",
   "metadata": {},
   "outputs": [],
   "source": [
    "takimlar=pd.Series([\"Fenerbahce\",\"Besiktas\",\"Trabzonspor\",\"Galatasaray\",\n",
    "                   \"Fenerbahce\",\"Galatasaray\",\"Trabzonspor\",\"Galatasaray\",\n",
    "                   \"Fenerbahce\",\"Besiktas\",\n",
    "                   \"Fenerbahce\"])"
   ]
  },
  {
   "cell_type": "code",
   "execution_count": 29,
   "id": "4d63f90d-f7a2-4570-9269-29251d039077",
   "metadata": {},
   "outputs": [
    {
     "data": {
      "text/plain": [
       "Fenerbahce     4\n",
       "Galatasaray    3\n",
       "Besiktas       2\n",
       "Trabzonspor    2\n",
       "Name: count, dtype: int64"
      ]
     },
     "execution_count": 29,
     "metadata": {},
     "output_type": "execute_result"
    }
   ],
   "source": [
    "takimlar.value_counts()"
   ]
  },
  {
   "cell_type": "code",
   "execution_count": 31,
   "id": "63cfd036-e55f-4fcd-bcef-47203d0d1a6b",
   "metadata": {},
   "outputs": [
    {
     "data": {
      "text/plain": [
       "0      True\n",
       "1     False\n",
       "2     False\n",
       "3     False\n",
       "4      True\n",
       "5     False\n",
       "6     False\n",
       "7     False\n",
       "8      True\n",
       "9     False\n",
       "10     True\n",
       "dtype: bool"
      ]
     },
     "execution_count": 31,
     "metadata": {},
     "output_type": "execute_result"
    }
   ],
   "source": [
    "takimlar.isin(['Fenerbahce']) # Her bir değerin eşit olup oılmadığını kontrol eder"
   ]
  },
  {
   "cell_type": "code",
   "execution_count": 35,
   "id": "a66db369-92ac-463f-9c4f-36e9de38695a",
   "metadata": {},
   "outputs": [
    {
     "data": {
      "text/plain": [
       "10"
      ]
     },
     "execution_count": 35,
     "metadata": {},
     "output_type": "execute_result"
    }
   ],
   "source": [
    "puanlar=pd.Series([50,70,90,100,70,50,80,90,100,80])\n",
    "len(puanlar)"
   ]
  },
  {
   "cell_type": "code",
   "execution_count": 36,
   "id": "0ee04869-109d-4227-80a1-5a9814fa4b4b",
   "metadata": {},
   "outputs": [
    {
     "data": {
      "text/plain": [
       "78.0"
      ]
     },
     "execution_count": 36,
     "metadata": {},
     "output_type": "execute_result"
    }
   ],
   "source": [
    "#ortalama\n",
    "puanlar.mean()"
   ]
  },
  {
   "cell_type": "code",
   "execution_count": 37,
   "id": "8dc4c67a-8cea-4bd6-97cc-3f073c535124",
   "metadata": {},
   "outputs": [
    {
     "data": {
      "text/plain": [
       "80.0"
      ]
     },
     "execution_count": 37,
     "metadata": {},
     "output_type": "execute_result"
    }
   ],
   "source": [
    "#median\n",
    "puanlar.median()"
   ]
  },
  {
   "cell_type": "code",
   "execution_count": 38,
   "id": "e03367d0-d55a-463b-9fb9-38ee95866ef7",
   "metadata": {},
   "outputs": [
    {
     "data": {
      "text/plain": [
       "18.135294011647257"
      ]
     },
     "execution_count": 38,
     "metadata": {},
     "output_type": "execute_result"
    }
   ],
   "source": [
    "# standart sapma\n",
    "puanlar.std()"
   ]
  },
  {
   "cell_type": "code",
   "execution_count": 39,
   "id": "3f56c2ba-6d03-41da-8bc2-59583d6f9a02",
   "metadata": {},
   "outputs": [
    {
     "data": {
      "text/plain": [
       "2     90\n",
       "3    100\n",
       "6     80\n",
       "7     90\n",
       "8    100\n",
       "9     80\n",
       "dtype: int64"
      ]
     },
     "execution_count": 39,
     "metadata": {},
     "output_type": "execute_result"
    }
   ],
   "source": [
    "#puanlarda belirli bir puanın üstü filrrelemek\n",
    "puanlar[puanlar>70]"
   ]
  },
  {
   "cell_type": "code",
   "execution_count": 40,
   "id": "a430bba9-ecba-4139-9a74-33251413822b",
   "metadata": {},
   "outputs": [
    {
     "data": {
      "text/plain": [
       "0    40\n",
       "1    60\n",
       "2    80\n",
       "3    90\n",
       "4    60\n",
       "5    40\n",
       "6    70\n",
       "7    80\n",
       "8    90\n",
       "9    70\n",
       "dtype: int64"
      ]
     },
     "execution_count": 40,
     "metadata": {},
     "output_type": "execute_result"
    }
   ],
   "source": [
    "# he bir değerden 10 puan düşür \n",
    "puanlar_eksi=puanlar-10\n",
    "puanlar_eksi"
   ]
  },
  {
   "cell_type": "code",
   "execution_count": 41,
   "id": "ea6ea33e-be8e-46bd-a0d0-d895c5e70c5a",
   "metadata": {},
   "outputs": [
    {
     "data": {
      "text/plain": [
       "p1    100\n",
       "p2    200\n",
       "p3    300\n",
       "p4    400\n",
       "dtype: int64"
      ]
     },
     "execution_count": 41,
     "metadata": {},
     "output_type": "execute_result"
    }
   ],
   "source": [
    "# Zaman indeksli bir seri oluşturma \n",
    "#Zaman serisi analizlerinde kullanmak için\n",
    "uretim_miktarlari=pd.Series([100,200,300,400], index=['p1','p2','p3','p4'])\n",
    "uretim_miktarlari"
   ]
  },
  {
   "cell_type": "code",
   "execution_count": 42,
   "id": "25ec6ea2-fe0a-4da5-971f-cfabeb7dc820",
   "metadata": {},
   "outputs": [
    {
     "data": {
      "text/plain": [
       "1000"
      ]
     },
     "execution_count": 42,
     "metadata": {},
     "output_type": "execute_result"
    }
   ],
   "source": [
    "# 1 yıllık üretimin peryodik olarak 3 er aylık gösteirmi\n",
    "uretim_miktarlari.sum()"
   ]
  },
  {
   "cell_type": "code",
   "execution_count": 46,
   "id": "66f4d1a5-888d-4df4-8142-c6aeed12b475",
   "metadata": {},
   "outputs": [
    {
     "data": {
      "text/plain": [
       "2024-01-31    100\n",
       "2024-02-29    200\n",
       "2024-03-31    300\n",
       "2024-04-30    100\n",
       "2024-05-31    200\n",
       "2024-06-30    100\n",
       "2024-07-31    700\n",
       "2024-08-31    800\n",
       "Freq: M, dtype: int64"
      ]
     },
     "execution_count": 46,
     "metadata": {},
     "output_type": "execute_result"
    }
   ],
   "source": [
    "#Tarih saatli bir örnek\n",
    "import datetime\n",
    "tarihler=pd.date_range(\"2024-01-01\", periods=8,freq='M') \n",
    "# belirli bir tarih aralığında belirli bir frekansta tarihler oluşturur\n",
    "uretim=pd.Series([100,200,300,100,200,100,700,800], index=tarihler)\n",
    "uretim"
   ]
  },
  {
   "cell_type": "code",
   "execution_count": 47,
   "id": "ea3edc8a-4b44-4000-ac5b-a0e56cdb4923",
   "metadata": {},
   "outputs": [
    {
     "data": {
      "text/plain": [
       "<Axes: >"
      ]
     },
     "execution_count": 47,
     "metadata": {},
     "output_type": "execute_result"
    },
    {
     "data": {
      "image/png": "[encoded data removed]",
      "text/plain": [
       "<Figure size 640x480 with 1 Axes>"
      ]
     },
     "metadata": {},
     "output_type": "display_data"
    }
   ],
   "source": [
    "uretim.plot()"
   ]
  },
  {
   "cell_type": "code",
   "execution_count": 48,
   "id": "bf1c35e5-6a43-4ea5-8891-72404a04137a",
   "metadata": {},
   "outputs": [
    {
     "data": {
      "text/plain": [
       "İrem     99\n",
       "Murat    96\n",
       "Ali      80\n",
       "dtype: int64"
      ]
     },
     "execution_count": 48,
     "metadata": {},
     "output_type": "execute_result"
    }
   ],
   "source": [
    "#sözlükten tanımla\n",
    "puanlar=pd.Series({'İrem':99,\n",
    "                  'Murat':96,\n",
    "                  'Ali':80})\n",
    "puanlar"
   ]
  },
  {
   "cell_type": "code",
   "execution_count": 50,
   "id": "12cd0ef2-c9c3-4b42-9e2d-2cc1d0ccff60",
   "metadata": {},
   "outputs": [
    {
     "data": {
      "text/plain": [
       "Index(['İrem', 'Murat', 'Ali'], dtype='object')"
      ]
     },
     "execution_count": 50,
     "metadata": {},
     "output_type": "execute_result"
    }
   ],
   "source": [
    "puanlar.index"
   ]
  },
  {
   "cell_type": "code",
   "execution_count": 54,
   "id": "a6d12696-f19f-4556-936b-dcc42e964dd4",
   "metadata": {},
   "outputs": [
    {
     "data": {
      "text/html": [
       "<div>\n",
       "<style scoped>\n",
       "    .dataframe tbody tr th:only-of-type {\n",
       "        vertical-align: middle;\n",
       "    }\n",
       "\n",
       "    .dataframe tbody tr th {\n",
       "        vertical-align: top;\n",
       "    }\n",
       "\n",
       "    .dataframe thead th {\n",
       "        text-align: right;\n",
       "    }\n",
       "</style>\n",
       "<table border=\"1\" class=\"dataframe\">\n",
       "  <thead>\n",
       "    <tr style=\"text-align: right;\">\n",
       "      <th></th>\n",
       "      <th>Ad</th>\n",
       "      <th>Cinsiyet</th>\n",
       "      <th>Puan</th>\n",
       "    </tr>\n",
       "  </thead>\n",
       "  <tbody>\n",
       "    <tr>\n",
       "      <th>0</th>\n",
       "      <td>İrem</td>\n",
       "      <td>K</td>\n",
       "      <td>90</td>\n",
       "    </tr>\n",
       "    <tr>\n",
       "      <th>1</th>\n",
       "      <td>Murat</td>\n",
       "      <td>E</td>\n",
       "      <td>80</td>\n",
       "    </tr>\n",
       "    <tr>\n",
       "      <th>2</th>\n",
       "      <td>Ali</td>\n",
       "      <td>E</td>\n",
       "      <td>70</td>\n",
       "    </tr>\n",
       "    <tr>\n",
       "      <th>3</th>\n",
       "      <td>Veli</td>\n",
       "      <td>E</td>\n",
       "      <td>60</td>\n",
       "    </tr>\n",
       "    <tr>\n",
       "      <th>4</th>\n",
       "      <td>Burhan</td>\n",
       "      <td>E</td>\n",
       "      <td>80</td>\n",
       "    </tr>\n",
       "    <tr>\n",
       "      <th>5</th>\n",
       "      <td>Orhan</td>\n",
       "      <td>E</td>\n",
       "      <td>70</td>\n",
       "    </tr>\n",
       "    <tr>\n",
       "      <th>6</th>\n",
       "      <td>Elif</td>\n",
       "      <td>K</td>\n",
       "      <td>100</td>\n",
       "    </tr>\n",
       "  </tbody>\n",
       "</table>\n",
       "</div>"
      ],
      "text/plain": [
       "       Ad Cinsiyet  Puan\n",
       "0    İrem        K    90\n",
       "1   Murat        E    80\n",
       "2     Ali        E    70\n",
       "3    Veli        E    60\n",
       "4  Burhan        E    80\n",
       "5   Orhan        E    70\n",
       "6    Elif        K   100"
      ]
     },
     "execution_count": 54,
     "metadata": {},
     "output_type": "execute_result"
    }
   ],
   "source": [
    "## Data Frame\n",
    "df=pd.DataFrame({'Ad':['İrem', 'Murat', 'Ali', 'Veli', 'Burhan', 'Orhan','Elif'],\n",
    "                'Cinsiyet':['K','E','E','E','E','E','K'],\n",
    "                'Puan':[90,80,70,60,80,70,100]})\n",
    "df"
   ]
  },
  {
   "cell_type": "code",
   "execution_count": 55,
   "id": "b58669e1-34bb-4af2-9e9e-a09fa5e96756",
   "metadata": {},
   "outputs": [
    {
     "data": {
      "text/plain": [
       "0      İrem\n",
       "1     Murat\n",
       "2       Ali\n",
       "3      Veli\n",
       "4    Burhan\n",
       "5     Orhan\n",
       "6      Elif\n",
       "Name: Ad, dtype: object"
      ]
     },
     "execution_count": 55,
     "metadata": {},
     "output_type": "execute_result"
    }
   ],
   "source": [
    "df['Ad'] # Sütunun adı"
   ]
  },
  {
   "cell_type": "code",
   "execution_count": 53,
   "id": "ec3fc6bc-d1fc-4c9f-a119-f52decda6c5b",
   "metadata": {},
   "outputs": [
    {
     "data": {
      "text/plain": [
       "pandas.core.series.Series"
      ]
     },
     "execution_count": 53,
     "metadata": {},
     "output_type": "execute_result"
    }
   ],
   "source": [
    "type(df['Ad'])"
   ]
  },
  {
   "cell_type": "code",
   "execution_count": 56,
   "id": "9f90bf36-e04f-4778-ac55-2e1ce686f1db",
   "metadata": {},
   "outputs": [
    {
     "data": {
      "text/html": [
       "<div>\n",
       "<style scoped>\n",
       "    .dataframe tbody tr th:only-of-type {\n",
       "        vertical-align: middle;\n",
       "    }\n",
       "\n",
       "    .dataframe tbody tr th {\n",
       "        vertical-align: top;\n",
       "    }\n",
       "\n",
       "    .dataframe thead th {\n",
       "        text-align: right;\n",
       "    }\n",
       "</style>\n",
       "<table border=\"1\" class=\"dataframe\">\n",
       "  <thead>\n",
       "    <tr style=\"text-align: right;\">\n",
       "      <th></th>\n",
       "      <th>Ad</th>\n",
       "      <th>Cinsiyet</th>\n",
       "      <th>Puan</th>\n",
       "    </tr>\n",
       "  </thead>\n",
       "  <tbody>\n",
       "    <tr>\n",
       "      <th>0</th>\n",
       "      <td>İrem</td>\n",
       "      <td>K</td>\n",
       "      <td>90</td>\n",
       "    </tr>\n",
       "    <tr>\n",
       "      <th>1</th>\n",
       "      <td>Murat</td>\n",
       "      <td>E</td>\n",
       "      <td>80</td>\n",
       "    </tr>\n",
       "    <tr>\n",
       "      <th>2</th>\n",
       "      <td>Ali</td>\n",
       "      <td>E</td>\n",
       "      <td>70</td>\n",
       "    </tr>\n",
       "    <tr>\n",
       "      <th>3</th>\n",
       "      <td>Veli</td>\n",
       "      <td>E</td>\n",
       "      <td>60</td>\n",
       "    </tr>\n",
       "    <tr>\n",
       "      <th>4</th>\n",
       "      <td>Burhan</td>\n",
       "      <td>E</td>\n",
       "      <td>80</td>\n",
       "    </tr>\n",
       "  </tbody>\n",
       "</table>\n",
       "</div>"
      ],
      "text/plain": [
       "       Ad Cinsiyet  Puan\n",
       "0    İrem        K    90\n",
       "1   Murat        E    80\n",
       "2     Ali        E    70\n",
       "3    Veli        E    60\n",
       "4  Burhan        E    80"
      ]
     },
     "execution_count": 56,
     "metadata": {},
     "output_type": "execute_result"
    }
   ],
   "source": [
    "df.head() # data frame den 5 tanesi (baştaki)"
   ]
  },
  {
   "cell_type": "code",
   "execution_count": 57,
   "id": "8028a677-bf40-4b11-966f-4b133899eaef",
   "metadata": {},
   "outputs": [
    {
     "data": {
      "text/html": [
       "<div>\n",
       "<style scoped>\n",
       "    .dataframe tbody tr th:only-of-type {\n",
       "        vertical-align: middle;\n",
       "    }\n",
       "\n",
       "    .dataframe tbody tr th {\n",
       "        vertical-align: top;\n",
       "    }\n",
       "\n",
       "    .dataframe thead th {\n",
       "        text-align: right;\n",
       "    }\n",
       "</style>\n",
       "<table border=\"1\" class=\"dataframe\">\n",
       "  <thead>\n",
       "    <tr style=\"text-align: right;\">\n",
       "      <th></th>\n",
       "      <th>Ad</th>\n",
       "      <th>Cinsiyet</th>\n",
       "      <th>Puan</th>\n",
       "    </tr>\n",
       "  </thead>\n",
       "  <tbody>\n",
       "    <tr>\n",
       "      <th>2</th>\n",
       "      <td>Ali</td>\n",
       "      <td>E</td>\n",
       "      <td>70</td>\n",
       "    </tr>\n",
       "    <tr>\n",
       "      <th>3</th>\n",
       "      <td>Veli</td>\n",
       "      <td>E</td>\n",
       "      <td>60</td>\n",
       "    </tr>\n",
       "    <tr>\n",
       "      <th>4</th>\n",
       "      <td>Burhan</td>\n",
       "      <td>E</td>\n",
       "      <td>80</td>\n",
       "    </tr>\n",
       "    <tr>\n",
       "      <th>5</th>\n",
       "      <td>Orhan</td>\n",
       "      <td>E</td>\n",
       "      <td>70</td>\n",
       "    </tr>\n",
       "    <tr>\n",
       "      <th>6</th>\n",
       "      <td>Elif</td>\n",
       "      <td>K</td>\n",
       "      <td>100</td>\n",
       "    </tr>\n",
       "  </tbody>\n",
       "</table>\n",
       "</div>"
      ],
      "text/plain": [
       "       Ad Cinsiyet  Puan\n",
       "2     Ali        E    70\n",
       "3    Veli        E    60\n",
       "4  Burhan        E    80\n",
       "5   Orhan        E    70\n",
       "6    Elif        K   100"
      ]
     },
     "execution_count": 57,
     "metadata": {},
     "output_type": "execute_result"
    }
   ],
   "source": [
    "df.tail() # sondan 5 tanesi"
   ]
  },
  {
   "cell_type": "code",
   "execution_count": 58,
   "id": "0a8ec347-92bd-4352-a728-9cac17541288",
   "metadata": {},
   "outputs": [
    {
     "name": "stdout",
     "output_type": "stream",
     "text": [
      "<class 'pandas.core.frame.DataFrame'>\n",
      "RangeIndex: 7 entries, 0 to 6\n",
      "Data columns (total 3 columns):\n",
      " #   Column    Non-Null Count  Dtype \n",
      "---  ------    --------------  ----- \n",
      " 0   Ad        7 non-null      object\n",
      " 1   Cinsiyet  7 non-null      object\n",
      " 2   Puan      7 non-null      int64 \n",
      "dtypes: int64(1), object(2)\n",
      "memory usage: 300.0+ bytes\n"
     ]
    }
   ],
   "source": [
    "df.info()"
   ]
  },
  {
   "cell_type": "code",
   "execution_count": 59,
   "id": "2daed9d1-ec45-45da-aef0-4632cc68dc61",
   "metadata": {},
   "outputs": [
    {
     "data": {
      "text/html": [
       "<div>\n",
       "<style scoped>\n",
       "    .dataframe tbody tr th:only-of-type {\n",
       "        vertical-align: middle;\n",
       "    }\n",
       "\n",
       "    .dataframe tbody tr th {\n",
       "        vertical-align: top;\n",
       "    }\n",
       "\n",
       "    .dataframe thead th {\n",
       "        text-align: right;\n",
       "    }\n",
       "</style>\n",
       "<table border=\"1\" class=\"dataframe\">\n",
       "  <thead>\n",
       "    <tr style=\"text-align: right;\">\n",
       "      <th></th>\n",
       "      <th>Puan</th>\n",
       "    </tr>\n",
       "  </thead>\n",
       "  <tbody>\n",
       "    <tr>\n",
       "      <th>count</th>\n",
       "      <td>7.000000</td>\n",
       "    </tr>\n",
       "    <tr>\n",
       "      <th>mean</th>\n",
       "      <td>78.571429</td>\n",
       "    </tr>\n",
       "    <tr>\n",
       "      <th>std</th>\n",
       "      <td>13.451854</td>\n",
       "    </tr>\n",
       "    <tr>\n",
       "      <th>min</th>\n",
       "      <td>60.000000</td>\n",
       "    </tr>\n",
       "    <tr>\n",
       "      <th>25%</th>\n",
       "      <td>70.000000</td>\n",
       "    </tr>\n",
       "    <tr>\n",
       "      <th>50%</th>\n",
       "      <td>80.000000</td>\n",
       "    </tr>\n",
       "    <tr>\n",
       "      <th>75%</th>\n",
       "      <td>85.000000</td>\n",
       "    </tr>\n",
       "    <tr>\n",
       "      <th>max</th>\n",
       "      <td>100.000000</td>\n",
       "    </tr>\n",
       "  </tbody>\n",
       "</table>\n",
       "</div>"
      ],
      "text/plain": [
       "             Puan\n",
       "count    7.000000\n",
       "mean    78.571429\n",
       "std     13.451854\n",
       "min     60.000000\n",
       "25%     70.000000\n",
       "50%     80.000000\n",
       "75%     85.000000\n",
       "max    100.000000"
      ]
     },
     "execution_count": 59,
     "metadata": {},
     "output_type": "execute_result"
    }
   ],
   "source": [
    "df.describe()"
   ]
  },
  {
   "cell_type": "code",
   "execution_count": 65,
   "id": "9ccaa1ae-a361-4a74-bcc5-ba16eb717cdf",
   "metadata": {},
   "outputs": [
    {
     "data": {
      "text/html": [
       "<div>\n",
       "<style scoped>\n",
       "    .dataframe tbody tr th:only-of-type {\n",
       "        vertical-align: middle;\n",
       "    }\n",
       "\n",
       "    .dataframe tbody tr th {\n",
       "        vertical-align: top;\n",
       "    }\n",
       "\n",
       "    .dataframe thead th {\n",
       "        text-align: right;\n",
       "    }\n",
       "</style>\n",
       "<table border=\"1\" class=\"dataframe\">\n",
       "  <thead>\n",
       "    <tr style=\"text-align: right;\">\n",
       "      <th></th>\n",
       "      <th>Ad</th>\n",
       "      <th>Cinsiyet</th>\n",
       "      <th>Puan</th>\n",
       "    </tr>\n",
       "  </thead>\n",
       "  <tbody>\n",
       "    <tr>\n",
       "      <th>0</th>\n",
       "      <td>İrem</td>\n",
       "      <td>K</td>\n",
       "      <td>90</td>\n",
       "    </tr>\n",
       "  </tbody>\n",
       "</table>\n",
       "</div>"
      ],
      "text/plain": [
       "     Ad Cinsiyet  Puan\n",
       "0  İrem        K    90"
      ]
     },
     "execution_count": 65,
     "metadata": {},
     "output_type": "execute_result"
    }
   ],
   "source": [
    "df[0:1] # satır"
   ]
  },
  {
   "cell_type": "code",
   "execution_count": 66,
   "id": "e34f125b-f21d-4308-a08f-4bea443e14d7",
   "metadata": {},
   "outputs": [
    {
     "data": {
      "text/html": [
       "<div>\n",
       "<style scoped>\n",
       "    .dataframe tbody tr th:only-of-type {\n",
       "        vertical-align: middle;\n",
       "    }\n",
       "\n",
       "    .dataframe tbody tr th {\n",
       "        vertical-align: top;\n",
       "    }\n",
       "\n",
       "    .dataframe thead th {\n",
       "        text-align: right;\n",
       "    }\n",
       "</style>\n",
       "<table border=\"1\" class=\"dataframe\">\n",
       "  <thead>\n",
       "    <tr style=\"text-align: right;\">\n",
       "      <th></th>\n",
       "      <th>Ad</th>\n",
       "      <th>Cinsiyet</th>\n",
       "      <th>Puan</th>\n",
       "    </tr>\n",
       "  </thead>\n",
       "  <tbody>\n",
       "    <tr>\n",
       "      <th>0</th>\n",
       "      <td>İrem</td>\n",
       "      <td>K</td>\n",
       "      <td>90</td>\n",
       "    </tr>\n",
       "    <tr>\n",
       "      <th>1</th>\n",
       "      <td>Murat</td>\n",
       "      <td>E</td>\n",
       "      <td>80</td>\n",
       "    </tr>\n",
       "  </tbody>\n",
       "</table>\n",
       "</div>"
      ],
      "text/plain": [
       "      Ad Cinsiyet  Puan\n",
       "0   İrem        K    90\n",
       "1  Murat        E    80"
      ]
     },
     "execution_count": 66,
     "metadata": {},
     "output_type": "execute_result"
    }
   ],
   "source": [
    "df[0:2] # satır"
   ]
  },
  {
   "cell_type": "code",
   "execution_count": 67,
   "id": "d5c75b2e-1a88-4499-9076-d2bcfdba16dc",
   "metadata": {},
   "outputs": [
    {
     "data": {
      "text/plain": [
       "0     İrem\n",
       "1    Murat\n",
       "Name: Ad, dtype: object"
      ]
     },
     "execution_count": 67,
     "metadata": {},
     "output_type": "execute_result"
    }
   ],
   "source": [
    "df['Ad'][0:2] #sadece Ad sütunu seç ve iki satırı al"
   ]
  },
  {
   "cell_type": "code",
   "execution_count": 68,
   "id": "edcc86ba-acd9-418a-b87e-85ea987b7866",
   "metadata": {},
   "outputs": [
    {
     "data": {
      "text/plain": [
       "7"
      ]
     },
     "execution_count": 68,
     "metadata": {},
     "output_type": "execute_result"
    }
   ],
   "source": [
    "len(df)"
   ]
  },
  {
   "cell_type": "code",
   "execution_count": 69,
   "id": "c860c867-36e2-452b-9c62-7deb94dbdd60",
   "metadata": {},
   "outputs": [
    {
     "data": {
      "text/plain": [
       "0     i̇rem\n",
       "1     murat\n",
       "2       ali\n",
       "3      veli\n",
       "4    burhan\n",
       "5     orhan\n",
       "6      elif\n",
       "Name: Ad, dtype: object"
      ]
     },
     "execution_count": 69,
     "metadata": {},
     "output_type": "execute_result"
    }
   ],
   "source": [
    "df['Ad']=df['Ad'].str.lower()\n",
    "df['Ad']"
   ]
  }
 ],
 "metadata": {
  "kernelspec": {
   "display_name": "Python 3 (ipykernel)",
   "language": "python",
   "name": "python3"
  },
  "language_info": {
   "codemirror_mode": {
    "name": "ipython",
    "version": 3
   },
   "file_extension": ".py",
   "mimetype": "text/x-python",
   "name": "python",
   "nbconvert_exporter": "python",
   "pygments_lexer": "ipython3",
   "version": "3.12.4"
  }
 },
 "nbformat": 4,
 "nbformat_minor": 5
}
