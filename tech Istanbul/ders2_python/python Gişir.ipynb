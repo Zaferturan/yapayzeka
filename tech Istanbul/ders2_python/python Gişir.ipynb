{
 "cells": [
  {
   "cell_type": "markdown",
   "id": "ab8eebb3-5709-4af1-a80e-a40694e31993",
   "metadata": {},
   "source": [
    "## Python"
   ]
  },
  {
   "cell_type": "markdown",
   "id": "db0e6f51-b679-4446-9715-2ff68821ed57",
   "metadata": {},
   "source": [
    "## Python Giriş\n",
    "Bu bölümde python a grişi yapacağız"
   ]
  },
  {
   "cell_type": "markdown",
   "id": "04bca951-b9fb-4d3d-9db8-4dca9c0ecf32",
   "metadata": {},
   "source": [
    "## Python Giriş Bu bölümde python a grişi yapacağız"
   ]
  },
  {
   "cell_type": "code",
   "execution_count": 1,
   "id": "3dfc2d50-9617-4c2f-bb2f-a1fad1b8eccf",
   "metadata": {},
   "outputs": [
    {
     "name": "stdout",
     "output_type": "stream",
     "text": [
      "merhaba dünya\n"
     ]
    }
   ],
   "source": [
    "print('merhaba dünya')"
   ]
  },
  {
   "cell_type": "markdown",
   "id": "044ac7e4-ed4d-4557-9649-590a903b1d92",
   "metadata": {},
   "source": [
    "## Komut satırı kullanımı"
   ]
  },
  {
   "cell_type": "code",
   "execution_count": 2,
   "id": "88e20911-2eb7-44de-983d-6bcc94b7c29d",
   "metadata": {},
   "outputs": [
    {
     "name": "stdout",
     "output_type": "stream",
     "text": [
      " Volume in drive C has no label.\n",
      " Volume Serial Number is FA4D-FC98\n",
      "\n",
      " Directory of C:\\Users\\zaferturan\\zafer_projeler\\ders1_veri_setleri\n",
      "\n",
      "27.06.2024  14:08    <DIR>          .\n",
      "27.06.2024  14:08    <DIR>          ..\n",
      "27.06.2024  12:32    <DIR>          .ipynb_checkpoints\n",
      "27.06.2024  12:14               500 client_list - client_list.csv\n",
      "27.06.2024  12:15            55.964 corona_dat - corona_dat.csv\n",
      "27.06.2024  14:08             3.062 python GiŸir.ipynb\n",
      "27.06.2024  12:15           133.660 supermarket - supermarket.csv\n",
      "27.06.2024  12:30    <DIR>          titanic\n",
      "27.06.2024  12:23               617 Untitled.ipynb\n",
      "               5 File(s)        193.803 bytes\n",
      "               4 Dir(s)  216.145.809.408 bytes free\n"
     ]
    }
   ],
   "source": [
    "ls"
   ]
  },
  {
   "cell_type": "code",
   "execution_count": 12,
   "id": "90cafb6d-f9d6-426b-a277-07e868a5a6ea",
   "metadata": {},
   "outputs": [
    {
     "name": "stdout",
     "output_type": "stream",
     "text": [
      "1\n",
      "\n",
      "\n",
      "\n",
      "\n",
      "\n",
      "\n",
      "\n",
      "\n",
      "\n",
      "2\n"
     ]
    }
   ],
   "source": [
    "print('1\\n\\n\\n\\n\\n\\n\\n\\n\\n\\n2')"
   ]
  },
  {
   "cell_type": "code",
   "execution_count": 2,
   "id": "5363d20d-eb68-475f-ac77-a126065239f4",
   "metadata": {},
   "outputs": [
    {
     "data": {
      "text/plain": [
       "'deneme'"
      ]
     },
     "execution_count": 2,
     "metadata": {},
     "output_type": "execute_result"
    }
   ],
   "source": [
    "\"\"\"deneme\"\"\""
   ]
  },
  {
   "cell_type": "code",
   "execution_count": 13,
   "id": "8d346da4-5790-4bdf-8351-48884e80d213",
   "metadata": {
    "scrolled": true
   },
   "outputs": [
    {
     "data": {
      "text/plain": [
       "'\\nyorum\\nsatırı\\n\\n'"
      ]
     },
     "execution_count": 13,
     "metadata": {},
     "output_type": "execute_result"
    }
   ],
   "source": [
    "\"\"\"\n",
    "yorum\n",
    "satırı\n",
    "\n",
    "\"\"\""
   ]
  },
  {
   "cell_type": "code",
   "execution_count": 25,
   "id": "0ad93ddd-5596-4483-b57d-f33250b5aabc",
   "metadata": {},
   "outputs": [
    {
     "data": {
      "text/plain": [
       "<function print(*args, sep=' ', end='\\n', file=None, flush=False)>"
      ]
     },
     "execution_count": 25,
     "metadata": {},
     "output_type": "execute_result"
    }
   ],
   "source": [
    "print"
   ]
  },
  {
   "cell_type": "code",
   "execution_count": null,
   "id": "be1c94aa-81c8-4de2-8aa4-3cec4c047506",
   "metadata": {},
   "outputs": [],
   "source": []
  }
 ],
 "metadata": {
  "kernelspec": {
   "display_name": "Python 3 (ipykernel)",
   "language": "python",
   "name": "python3"
  },
  "language_info": {
   "codemirror_mode": {
    "name": "ipython",
    "version": 3
   },
   "file_extension": ".py",
   "mimetype": "text/x-python",
   "name": "python",
   "nbconvert_exporter": "python",
   "pygments_lexer": "ipython3",
   "version": "3.12.4"
  }
 },
 "nbformat": 4,
 "nbformat_minor": 5
}
